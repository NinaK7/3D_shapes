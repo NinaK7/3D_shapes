{
 "cells": [
  {
   "cell_type": "markdown",
   "metadata": {
    "id": "xpfb2g6H_IhW"
   },
   "source": [
    "# Deep Learning : 3D shapes\n",
    "\n",
    "\n"
   ]
  },
  {
   "cell_type": "markdown",
   "metadata": {
    "id": "CnUiRjYV_ciM"
   },
   "source": [
    "## Imports"
   ]
  },
  {
   "cell_type": "code",
   "execution_count": 1,
   "metadata": {
    "executionInfo": {
     "elapsed": 2527,
     "status": "ok",
     "timestamp": 1674142974322,
     "user": {
      "displayName": "Lucas Palazzolo",
      "userId": "17314445009769713077"
     },
     "user_tz": -60
    },
    "id": "gsytSGUVMTlZ"
   },
   "outputs": [
    {
     "name": "stderr",
     "output_type": "stream",
     "text": [
      "2023-02-03 15:00:05.870668: I tensorflow/core/platform/cpu_feature_guard.cc:193] This TensorFlow binary is optimized with oneAPI Deep Neural Network Library (oneDNN) to use the following CPU instructions in performance-critical operations:  AVX2 FMA\n",
      "To enable them in other operations, rebuild TensorFlow with the appropriate compiler flags.\n"
     ]
    }
   ],
   "source": [
    "import numpy as np\n",
    "import os\n",
    "import tensorflow as tf\n",
    "import pandas as pd\n",
    "import matplotlib.pyplot as plt\n",
    "np.set_printoptions(linewidth=500,precision=2,suppress=True)\n",
    "import time\n",
    "from mpl_toolkits.axes_grid1 import make_axes_locatable\n",
    "from sklearn.metrics import mean_squared_error\n",
    "\n",
    "\n",
    "from IPython.display import clear_output"
   ]
  },
  {
   "cell_type": "code",
   "execution_count": null,
   "metadata": {},
   "outputs": [],
   "source": []
  },
  {
   "cell_type": "markdown",
   "metadata": {
    "id": "C1sUlu6d_jVB"
   },
   "source": [
    "## Utils"
   ]
  },
  {
   "cell_type": "code",
   "execution_count": 2,
   "metadata": {
    "executionInfo": {
     "elapsed": 19,
     "status": "ok",
     "timestamp": 1674142974323,
     "user": {
      "displayName": "Lucas Palazzolo",
      "userId": "17314445009769713077"
     },
     "user_tz": -60
    },
    "id": "HDikhyfjGG3s"
   },
   "outputs": [],
   "source": [
    "def progression(i, n):\n",
    "    i += 1\n",
    "    k = int(i/n*20)\n",
    "    print(f'\\rProgression:[{k*\"#\"}{(20-k)*\" \"}] [{(i/n*100):.0f} %]',\n",
    "          end='' if i != n else \"\\n\", flush=True)"
   ]
  },
  {
   "cell_type": "code",
   "execution_count": 3,
   "metadata": {
    "executionInfo": {
     "elapsed": 19,
     "status": "ok",
     "timestamp": 1674142974323,
     "user": {
      "displayName": "Lucas Palazzolo",
      "userId": "17314445009769713077"
     },
     "user_tz": -60
    },
    "id": "_j__f4mtP3Xk"
   },
   "outputs": [],
   "source": [
    "def plot_loss_acc(history):\n",
    "\n",
    "    fig, axs = plt.subplots(1,2,figsize=(15,4))\n",
    "    axs[0].set_title(\"Loss\")\n",
    "    axs[0].plot(history.history['loss'], label='loss')\n",
    "    axs[0].plot(history.history['val_loss'], label='val_loss')\n",
    "    axs[0].set_xlabel('Epoch #')\n",
    "    axs[0].legend()\n",
    "\n",
    "    axs[1].set_title(\"Accuracy\")\n",
    "    axs[1].plot(history.history['accuracy'], label='accuracy')\n",
    "    axs[1].plot(history.history['val_accuracy'], label='val_accuracy')\n",
    "    axs[1].set_xlabel('Epoch #')\n",
    "    axs[1].legend();"
   ]
  },
  {
   "cell_type": "code",
   "execution_count": 4,
   "metadata": {
    "executionInfo": {
     "elapsed": 18,
     "status": "ok",
     "timestamp": 1674142974323,
     "user": {
      "displayName": "Lucas Palazzolo",
      "userId": "17314445009769713077"
     },
     "user_tz": -60
    },
    "id": "y-kzcAiWH_kd"
   },
   "outputs": [],
   "source": [
    "def plot_test_pred(Y_test, Y_pred, titles) :\n",
    "\n",
    "    n = Y_pred.shape[-1]\n",
    "\n",
    "    \n",
    "\n",
    "    if n<=2 :\n",
    "      if n == 2 :\n",
    "        fig, axs = plt.subplots(1,2, figsize=(7*n,4))\n",
    "        for i in range(n) :\n",
    "            axs[i].set_title(titles[i])\n",
    "            axs[i].scatter(Y_test[:,i], Y_pred[:,i], alpha=0.1)\n",
    "            abscisse=np.linspace(0,np.max(Y_test[:,i]),1000)\n",
    "            axs[i].plot(abscisse, abscisse, 'k')\n",
    "            axs[i].set_xlabel('Test')\n",
    "            axs[i].set_ylabel('Pred')\n",
    "      if n== 1 :\n",
    "          fig, axs = plt.subplots(1,1, figsize=(10,4))\n",
    "          axs.set_title(titles[0])\n",
    "          axs.scatter(Y_test[:,0], Y_pred[:,0], alpha=0.1)\n",
    "          abscisse=np.linspace(0,np.max(Y_test[:,0]),1000)\n",
    "          axs.plot(abscisse, abscisse, 'k')\n",
    "          axs.set_xlabel('Test')\n",
    "          axs.set_ylabel('Pred')\n",
    "\n",
    "    else :\n",
    "      fig, axs = plt.subplots( (n+1)//2,2, figsize=(14, 3*n))\n",
    "      for i in range(n) :\n",
    "          axs[i//2, i%2].set_title(titles[i])\n",
    "          axs[i//2, i%2].scatter(Y_test[:,i], Y_pred[:,i], alpha=0.1)\n",
    "          abscisse=np.linspace(0,np.max(Y_test[:,i]),1000)\n",
    "          axs[i//2, i%2].plot(abscisse, abscisse, 'k')\n",
    "          axs[i//2, i%2].set_xlabel('Test')\n",
    "          axs[i//2, i%2].set_ylabel('Pred')\n",
    "    plt.tight_layout();"
   ]
  },
  {
   "cell_type": "code",
   "execution_count": 5,
   "metadata": {
    "executionInfo": {
     "elapsed": 18,
     "status": "ok",
     "timestamp": 1674142974323,
     "user": {
      "displayName": "Lucas Palazzolo",
      "userId": "17314445009769713077"
     },
     "user_tz": -60
    },
    "id": "GdJA0aoeSQOb"
   },
   "outputs": [],
   "source": [
    "def plot_test_pred_corr(Y_test, Y_pred, titles, Corr, corr_label) :\n",
    "\n",
    "    n = Y_pred.shape[-1]\n",
    "\n",
    "    if n<=2 :\n",
    "        if n == 2 :\n",
    "            fig, axs = plt.subplots(1,2, figsize=(7*n,4))\n",
    "            for i in range(n) :\n",
    "                axs[i].set_title(titles[i])\n",
    "                im = axs[i].scatter(Y_test[:,i],Y_pred[:,i],c=Corr,edgecolors=None,alpha=0.7,marker='o',cmap='jet')\n",
    "                abscisse=np.linspace(0,np.max(Y_test[:,i]),1000)\n",
    "                axs[i].plot(abscisse, abscisse, 'k')\n",
    "                axs[i].set_xlabel('Test')\n",
    "                xs[i].set_ylabel('Pred')\n",
    "                divider = make_axes_locatable(axs)\n",
    "                cax = divider.append_axes('right', size='5%', pad=0.05)\n",
    "                fig.colorbar(im, cax=cax, orientation='vertical', label=corr_label)\n",
    "                \n",
    "        if n== 1 :\n",
    "            fig, axs = plt.subplots(1,1, figsize=(10,4))\n",
    "            axs.set_title(titles[0])\n",
    "            im = axs.scatter(Y_test[:,0],Y_pred[:,0],c=Corr,edgecolors=None,alpha=0.7,marker='o',cmap='jet')\n",
    "            abscisse=np.linspace(0,np.max(Y_test[:,0]),1000)\n",
    "            axs.plot(abscisse, abscisse, 'k')\n",
    "            axs.set_xlabel('Test')\n",
    "            axs.set_ylabel('Pred')\n",
    "            divider = make_axes_locatable(axs)\n",
    "            cax = divider.append_axes('right', size='5%', pad=0.05)\n",
    "            fig.colorbar(im, cax=cax, orientation='vertical', label=corr_label)\n",
    "    else :\n",
    "        fig, axs = plt.subplots( (n+1)//2,2, figsize=(14, 3*n))\n",
    "        for i in range(n) :\n",
    "            xs[i//2, i%2].set_title(titles[i])\n",
    "            im = axs[i//2, i%2].scatter(Y_test[:,i],Y_pred[:,i],c=Corr,edgecolors=None,alpha=0.7,marker='o',cmap='jet')\n",
    "            abscisse=np.linspace(0,np.max(Y_test[:,i]),1000)\n",
    "            axs[i//2, i%2].plot(abscisse, abscisse, 'k')\n",
    "            axs[i//2, i%2].set_xlabel('Test')\n",
    "            axs[i//2, i%2].set_ylabel('Pred')\n",
    "            divider = make_axes_locatable(axs[i//2, i%2])\n",
    "            cax = divider.append_axes('right', size='5%', pad=0.05)\n",
    "            fig.colorbar(im, cax=cax, orientation='vertical', label=corr_label)\n",
    "    plt.tight_layout();"
   ]
  },
  {
   "cell_type": "markdown",
   "metadata": {
    "id": "4y_4i-qm_6YF"
   },
   "source": [
    "## Data"
   ]
  },
  {
   "cell_type": "markdown",
   "metadata": {
    "id": "W4z7rMkL_9XC"
   },
   "source": [
    "### Import"
   ]
  },
  {
   "cell_type": "code",
   "execution_count": 6,
   "metadata": {
    "executionInfo": {
     "elapsed": 18,
     "status": "ok",
     "timestamp": 1674142974324,
     "user": {
      "displayName": "Lucas Palazzolo",
      "userId": "17314445009769713077"
     },
     "user_tz": -60
    },
    "id": "QjZXlZrWAM6_"
   },
   "outputs": [],
   "source": [
    "catalog='../Data/ImageCat.txt'\n",
    "filename=np.genfromtxt(catalog,skip_header=1,dtype='U60',usecols=0)\n",
    "data=np.genfromtxt(catalog,skip_header =1, usecols=[1,2,3,4,5,6,7])  #filename\tlog(M/M_sun)\tr_2/kpc\tn\tq=b/a\tp=c/b\tphi/pi\ttheta/pi"
   ]
  },
  {
   "cell_type": "code",
   "execution_count": 7,
   "metadata": {
    "colab": {
     "base_uri": "https://localhost:8080/"
    },
    "executionInfo": {
     "elapsed": 18,
     "status": "ok",
     "timestamp": 1674142974324,
     "user": {
      "displayName": "Lucas Palazzolo",
      "userId": "17314445009769713077"
     },
     "user_tz": -60
    },
    "id": "ZH7Vz0fgA6zW",
    "outputId": "394029d2-1c91-4d6f-a1d8-545d6afeb172"
   },
   "outputs": [
    {
     "data": {
      "text/plain": [
       "((10120, 7), array([10.  ,  0.1 ,  1.01,  0.19,  0.38,  0.46,  0.29]))"
      ]
     },
     "execution_count": 7,
     "metadata": {},
     "output_type": "execute_result"
    }
   ],
   "source": [
    "data.shape, data[0,:]"
   ]
  },
  {
   "cell_type": "markdown",
   "metadata": {
    "id": "I5wDkWcMAAUp"
   },
   "source": [
    "### Treatment"
   ]
  },
  {
   "cell_type": "code",
   "execution_count": 8,
   "metadata": {
    "executionInfo": {
     "elapsed": 15,
     "status": "ok",
     "timestamp": 1674142974325,
     "user": {
      "displayName": "Lucas Palazzolo",
      "userId": "17314445009769713077"
     },
     "user_tz": -60
    },
    "id": "SxnzhaNPKAxg"
   },
   "outputs": [],
   "source": [
    "logM = np.copy(data[:,0])\n",
    "R    = np.copy(data[:,1])\n",
    "n    = np.copy(data[:,2])\n",
    "q    = np.copy(data[:,3])\n",
    "p    = np.copy(data[:,4])\n",
    "phi  = np.copy(data[:,5])\n",
    "theta= np.copy(data[:,6])\n",
    "\n",
    "R4  = R/4.\n",
    "n10 = n/10."
   ]
  },
  {
   "cell_type": "code",
   "execution_count": 9,
   "metadata": {
    "colab": {
     "base_uri": "https://localhost:8080/"
    },
    "executionInfo": {
     "elapsed": 15,
     "status": "ok",
     "timestamp": 1674142974326,
     "user": {
      "displayName": "Lucas Palazzolo",
      "userId": "17314445009769713077"
     },
     "user_tz": -60
    },
    "id": "iYpRm58PKx2b",
    "outputId": "e716530b-ab76-4ca3-cb7a-abda624092da"
   },
   "outputs": [
    {
     "data": {
      "text/plain": [
       "((10120, 6), dtype('float32'))"
      ]
     },
     "execution_count": 9,
     "metadata": {},
     "output_type": "execute_result"
    }
   ],
   "source": [
    "Y = np.stack([R4, n10, q, p, phi, theta],axis=1)\n",
    "Y = Y.astype('float32')\n",
    "\n",
    "Y_without_norm = np.stack([R, n, q, p, phi, theta],axis=1)\n",
    "Y_without_norm = Y_without_norm.astype('float32')\n",
    "Y.shape, Y.dtype"
   ]
  },
  {
   "cell_type": "code",
   "execution_count": 10,
   "metadata": {
    "colab": {
     "base_uri": "https://localhost:8080/"
    },
    "executionInfo": {
     "elapsed": 12,
     "status": "ok",
     "timestamp": 1674142974326,
     "user": {
      "displayName": "Lucas Palazzolo",
      "userId": "17314445009769713077"
     },
     "user_tz": -60
    },
    "id": "QQqCPbGYFNAO",
    "outputId": "41a3bb68-4d2d-44b2-da6d-9dbb1ee0e7d2"
   },
   "outputs": [
    {
     "data": {
      "text/plain": [
       "(100, 100)"
      ]
     },
     "execution_count": 10,
     "metadata": {},
     "output_type": "execute_result"
    }
   ],
   "source": [
    "D1 = np.load('../Data/IMAGE/'+ filename[1])['imT']\n",
    "D1.shape"
   ]
  },
  {
   "cell_type": "code",
   "execution_count": 11,
   "metadata": {
    "colab": {
     "base_uri": "https://localhost:8080/"
    },
    "executionInfo": {
     "elapsed": 8914,
     "status": "ok",
     "timestamp": 1674142983231,
     "user": {
      "displayName": "Lucas Palazzolo",
      "userId": "17314445009769713077"
     },
     "user_tz": -60
    },
    "id": "DiY5WhMMAbqX",
    "outputId": "33b496f2-0dd4-4729-85cb-ed2d9535332b"
   },
   "outputs": [
    {
     "name": "stdout",
     "output_type": "stream",
     "text": [
      "The catalog comprises 10120 galaxies\n"
     ]
    }
   ],
   "source": [
    "size = Y.shape[0] \n",
    "Y = Y[:size]\n",
    "D=np.zeros((size,D1.shape[0],D1.shape[0],1)) \n",
    "for i in range(size):\n",
    "\n",
    "    Di=np.load('../Data/IMAGE/'+ filename[i])  \n",
    "    imTi=np.log10(Di['imT'])\n",
    "    imTi_min=imTi[imTi>0.].min()\n",
    "    imTi_max=np.amax(imTi)\n",
    "    imTi[imTi<0.]=imTi_min\n",
    "    D[i,:,:,0]=imTi\n",
    "\n",
    "D = D.astype('float32') \n",
    "\n",
    "\n",
    "ngal=np.shape(D)[0]\n",
    "print(\"The catalog comprises %i galaxies\"%ngal)"
   ]
  },
  {
   "cell_type": "markdown",
   "metadata": {
    "id": "5gQQoZEJCNnO"
   },
   "source": [
    "### Plot one galaxy"
   ]
  },
  {
   "cell_type": "code",
   "execution_count": 12,
   "metadata": {
    "colab": {
     "base_uri": "https://localhost:8080/",
     "height": 285
    },
    "executionInfo": {
     "elapsed": 12,
     "status": "ok",
     "timestamp": 1674142983231,
     "user": {
      "displayName": "Lucas Palazzolo",
      "userId": "17314445009769713077"
     },
     "user_tz": -60
    },
    "id": "VErdTnb1CRW6",
    "outputId": "36d1e7e5-87e5-46b9-d289-3378c877ffdc"
   },
   "outputs": [
    {
     "name": "stdout",
     "output_type": "stream",
     "text": [
      "[0.04 0.19 0.23 0.12 0.35 0.33]\n"
     ]
    },
    {
     "data": {
      "image/png": "[encoded data removed]",
      "text/plain": [
       "<Figure size 432x288 with 1 Axes>"
      ]
     },
     "metadata": {
      "needs_background": "light"
     },
     "output_type": "display_data"
    }
   ],
   "source": [
    "i=1000\n",
    "print(Y[i,:])\n",
    "plt.imshow(D[i,:,:,0]) \n",
    "plt.show()\n"
   ]
  },
  {
   "cell_type": "markdown",
   "metadata": {
    "id": "Zl-MTs3SFjxM"
   },
   "source": [
    "### Spherical"
   ]
  },
  {
   "cell_type": "code",
   "execution_count": 15,
   "metadata": {
    "colab": {
     "base_uri": "https://localhost:8080/"
    },
    "executionInfo": {
     "elapsed": 422874,
     "status": "ok",
     "timestamp": 1674143406099,
     "user": {
      "displayName": "Lucas Palazzolo",
      "userId": "17314445009769713077"
     },
     "user_tz": -60
    },
    "id": "ACrjz6WlFntc",
    "outputId": "6489e6d0-5c74-409c-9630-00bf95c67f16"
   },
   "outputs": [],
   "source": [
    "rho0 = 1\n",
    "ngal = len(n)\n",
    "#Rc = 1\n",
    "\n",
    "sigma = np.zeros((ngal, 100, 100))\n",
    "\n",
    "x = np.linspace(-1, 1, 100)\n",
    "y = np.linspace(-1, 1, 100)\n",
    "z = np.linspace(-1, 1, 100)\n",
    "\n",
    "X_, Y_ = np.meshgrid(x, y) \n",
    "\n",
    "for i in range(ngal) :\n",
    "    progression(i,ngal)\n",
    "    for j in range(100) :\n",
    "        sigma[i][:][:] = sigma[i][:][:] + rho0 * np.exp( -2*n[i] * (np.sqrt(X_**2 + Y_**2 + z[j]**2)/R[i])**(1/n[i]) )"
   ]
  },
  {
   "cell_type": "code",
   "execution_count": 16,
   "metadata": {
    "executionInfo": {
     "elapsed": 15,
     "status": "ok",
     "timestamp": 1674143406099,
     "user": {
      "displayName": "Lucas Palazzolo",
      "userId": "17314445009769713077"
     },
     "user_tz": -60
    },
    "id": "46eEJKAMF3bp"
   },
   "outputs": [],
   "source": [
    "sigma = sigma.astype('float32') \n",
    "sigma = sigma[:,:,:,None]"
   ]
  },
  {
   "cell_type": "code",
   "execution_count": 17,
   "metadata": {
    "colab": {
     "base_uri": "https://localhost:8080/",
     "height": 268
    },
    "executionInfo": {
     "elapsed": 1066,
     "status": "ok",
     "timestamp": 1674143407162,
     "user": {
      "displayName": "Lucas Palazzolo",
      "userId": "17314445009769713077"
     },
     "user_tz": -60
    },
    "id": "y3uvJ4peUbtP",
    "outputId": "31918aa7-8d95-4a72-cd8a-08161773d5b5"
   },
   "outputs": [
    {
     "data": {
      "image/png": "[encoded data removed]",
      "text/plain": [
       "<Figure size 432x288 with 2 Axes>"
      ]
     },
     "metadata": {
      "needs_background": "light"
     },
     "output_type": "display_data"
    }
   ],
   "source": [
    "fig, ax = plt.subplots()\n",
    "im=plt.imshow(sigma[90,:,:,0], aspect = 'auto')\n",
    "plt.colorbar(im)\n",
    "plt.show()"
   ]
  },
  {
   "cell_type": "markdown",
   "metadata": {
    "id": "SyhYXSBG_1qQ"
   },
   "source": [
    "## Trainers"
   ]
  },
  {
   "cell_type": "code",
   "execution_count": 13,
   "metadata": {
    "executionInfo": {
     "elapsed": 17,
     "status": "ok",
     "timestamp": 1674143407164,
     "user": {
      "displayName": "Lucas Palazzolo",
      "userId": "17314445009769713077"
     },
     "user_tz": -60
    },
    "id": "OxCfvS615YG6"
   },
   "outputs": [],
   "source": [
    "def R_2(y, y_pred):\n",
    "    residual = tf.reduce_sum((y - y_pred)**2)\n",
    "    total = tf.reduce_sum((y - tf.reduce_mean(y))**2)\n",
    "    return 1.0 -residual / (total+1e-6)"
   ]
  },
  {
   "cell_type": "code",
   "execution_count": 14,
   "metadata": {
    "executionInfo": {
     "elapsed": 17,
     "status": "ok",
     "timestamp": 1674143407165,
     "user": {
      "displayName": "Lucas Palazzolo",
      "userId": "17314445009769713077"
     },
     "user_tz": -60
    },
    "id": "EyLMByzTv5c0"
   },
   "outputs": [],
   "source": [
    "def R_abs(y, y_pred): #Score pour la regression\n",
    "    residual = tf.reduce_sum(tf.abs(y - y_pred))\n",
    "    total = tf.reduce_sum(tf.abs(y - tf.reduce_mean(y)))\n",
    "    return tf.clip_by_value(1.0 - residual / (total+1e-6),-2,1)"
   ]
  },
  {
   "cell_type": "code",
   "execution_count": 15,
   "metadata": {
    "executionInfo": {
     "elapsed": 17,
     "status": "ok",
     "timestamp": 1674143407166,
     "user": {
      "displayName": "Lucas Palazzolo",
      "userId": "17314445009769713077"
     },
     "user_tz": -60
    },
    "id": "J_P4epd2-jVB"
   },
   "outputs": [],
   "source": [
    "class Trainer :\n",
    "\n",
    "    def __init__(self, X, Y, model, batch_size, learning_rate=1e-3) :\n",
    "\n",
    "        self.model=model\n",
    "        self.batch_size = batch_size\n",
    "\n",
    "        l=len(X)\n",
    "        train_size = int(0.7 * l)\n",
    "        val_size = int(0.15 * l)\n",
    "\n",
    "        self.X_train = X[:train_size]\n",
    "        self.X_val   = X[train_size:train_size+val_size]\n",
    "        self.X_test  = X[train_size+val_size:]\n",
    "\n",
    "        self.Y_train = Y[:train_size]\n",
    "        self.Y_val   = Y[train_size:train_size+val_size]\n",
    "        self.Y_test  = Y[train_size+val_size:]\n",
    "\n",
    "        self.data_train=tf.data.Dataset.from_tensor_slices((self.X_train,self.Y_train)).batch(batch_size)\n",
    "        self.data_val=tf.data.Dataset.from_tensor_slices((self.X_val,self.Y_val)).batch(batch_size)\n",
    "        self.data_test=tf.data.Dataset.from_tensor_slices((self.X_test,self.Y_test)).batch(batch_size)\n",
    "\n",
    "        self.optimizer = tf.keras.optimizers.Adam(learning_rate)\n",
    "        self.loss_fn= lambda y_true, y_pred : tf.reduce_mean((y_true-y_pred)**2)   \n",
    "        self.acc_fn=R_2\n",
    "\n",
    "        self.epoch = -1\n",
    "        self.step = -1\n",
    "\n",
    "        self.val_step_ind=[]\n",
    "        self.train_losses = []\n",
    "        self.train_acc    = []\n",
    "        self.val_losses = []\n",
    "        self.val_acc    = []\n",
    "\n",
    "    \n",
    "\n",
    "\n",
    "    @tf.function\n",
    "    def train_step(self,x,y):\n",
    "\n",
    "        with tf.GradientTape() as tape:\n",
    "            pred = self.model(x,training=True)\n",
    "            loss = self.loss_fn(y,pred)\n",
    "\n",
    "        acc = self.acc_fn(y, pred)\n",
    "        gradients = tape.gradient(loss, self.model.trainable_variables)\n",
    "        self.optimizer.apply_gradients(zip(gradients, self.model.trainable_variables))\n",
    "\n",
    "        return loss, acc\n",
    "\n",
    "      \n",
    "    \n",
    "    def train(self, minutes) :\n",
    "\n",
    "        start = time.time()\n",
    "\n",
    "        try:\n",
    "            OK=True\n",
    "            while OK :\n",
    "                self.epoch+=1 \n",
    "                for x,y in self.data_train :\n",
    "                    self.step+=1\n",
    "\n",
    "                    loss, acc = self.train_step(x,y)\n",
    "                    loss = loss.numpy()\n",
    "                    acc = acc.numpy()\n",
    "                    self.train_losses.append(loss)\n",
    "                    self.train_acc.append(acc)\n",
    "\n",
    "                \n",
    "                \n",
    "                OK = (time.time() - start) < minutes*60\n",
    "                \n",
    "            \n",
    "                self.validation()\n",
    "\n",
    "        except KeyboardInterrupt :\n",
    "            pass\n",
    "        \n",
    "        self.validation()\n",
    "        print(f\"nombre d'époque réalisée : {self.epoch}\")\n",
    "        fig, (ax0,ax1) = plt.subplots(2, 1, sharex=\"all\")\n",
    "        ax0.plot(self.train_losses,label=\"train_loss\")\n",
    "        ax0.plot(self.val_step_ind,self.val_losses,label=\"val_loss\")\n",
    "        ax0.set_yscale(\"log\")\n",
    "        ax0.legend()\n",
    "\n",
    "        ax1.plot(self.val_step_ind,self.val_acc,label=\"val_step\")\n",
    "        ax1.legend()\n",
    "        plt.show()\n",
    "    \n",
    "\n",
    "    def validation(self) :\n",
    "\n",
    "        los,acs=[],[]\n",
    "        for x,y in self.data_val:\n",
    "            pred = self.model(x, training = False)\n",
    "            val_loss = self.loss_fn(y, pred)\n",
    "            val_acc = self.acc_fn(y, pred)\n",
    "            los.append(val_loss.numpy())\n",
    "            acs.append(val_acc.numpy())\n",
    "      \n",
    "        Los, Acs = np.mean(los),np.mean(acs)\n",
    "        \n",
    "\n",
    "        self.val_losses.append(Los)\n",
    "        self.val_acc.append(Acs)\n",
    "        self.val_step_ind.append(self.step)\n",
    "\n",
    "        if len(self.val_losses)> 1 and val_loss <= max(self.val_losses) :\n",
    "            self.best_weights = self.model.get_weights\n",
    "        \n",
    "\n",
    "        clear_output(wait=True)\n",
    "        print(f\"Validation: step:{self.step}, val_loss:{val_loss:.3f}, val_acc:{val_acc:.3f}\")\n",
    "    \n",
    "\n",
    "\n",
    "    def test(self):\n",
    "        if self.best_weights is not None:\n",
    "            self.model.set_weights(self.best_weights)\n",
    "        \n",
    "\n",
    "        los,acs=[],[]\n",
    "        for x,y in self.data_test:\n",
    "            pred = self.model(x, training = False)\n",
    "            val_loss = self.loss_fn(y, pred)\n",
    "            val_acc = self.acc_fn(y, pred)\n",
    "            los.append(val_loss.numpy())\n",
    "            acs.append(val_acc.numpy())\n",
    "        \n",
    "        test_loss, test_acc =np.mean(los),np.mean(acs)\n",
    "        print(f\"Test_loss:{test_loss:.5f}, test_acc:{test_acc:.3f}\")\n",
    "\n",
    "        return test_acc\n",
    "        \n",
    "\n",
    "\n"
   ]
  },
  {
   "cell_type": "code",
   "execution_count": 16,
   "metadata": {
    "colab": {
     "base_uri": "https://localhost:8080/",
     "height": 300
    },
    "executionInfo": {
     "elapsed": 12379,
     "status": "ok",
     "timestamp": 1674136280511,
     "user": {
      "displayName": "Lucas Palazzolo",
      "userId": "17314445009769713077"
     },
     "user_tz": -60
    },
    "id": "eaYIabhR1oQd",
    "outputId": "6679772d-9812-4d1c-8fc4-cd4bc5c6bc37"
   },
   "outputs": [
    {
     "name": "stdout",
     "output_type": "stream",
     "text": [
      "Validation: step:11954, val_loss:0.000, val_acc:1.000\n",
      "nombre d'époque réalisée : 3984\n"
     ]
    },
    {
     "data": {
      "image/png": "[encoded data removed]",
      "text/plain": [
       "<Figure size 432x288 with 2 Axes>"
      ]
     },
     "metadata": {
      "needs_background": "light"
     },
     "output_type": "display_data"
    }
   ],
   "source": [
    "#Test the trainer with regression\n",
    "def test_regression():\n",
    "    X=tf.random.uniform([100,10,1])\n",
    "    Y=tf.ones([100,1])\n",
    "    model=tf.keras.Sequential([tf.keras.layers.Flatten(),tf.keras.layers.Dense(1)])\n",
    "    trainer=Trainer(X,Y,model,batch_size=32)\n",
    "    trainer.train(0.5)\n",
    "\n",
    "test_regression()"
   ]
  },
  {
   "cell_type": "markdown",
   "metadata": {
    "id": "eKNIxtDy_syG"
   },
   "source": [
    "## Models"
   ]
  },
  {
   "cell_type": "markdown",
   "metadata": {
    "id": "rtHCfCm4_u2r"
   },
   "source": [
    "### Model 1 : Convolution"
   ]
  },
  {
   "cell_type": "code",
   "execution_count": 17,
   "metadata": {
    "executionInfo": {
     "elapsed": 16,
     "status": "ok",
     "timestamp": 1674143407167,
     "user": {
      "displayName": "Lucas Palazzolo",
      "userId": "17314445009769713077"
     },
     "user_tz": -60
    },
    "id": "gFuY1gLGl_hb"
   },
   "outputs": [],
   "source": [
    "class Model1(tf.keras.Model):\n",
    "\n",
    "    def __init__(self, dimout):\n",
    "        super().__init__()\n",
    "        self.layer1=tf.keras.layers.Conv2D(32, kernel_size=3, activation='relu', padding='same')\n",
    "        #self.dropout1=tf.keras.layers.Dropout(0.25)\n",
    "        self.layer2=tf.keras.layers.Conv2D(64, kernel_size=3, activation='relu', padding='same')\n",
    "        self.layer3=tf.keras.layers.Conv2D(128, kernel_size=3, activation='relu', padding='same')\n",
    "        self.layer4=tf.keras.layers.Conv2D(64, kernel_size=3, activation='relu', padding='same')\n",
    "        self.layer5=tf.keras.layers.Conv2D(32, kernel_size=3, activation='relu', padding='same')\n",
    "\n",
    "        self.flatten=tf.keras.layers.Flatten()\n",
    "        self.dense1=tf.keras.layers.Dense(1024,activation='relu')\n",
    "        self.dense2=tf.keras.layers.Dense(512,activation='relu')\n",
    "        self.dense3=tf.keras.layers.Dense(dimout)\n",
    "        print(f\"Dim out = {dimout}\")\n",
    "\n",
    "        self.max_pool=tf.keras.layers.MaxPooling2D(pool_size=(2, 2))\n",
    "\n",
    "\n",
    "    @tf.function\n",
    "    def call(self,X,training=True):\n",
    "\n",
    "        out=self.layer1(X)\n",
    "        #out=self.dropout1(out, training)\n",
    "        out=self.max_pool(out)\n",
    "        out=self.layer2(out)\n",
    "        out=self.max_pool(out)\n",
    "        out=self.layer3(out)\n",
    "        out=self.max_pool(out)\n",
    "        out=self.layer4(out)\n",
    "        out=self.max_pool(out)\n",
    "        out=self.layer5(out)\n",
    "        out=self.max_pool(out)\n",
    "\n",
    "        out=self.flatten(out)\n",
    "\n",
    "        out=self.dense1(out)\n",
    "        out=self.dense2(out)\n",
    "        \n",
    "        return self.dense3(out)\n",
    "\n"
   ]
  },
  {
   "cell_type": "code",
   "execution_count": 18,
   "metadata": {
    "colab": {
     "base_uri": "https://localhost:8080/"
    },
    "executionInfo": {
     "elapsed": 2813,
     "status": "ok",
     "timestamp": 1674143409965,
     "user": {
      "displayName": "Lucas Palazzolo",
      "userId": "17314445009769713077"
     },
     "user_tz": -60
    },
    "id": "dqC2zsJket5e",
    "outputId": "0816c20b-e181-471d-8186-4ec3d4e7974b"
   },
   "outputs": [
    {
     "name": "stdout",
     "output_type": "stream",
     "text": [
      "Dim out = 1\n"
     ]
    },
    {
     "data": {
      "text/plain": [
       "TensorShape([20, 1])"
      ]
     },
     "execution_count": 18,
     "metadata": {},
     "output_type": "execute_result"
    }
   ],
   "source": [
    "model1_test = Model1(1)\n",
    "model1_test(tf.ones((20,64,64,1))).shape"
   ]
  },
  {
   "cell_type": "code",
   "execution_count": 19,
   "metadata": {
    "colab": {
     "base_uri": "https://localhost:8080/"
    },
    "executionInfo": {
     "elapsed": 72,
     "status": "ok",
     "timestamp": 1674143409967,
     "user": {
      "displayName": "Lucas Palazzolo",
      "userId": "17314445009769713077"
     },
     "user_tz": -60
    },
    "id": "60BjlidAfr8y",
    "outputId": "eb9864c8-b280-42c0-9479-0469d25b83cb"
   },
   "outputs": [
    {
     "name": "stdout",
     "output_type": "stream",
     "text": [
      "Model: \"model1\"\n",
      "_________________________________________________________________\n",
      " Layer (type)                Output Shape              Param #   \n",
      "=================================================================\n",
      " conv2d (Conv2D)             multiple                  320       \n",
      "                                                                 \n",
      " conv2d_1 (Conv2D)           multiple                  18496     \n",
      "                                                                 \n",
      " conv2d_2 (Conv2D)           multiple                  73856     \n",
      "                                                                 \n",
      " conv2d_3 (Conv2D)           multiple                  73792     \n",
      "                                                                 \n",
      " conv2d_4 (Conv2D)           multiple                  18464     \n",
      "                                                                 \n",
      " flatten_1 (Flatten)         multiple                  0         \n",
      "                                                                 \n",
      " dense_1 (Dense)             multiple                  132096    \n",
      "                                                                 \n",
      " dense_2 (Dense)             multiple                  524800    \n",
      "                                                                 \n",
      " dense_3 (Dense)             multiple                  513       \n",
      "                                                                 \n",
      " max_pooling2d (MaxPooling2D  multiple                 0         \n",
      " )                                                               \n",
      "                                                                 \n",
      "=================================================================\n",
      "Total params: 842,337\n",
      "Trainable params: 842,337\n",
      "Non-trainable params: 0\n",
      "_________________________________________________________________\n"
     ]
    }
   ],
   "source": [
    "model1_test.summary()"
   ]
  },
  {
   "cell_type": "markdown",
   "metadata": {
    "id": "cGLjGHBbTd0C"
   },
   "source": [
    "### Model 2 : Unet"
   ]
  },
  {
   "cell_type": "code",
   "execution_count": 24,
   "metadata": {
    "executionInfo": {
     "elapsed": 38,
     "status": "ok",
     "timestamp": 1674143409968,
     "user": {
      "displayName": "Lucas Palazzolo",
      "userId": "17314445009769713077"
     },
     "user_tz": -60
    },
    "id": "j1KEX0fUTioi"
   },
   "outputs": [],
   "source": [
    "class Unet_4levels:\n",
    "    \n",
    "    def __init__(self,depth, dimout):\n",
    "        self.depth=depth\n",
    "        self.flatten=tf.keras.layers.Flatten()\n",
    "        self.dense1=tf.keras.layers.Dense(2048,activation='relu')\n",
    "        self.dense2=tf.keras.layers.Dense(1024,activation='relu')\n",
    "        self.dense3=tf.keras.layers.Dense(dimout)\n",
    "        print(f\"Dim out = {dimout}\")\n",
    "                        \n",
    "    def twoConvolutions(self, Y, depth,name):         \n",
    "        Y = tf.keras.layers.Conv2D(depth, 5, activation=\"relu\", padding='same',name=name+\"_A\")(Y)       \n",
    "        Y = tf.keras.layers.Conv2D(depth, 5, activation=\"relu\", padding='same',name=name+\"_B\")(Y)\n",
    "        return Y\n",
    "  \n",
    "    def construct(self,inputs):\n",
    "\n",
    "        conv_1 = self.twoConvolutions(inputs,self.depth,name=\"conv_1\")   \n",
    "\n",
    "        down_1 = tf.keras.layers.MaxPooling2D(name=\"down_1\")(conv_1)              \n",
    "        conv_2 = self.twoConvolutions(down_1,self.depth*2,name=\"conv_2\") \n",
    "\n",
    "        down_2 = tf.keras.layers.MaxPooling2D(name=\"down_2\")(conv_2)              \n",
    "        conv_3 = self.twoConvolutions(down_2,self.depth*4,name=\"conv_3\") \n",
    "\n",
    "        up_1 = tf.keras.layers.UpSampling2D(name=\"up_1\")(conv_3)\n",
    "        Y = tf.keras.layers.concatenate([conv_2, up_1], axis=3)\n",
    "        conv_4 = self.twoConvolutions(Y, self.depth*2, name=\"conv_4\")\n",
    "\n",
    "        up_2 =  tf.keras.layers.UpSampling2D(name=\"up_2\")(conv_4)                 \n",
    "        Y = tf.keras.layers.concatenate([conv_1, up_2], axis=3)                   \n",
    "        conv_5 = self.twoConvolutions(Y,self.depth,name=\"conv_5\")   \n",
    "\n",
    "        out = self.flatten(conv_5)\n",
    "\n",
    "        #down_3 = tf.keras.layers.MaxPooling2D(name=\"down_3\")(conv_3)             \n",
    "        #conv_4 = self.twoConvolutions(down_3,self.depth*8,name=\"conv_4\") \n",
    "\n",
    "        #up_1 =  tf.keras.layers.UpSampling2D(name=\"up_1\")(conv_4)               \n",
    "        #Y = tf.keras.layers.concatenate([conv_3, up_1], axis=3)                   \n",
    "        #conv_5 = self.twoConvolutions(Y,self.depth*4,name=\"conv_5\")      \n",
    "\n",
    "        #up_2 =  tf.keras.layers.UpSampling2D(name=\"up_2\")(conv_5)                 \n",
    "        #Y = tf.keras.layers.concatenate([conv_2, up_2], axis=3)                   \n",
    "        #conv_6 = self.twoConvolutions(Y,self.depth*2,name=\"conv_6\")      \n",
    "\n",
    "        #up_3 =  tf.keras.layers.UpSampling2D(name=\"up_3\")(conv_6)                 \n",
    "        #Y = tf.keras.layers.concatenate([conv_1, up_3], axis=3)                   \n",
    "        #conv_7 = self.twoConvolutions(Y,self.depth,name=\"conv_7\")   \n",
    "        \n",
    "        #out=self.flatten(conv_7)\n",
    "\n",
    "        out=self.dense1(out)\n",
    "        out=self.dense2(out)\n",
    "        \n",
    "        return self.dense3(out)\n",
    "\n"
   ]
  },
  {
   "cell_type": "code",
   "execution_count": 19,
   "metadata": {
    "executionInfo": {
     "elapsed": 43,
     "status": "ok",
     "timestamp": 1674143409974,
     "user": {
      "displayName": "Lucas Palazzolo",
      "userId": "17314445009769713077"
     },
     "user_tz": -60
    },
    "id": "tr7nkwYHzx1y"
   },
   "outputs": [],
   "source": [
    "def make_Unet_4levels(width,dimout, window_width, nb_input):\n",
    "    uNet=Unet_4levels(width, dimout)\n",
    "    inputs= tf.keras.Input(shape=(window_width, window_width, nb_input))\n",
    "    outputs= uNet.construct(inputs)\n",
    "    model = tf.keras.Model(inputs=inputs, outputs=outputs)\n",
    "    return model"
   ]
  },
  {
   "cell_type": "code",
   "execution_count": 20,
   "metadata": {
    "colab": {
     "base_uri": "https://localhost:8080/"
    },
    "executionInfo": {
     "elapsed": 820,
     "status": "ok",
     "timestamp": 1674143410752,
     "user": {
      "displayName": "Lucas Palazzolo",
      "userId": "17314445009769713077"
     },
     "user_tz": -60
    },
    "id": "SlUhCwDb0PWZ",
    "outputId": "a05cdb98-0621-4b3a-c116-00a710b0157a"
   },
   "outputs": [
    {
     "name": "stdout",
     "output_type": "stream",
     "text": [
      "Dim out = 1\n",
      "Model: \"model\"\n",
      "__________________________________________________________________________________________________\n",
      " Layer (type)                   Output Shape         Param #     Connected to                     \n",
      "==================================================================================================\n",
      " input_1 (InputLayer)           [(None, 100, 100, 1  0           []                               \n",
      "                                )]                                                                \n",
      "                                                                                                  \n",
      " conv_1_A (Conv2D)              (None, 100, 100, 1)  26          ['input_1[0][0]']                \n",
      "                                                                                                  \n",
      " conv_1_B (Conv2D)              (None, 100, 100, 1)  26          ['conv_1_A[0][0]']               \n",
      "                                                                                                  \n",
      " down_1 (MaxPooling2D)          (None, 50, 50, 1)    0           ['conv_1_B[0][0]']               \n",
      "                                                                                                  \n",
      " conv_2_A (Conv2D)              (None, 50, 50, 2)    52          ['down_1[0][0]']                 \n",
      "                                                                                                  \n",
      " conv_2_B (Conv2D)              (None, 50, 50, 2)    102         ['conv_2_A[0][0]']               \n",
      "                                                                                                  \n",
      " down_2 (MaxPooling2D)          (None, 25, 25, 2)    0           ['conv_2_B[0][0]']               \n",
      "                                                                                                  \n",
      " conv_3_A (Conv2D)              (None, 25, 25, 4)    204         ['down_2[0][0]']                 \n",
      "                                                                                                  \n",
      " conv_3_B (Conv2D)              (None, 25, 25, 4)    404         ['conv_3_A[0][0]']               \n",
      "                                                                                                  \n",
      " up_1 (UpSampling2D)            (None, 50, 50, 4)    0           ['conv_3_B[0][0]']               \n",
      "                                                                                                  \n",
      " concatenate (Concatenate)      (None, 50, 50, 6)    0           ['conv_2_B[0][0]',               \n",
      "                                                                  'up_1[0][0]']                   \n",
      "                                                                                                  \n",
      " conv_4_A (Conv2D)              (None, 50, 50, 2)    302         ['concatenate[0][0]']            \n",
      "                                                                                                  \n",
      " conv_4_B (Conv2D)              (None, 50, 50, 2)    102         ['conv_4_A[0][0]']               \n",
      "                                                                                                  \n",
      " up_2 (UpSampling2D)            (None, 100, 100, 2)  0           ['conv_4_B[0][0]']               \n",
      "                                                                                                  \n",
      " concatenate_1 (Concatenate)    (None, 100, 100, 3)  0           ['conv_1_B[0][0]',               \n",
      "                                                                  'up_2[0][0]']                   \n",
      "                                                                                                  \n",
      " conv_5_A (Conv2D)              (None, 100, 100, 1)  76          ['concatenate_1[0][0]']          \n",
      "                                                                                                  \n",
      " conv_5_B (Conv2D)              (None, 100, 100, 1)  26          ['conv_5_A[0][0]']               \n",
      "                                                                                                  \n",
      " flatten_1 (Flatten)            (None, 10000)        0           ['conv_5_B[0][0]']               \n",
      "                                                                                                  \n",
      " dense_3 (Dense)                (None, 2048)         20482048    ['flatten_1[0][0]']              \n",
      "                                                                                                  \n",
      " dense_4 (Dense)                (None, 1024)         2098176     ['dense_3[0][0]']                \n",
      "                                                                                                  \n",
      " dense_5 (Dense)                (None, 1)            1025        ['dense_4[0][0]']                \n",
      "                                                                                                  \n",
      "==================================================================================================\n",
      "Total params: 22,582,569\n",
      "Trainable params: 22,582,569\n",
      "Non-trainable params: 0\n",
      "__________________________________________________________________________________________________\n"
     ]
    }
   ],
   "source": [
    "#données fictives\n",
    "nb_input=1\n",
    "window_width=100\n",
    "\n",
    "model=make_Unet_4levels(1,1,window_width, nb_input)\n",
    "\n",
    "model.summary()"
   ]
  },
  {
   "cell_type": "markdown",
   "metadata": {
    "id": "YORWmrUhTlui"
   },
   "source": [
    "## Tests"
   ]
  },
  {
   "cell_type": "code",
   "execution_count": 27,
   "metadata": {
    "executionInfo": {
     "elapsed": 57,
     "status": "ok",
     "timestamp": 1674143410754,
     "user": {
      "displayName": "Lucas Palazzolo",
      "userId": "17314445009769713077"
     },
     "user_tz": -60
    },
    "id": "nrqb5bPhChRm"
   },
   "outputs": [],
   "source": [
    "#créer une fonction avec fit dedans et le nom du checkpoint_filepath"
   ]
  },
  {
   "cell_type": "code",
   "execution_count": 19,
   "metadata": {
    "executionInfo": {
     "elapsed": 56,
     "status": "ok",
     "timestamp": 1674143410755,
     "user": {
      "displayName": "Lucas Palazzolo",
      "userId": "17314445009769713077"
     },
     "user_tz": -60
    },
    "id": "7ghxFKrCCFW5"
   },
   "outputs": [],
   "source": [
    "checkpoint_filepath = '/tmp/checkpoint'\n",
    "model_checkpoint_callback = tf.keras.callbacks.ModelCheckpoint(\n",
    "    filepath=checkpoint_filepath,\n",
    "    save_weights_only=True,\n",
    "    monitor='val_loss',\n",
    "    mode='min',\n",
    "    save_best_only=True)"
   ]
  },
  {
   "cell_type": "code",
   "execution_count": 20,
   "metadata": {
    "colab": {
     "base_uri": "https://localhost:8080/",
     "height": 285
    },
    "executionInfo": {
     "elapsed": 57,
     "status": "ok",
     "timestamp": 1674143410756,
     "user": {
      "displayName": "Lucas Palazzolo",
      "userId": "17314445009769713077"
     },
     "user_tz": -60
    },
    "id": "DOwfJ9QdDFb-",
    "outputId": "40060190-a5fb-4f12-c03f-8e36155b3f63"
   },
   "outputs": [
    {
     "name": "stdout",
     "output_type": "stream",
     "text": [
      "[0.14 0.58 0.15 0.18 0.27 0.28]\n"
     ]
    },
    {
     "data": {
      "image/png": "[encoded data removed]",
      "text/plain": [
       "<Figure size 432x288 with 1 Axes>"
      ]
     },
     "metadata": {
      "needs_background": "light"
     },
     "output_type": "display_data"
    }
   ],
   "source": [
    "#Relancer plusieurs fois la cellule pour voir que l'on permute aléatoirement les données\n",
    "shuffle= np.arange(D.shape[0])\n",
    "np.random.shuffle(shuffle)\n",
    "\n",
    "Y = Y[shuffle]\n",
    "D = D[shuffle]\n",
    "#sigma = sigma[shuffle]\n",
    "\n",
    "print(Y[100])\n",
    "plt.imshow(D[100,:,:,0]);"
   ]
  },
  {
   "cell_type": "code",
   "execution_count": 21,
   "metadata": {
    "colab": {
     "base_uri": "https://localhost:8080/"
    },
    "executionInfo": {
     "elapsed": 40,
     "status": "ok",
     "timestamp": 1674143410757,
     "user": {
      "displayName": "Lucas Palazzolo",
      "userId": "17314445009769713077"
     },
     "user_tz": -60
    },
    "id": "5H6TcxQUU0sH",
    "outputId": "cadbbc35-4c9a-444e-9867-b3932db67a2d"
   },
   "outputs": [],
   "source": [
    "res_data = pd.DataFrame()\n",
    "\n",
    "l = len(D)\n",
    "train_size = int(0.7 * l)\n",
    "val_size = int(0.15 * l)\n",
    "\n",
    "X_train = D[:train_size]\n",
    "#X_spher_train = sigma[:train_size]\n",
    "Y_train = Y[:train_size]\n",
    "Y_train_without_norm = Y_without_norm[:train_size]\n",
    "\n",
    "X_val = D[train_size:train_size+val_size]\n",
    "#X_spher_val = sigma[train_size:train_size+val_size]\n",
    "Y_val = Y[train_size:train_size+val_size]\n",
    "Y_val_without_norm = Y_without_norm[train_size:train_size+val_size]\n",
    "\n",
    "X_test = D[train_size+val_size:]\n",
    "#X_spher_test = sigma[train_size+val_size:]\n",
    "Y_test = Y[train_size+val_size:]\n",
    "Y_test_without_norm = Y_without_norm[train_size+val_size:]\n",
    "\n",
    "#Y_train.shape, Y_val.shape, Y_test.shape, X_spher_train.shape, X_train.shape, X_spher_val.shape"
   ]
  },
  {
   "cell_type": "markdown",
   "metadata": {
    "id": "dMsR-yRVon7H"
   },
   "source": [
    "### Parameter n"
   ]
  },
  {
   "cell_type": "markdown",
   "metadata": {
    "id": "ANcPfyu7pTM-"
   },
   "source": [
    "#### With normalization"
   ]
  },
  {
   "cell_type": "markdown",
   "metadata": {
    "id": "LmxmcBCZKLja"
   },
   "source": [
    "##### Initial"
   ]
  },
  {
   "cell_type": "code",
   "execution_count": 22,
   "metadata": {
    "colab": {
     "base_uri": "https://localhost:8080/"
    },
    "executionInfo": {
     "elapsed": 9,
     "status": "ok",
     "timestamp": 1674142388326,
     "user": {
      "displayName": "Lucas Palazzolo",
      "userId": "17314445009769713077"
     },
     "user_tz": -60
    },
    "id": "GfFqWXXii8If",
    "outputId": "298586d1-bd71-4cbd-f931-4e62e6e7597c"
   },
   "outputs": [
    {
     "data": {
      "text/plain": [
       "((7084, 1), (1518, 1), (1518, 1))"
      ]
     },
     "execution_count": 22,
     "metadata": {},
     "output_type": "execute_result"
    }
   ],
   "source": [
    "Y_train_n = Y_train[:,1]\n",
    "Y_train_n = Y_train_n[:, None]\n",
    "\n",
    "Y_val_n = Y_val[:, 1]\n",
    "Y_val_n = Y_val_n[:, None]\n",
    "\n",
    "Y_test_n = Y_test[:, 1]\n",
    "Y_test_n = Y_test_n[:, None]\n",
    "\n",
    "Y_train_n.shape, Y_val_n.shape, Y_test_n.shape"
   ]
  },
  {
   "cell_type": "code",
   "execution_count": null,
   "metadata": {
    "colab": {
     "base_uri": "https://localhost:8080/"
    },
    "executionInfo": {
     "elapsed": 202644,
     "status": "ok",
     "timestamp": 1674142591383,
     "user": {
      "displayName": "Lucas Palazzolo",
      "userId": "17314445009769713077"
     },
     "user_tz": -60
    },
    "id": "9TumG_krl07x",
    "outputId": "b86f9f86-5f71-42ae-e488-a46953e730e6"
   },
   "outputs": [],
   "source": [
    "model1 = Model1(1)\n",
    "\n",
    "model1.compile(\n",
    "    optimizer=tf.optimizers.Adam(1e-3),\n",
    "    loss = tf.keras.losses.MeanSquaredError(),\n",
    "    metrics = ['accuracy'] )\n",
    "\n",
    "batch_size = 64\n",
    "nb_epoch = 100\n",
    "\n",
    "history = model1.fit(X_train, Y_train_n,\n",
    "    batch_size = batch_size, \n",
    "    epochs=nb_epoch,\n",
    "    validation_data=(X_val, Y_val_n),\n",
    "    callbacks=[model_checkpoint_callback])\n",
    "\n",
    "\n",
    "model1.load_weights(checkpoint_filepath)\n",
    "\n",
    "\n",
    "# Save the weights\n",
    "model1.save_weights('./checkpoints/my_checkpoint')"
   ]
  },
  {
   "cell_type": "raw",
   "metadata": {},
   "source": [
    "#Uncomment to load already trained network\n",
    "# Create a new model instance\n",
    "model1 = Model1(1)\n",
    "\n",
    "# Restore the weights\n",
    "model1.load_weights('./checkpoints/my_checkpoint')\n",
    "model1.compile(\n",
    "    optimizer=tf.optimizers.Adam(1e-3),\n",
    "    loss = tf.keras.losses.MeanSquaredError(),\n",
    "    metrics = ['accuracy'] )\n",
    "\n",
    "# Evaluate the model\n",
    "loss, acc = model1.evaluate(X_train, Y_train_n, verbose=2)\n",
    "print(\"Restored model, accuracy: {:5.2f}%\".format(100 * acc))"
   ]
  },
  {
   "cell_type": "code",
   "execution_count": 30,
   "metadata": {
    "colab": {
     "base_uri": "https://localhost:8080/",
     "height": 295
    },
    "executionInfo": {
     "elapsed": 20,
     "status": "ok",
     "timestamp": 1674142591384,
     "user": {
      "displayName": "Lucas Palazzolo",
      "userId": "17314445009769713077"
     },
     "user_tz": -60
    },
    "id": "J1EgBwNgh-1O",
    "outputId": "3031df96-2910-4990-dbeb-fc372da74818"
   },
   "outputs": [],
   "source": [
    "plot_loss_acc(history)"
   ]
  },
  {
   "cell_type": "code",
   "execution_count": 31,
   "metadata": {
    "colab": {
     "base_uri": "https://localhost:8080/"
    },
    "executionInfo": {
     "elapsed": 2620,
     "status": "ok",
     "timestamp": 1674142593989,
     "user": {
      "displayName": "Lucas Palazzolo",
      "userId": "17314445009769713077"
     },
     "user_tz": -60
    },
    "id": "XlE6cwOAsYit",
    "outputId": "a4f0571a-bd4a-422e-c3c6-6f787853d4f1"
   },
   "outputs": [
    {
     "data": {
      "text/plain": [
       "TensorShape([1518, 1])"
      ]
     },
     "execution_count": 31,
     "metadata": {},
     "output_type": "execute_result"
    }
   ],
   "source": [
    "Y_pred_n = model1(X_test)\n",
    "Y_pred_n.shape"
   ]
  },
  {
   "cell_type": "code",
   "execution_count": 36,
   "metadata": {
    "colab": {
     "base_uri": "https://localhost:8080/",
     "height": 297
    },
    "executionInfo": {
     "elapsed": 22,
     "status": "ok",
     "timestamp": 1674142593991,
     "user": {
      "displayName": "Lucas Palazzolo",
      "userId": "17314445009769713077"
     },
     "user_tz": -60
    },
    "id": "iyOrqkdesiAQ",
    "outputId": "b2bdce9c-fe2c-4f8d-dc14-175189c4bc5d"
   },
   "outputs": [
    {
     "data": {
      "image/png": "[encoded data removed]",
      "text/plain": [
       "<Figure size 720x288 with 1 Axes>"
      ]
     },
     "metadata": {
      "needs_background": "light"
     },
     "output_type": "display_data"
    }
   ],
   "source": [
    "plot_test_pred(Y_test_n, Y_pred_n, [\"n\"])\n",
    "#plt.savefig('pred_n.png', dpi=100)"
   ]
  },
  {
   "cell_type": "markdown",
   "metadata": {},
   "source": [
    "##### Test on trained NN with noisy data"
   ]
  },
  {
   "cell_type": "code",
   "execution_count": 32,
   "metadata": {},
   "outputs": [],
   "source": [
    "import random\n",
    "\n",
    "def noisy_data(data, SNR) :\n",
    "    data_noisy = np.copy(data)\n",
    "    for i in range(data.shape[0]) :\n",
    "        max_int = np.max(data[i])\n",
    "        noise = np.random.normal(0, 1, (data.shape[1], data.shape[2]))\n",
    "        noise = noise / np.max(noise) * max_int/SNR\n",
    "        data_noisy[i] = data[i] + np.reshape(noise, (data.shape[1], data.shape[2],1))\n",
    "    return data_noisy\n",
    "    "
   ]
  },
  {
   "cell_type": "code",
   "execution_count": 35,
   "metadata": {},
   "outputs": [
    {
     "data": {
      "text/plain": [
       "TensorShape([1518, 1])"
      ]
     },
     "execution_count": 35,
     "metadata": {},
     "output_type": "execute_result"
    }
   ],
   "source": [
    "SNR = 10\n",
    "X_test_noisy = noisy_data(X_test, SNR)\n",
    "\n",
    "Y_pred_n_noisy = model1(X_test_noisy)\n",
    "Y_pred_n_noisy.shape"
   ]
  },
  {
   "cell_type": "code",
   "execution_count": 41,
   "metadata": {
    "scrolled": true
   },
   "outputs": [
    {
     "data": {
      "image/png": "[encoded data removed]",
      "text/plain": [
       "<Figure size 864x720 with 3 Axes>"
      ]
     },
     "metadata": {
      "needs_background": "light"
     },
     "output_type": "display_data"
    }
   ],
   "source": [
    "fig, ax =  plt.subplots(1,2, figsize = (12,10))\n",
    "\n",
    "im = ax[0].imshow(X_test[50,:,:,0])\n",
    "ax[0].set_title(\"Data (elliptical galaxies)\")\n",
    "\n",
    "im = ax[1].imshow(X_test_noisy[50,:,:,0])\n",
    "ax[1].set_title(\"Data + noise SNR = %s\"%(SNR))\n",
    "\n",
    "fig.colorbar(im, ax=ax, orientation='vertical', label='Light density',  shrink=0.45)\n",
    "\n",
    "#plt.savefig('images/noisy/comparison_data_SNR_10.png', dpi=100)"
   ]
  },
  {
   "cell_type": "code",
   "execution_count": 42,
   "metadata": {},
   "outputs": [
    {
     "data": {
      "text/plain": [
       "Text(0.1, 0.9, 'RMSE : 0.12')"
      ]
     },
     "execution_count": 42,
     "metadata": {},
     "output_type": "execute_result"
    },
    {
     "data": {
      "image/png": "[encoded data removed]",
      "text/plain": [
       "<Figure size 1368x360 with 3 Axes>"
      ]
     },
     "metadata": {
      "needs_background": "light"
     },
     "output_type": "display_data"
    }
   ],
   "source": [
    "fig, ax =  plt.subplots(1,2, figsize = (19,5))\n",
    "\n",
    "ax[0].set_title(\"Data (elliptical galaxies)\", size=12)\n",
    "im = ax[0].scatter(Y_test_n[:,0],Y_pred_n[:,0],c=Y_test[:,0],edgecolors=None,alpha=0.7,marker='.',cmap='jet')\n",
    "abscisse=np.linspace(0,np.max(Y_test_n[:,0]),1000)\n",
    "ax[0].plot(abscisse, abscisse, 'k')\n",
    "ax[0].set_xlabel('Test n', size=12)\n",
    "ax[0].set_ylabel('Predict n', size=12)\n",
    "fig.colorbar(im, ax=ax, orientation='vertical', label='R')\n",
    "ax[0].text(0.1, 0.9, 'RMSE : %s'%np.round(np.sqrt(mean_squared_error(Y_test_n, Y_pred_n)),2), fontsize=12,\n",
    "           bbox=dict(facecolor='grey', alpha=0.2))\n",
    "\n",
    "ax[1].set_title(\"Noisy data SNR = %s\"%SNR, size=12)\n",
    "im = ax[1].scatter(Y_test_n[:,0],Y_pred_n_noisy[:,0],c=Y_test[:,0],edgecolors=None,alpha=0.7,marker='.',cmap='jet')\n",
    "ax[1].plot(abscisse, abscisse, 'k')\n",
    "ax[1].set_xlabel('Test n', size=12)\n",
    "ax[1].set_ylabel('Predict n', size=12)\n",
    "ax[1].text(0.1, 0.9, 'RMSE : %s'%np.round(np.sqrt(mean_squared_error(Y_test_n, Y_pred_n_noisy)),2), fontsize=12,\n",
    "          bbox=dict(facecolor='grey', alpha=0.2))\n",
    "\n",
    "\n",
    "#plt.savefig('images/noisy/corr_comp_noisy_2.png',dpi=100)"
   ]
  },
  {
   "cell_type": "code",
   "execution_count": 98,
   "metadata": {},
   "outputs": [
    {
     "data": {
      "image/png": "[encoded data removed]",
      "text/plain": [
       "<Figure size 720x288 with 1 Axes>"
      ]
     },
     "metadata": {
      "needs_background": "light"
     },
     "output_type": "display_data"
    }
   ],
   "source": [
    "plot_test_pred(Y_test_n, Y_pred_n_noisy, [\"n\"])\n",
    "#plt.savefig('n_pred_noisy_SNR_50.png', dpi=100)"
   ]
  },
  {
   "cell_type": "markdown",
   "metadata": {},
   "source": [
    "#### Training on noisy data"
   ]
  },
  {
   "cell_type": "code",
   "execution_count": 44,
   "metadata": {},
   "outputs": [],
   "source": [
    "SNR = 5\n",
    "X_train_noisy = noisy_data(X_train, SNR)\n",
    "X_val_noisy = noisy_data(X_val, SNR)\n",
    "X_test_noisy = noisy_data(X_test, SNR)"
   ]
  },
  {
   "cell_type": "code",
   "execution_count": 45,
   "metadata": {},
   "outputs": [],
   "source": [
    "noisy_checkpoint_filepath = '/tmp/noisy_checkpoint_SNR_5'\n",
    "noisy_model_checkpoint_callback = tf.keras.callbacks.ModelCheckpoint(\n",
    "    filepath=noisy_checkpoint_filepath,\n",
    "    save_weights_only=True,\n",
    "    monitor='val_loss',\n",
    "    mode='min',\n",
    "    save_best_only=True)"
   ]
  },
  {
   "cell_type": "code",
   "execution_count": null,
   "metadata": {},
   "outputs": [],
   "source": [
    "model1_noisy = Model1(1)\n",
    "\n",
    "model1_noisy.compile(\n",
    "    optimizer=tf.optimizers.Adam(1e-3),\n",
    "    loss = tf.keras.losses.MeanSquaredError(),\n",
    "    metrics = ['accuracy'] )\n",
    "\n",
    "batch_size = 64\n",
    "nb_epoch = 50\n",
    "\n",
    "history = model1_noisy.fit(X_train_noisy, Y_train_n,\n",
    "    batch_size = batch_size, \n",
    "    epochs=nb_epoch,\n",
    "    validation_data=(X_val_noisy, Y_val_n),\n",
    "    callbacks=[noisy_model_checkpoint_callback])\n",
    "\n",
    "\n",
    "model1_noisy.load_weights(noisy_checkpoint_filepath)\n",
    "\n",
    "\n",
    "# Save the weights\n",
    "model1_noisy.save_weights('./noisy_checkpoints_SNR_5/my_noisy_checkpoint_5')"
   ]
  },
  {
   "cell_type": "code",
   "execution_count": 175,
   "metadata": {},
   "outputs": [
    {
     "data": {
      "image/png": "[encoded data removed]",
      "text/plain": [
       "<Figure size 1080x288 with 2 Axes>"
      ]
     },
     "metadata": {
      "needs_background": "light"
     },
     "output_type": "display_data"
    }
   ],
   "source": [
    "plot_loss_acc(history)\n",
    "#plt.savefig('history_noisy_training_SNR_5.png', dpi=100)"
   ]
  },
  {
   "cell_type": "code",
   "execution_count": 48,
   "metadata": {},
   "outputs": [],
   "source": [
    "Y_pred_n_noisy = model1_noisy(X_test_noisy)"
   ]
  },
  {
   "cell_type": "code",
   "execution_count": 49,
   "metadata": {},
   "outputs": [
    {
     "data": {
      "text/plain": [
       "<matplotlib.colorbar.Colorbar at 0x7f9eb1fea940>"
      ]
     },
     "execution_count": 49,
     "metadata": {},
     "output_type": "execute_result"
    },
    {
     "data": {
      "image/png": "[encoded data removed]",
      "text/plain": [
       "<Figure size 1152x360 with 3 Axes>"
      ]
     },
     "metadata": {
      "needs_background": "light"
     },
     "output_type": "display_data"
    }
   ],
   "source": [
    "fig, ax =  plt.subplots(1,2, figsize = (16,5))\n",
    "\n",
    "ax[0] = plt.subplot2grid((1, 2), (0, 0), colspan=1)\n",
    "ax[0].set_title(\"Non noisy data training\")\n",
    "im = ax[0].scatter(Y_test_n[:,0]*10,Y_pred_n[:,0]*10,c=Y_test[:,0]*4,edgecolors=None,alpha=0.7,marker='.',cmap='jet')\n",
    "abscisse=np.linspace(0,np.max(Y_test_n[:,0])*10,1000)\n",
    "ax[0].plot(abscisse, abscisse, 'k')\n",
    "ax[0].set_xlabel('Test n')\n",
    "ax[0].set_ylabel('Predict n')\n",
    "\n",
    "ax[1] = plt.subplot2grid((1, 2), (0, 1), colspan=1, sharey=ax[0])\n",
    "ax[1].set_title(\"Noisy data training SNR = %s\"%SNR)\n",
    "im = ax[1].scatter(Y_test_n[:,0]*10,Y_pred_n_noisy[:,0]*10,c=Y_test[:,0]*4,edgecolors=None,alpha=0.7,marker='.',cmap='jet')\n",
    "ax[1].plot(abscisse, abscisse, 'k')\n",
    "ax[1].set_xlabel('Test n')\n",
    "#ax[1].set_yticklabels([])\n",
    "\n",
    "plt.subplots_adjust(wspace=0)\n",
    "fig.colorbar(im, ax=ax, orientation='vertical', label='R')\n",
    "\n",
    "#plt.savefig('images/noisy/comp_noisy_data_train_5.png',dpi=100)"
   ]
  },
  {
   "cell_type": "markdown",
   "metadata": {
    "id": "m7xcXiQ4Kcm0"
   },
   "source": [
    "##### Spherical"
   ]
  },
  {
   "cell_type": "code",
   "execution_count": null,
   "metadata": {
    "colab": {
     "base_uri": "https://localhost:8080/"
    },
    "executionInfo": {
     "elapsed": 68,
     "status": "ok",
     "timestamp": 1674142597645,
     "user": {
      "displayName": "Lucas Palazzolo",
      "userId": "17314445009769713077"
     },
     "user_tz": -60
    },
    "id": "9IazcocnKe_6",
    "outputId": "79f41c52-bac3-4333-85e4-28665a4757df"
   },
   "outputs": [],
   "source": [
    "model1_spherical = Model1(1)\n",
    "\n",
    "model1_spherical.compile(\n",
    "    optimizer=tf.optimizers.Adam(1e-3),\n",
    "    loss = tf.keras.losses.MeanSquaredError(),\n",
    "    metrics = ['accuracy'] )"
   ]
  },
  {
   "cell_type": "code",
   "execution_count": null,
   "metadata": {
    "colab": {
     "base_uri": "https://localhost:8080/"
    },
    "executionInfo": {
     "elapsed": 140478,
     "status": "ok",
     "timestamp": 1674142738972,
     "user": {
      "displayName": "Lucas Palazzolo",
      "userId": "17314445009769713077"
     },
     "user_tz": -60
    },
    "id": "Mi_NBSkBKrvn",
    "outputId": "a064436e-9c1a-4284-9b4b-b87d04e58213"
   },
   "outputs": [],
   "source": [
    "batch_size = 64\n",
    "nb_epoch = 30\n",
    "\n",
    "history = model1_spherical.fit(X_spher_train, Y_train_n,\n",
    "    batch_size = batch_size, \n",
    "    epochs=nb_epoch,\n",
    "    validation_data=(X_spher_val, Y_val_n),\n",
    "    callbacks=[model_checkpoint_callback])\n",
    "\n",
    "\n",
    "model1_spherical.load_weights(checkpoint_filepath)"
   ]
  },
  {
   "cell_type": "code",
   "execution_count": null,
   "metadata": {
    "colab": {
     "base_uri": "https://localhost:8080/",
     "height": 295
    },
    "executionInfo": {
     "elapsed": 33,
     "status": "ok",
     "timestamp": 1674142738973,
     "user": {
      "displayName": "Lucas Palazzolo",
      "userId": "17314445009769713077"
     },
     "user_tz": -60
    },
    "id": "fj_4wiJvLz8C",
    "outputId": "fa2e2dd2-d11b-42c6-824c-6365ea56d364"
   },
   "outputs": [],
   "source": [
    "plot_loss_acc(history)"
   ]
  },
  {
   "cell_type": "code",
   "execution_count": null,
   "metadata": {
    "colab": {
     "base_uri": "https://localhost:8080/"
    },
    "executionInfo": {
     "elapsed": 29,
     "status": "ok",
     "timestamp": 1674142738974,
     "user": {
      "displayName": "Lucas Palazzolo",
      "userId": "17314445009769713077"
     },
     "user_tz": -60
    },
    "id": "No4-B8stL579",
    "outputId": "6afa9954-4454-457a-baab-d284da711493"
   },
   "outputs": [],
   "source": [
    "Y_pred_n_spherical = model1_spherical(X_spher_test)\n",
    "Y_pred_n_spherical.shape"
   ]
  },
  {
   "cell_type": "code",
   "execution_count": null,
   "metadata": {
    "colab": {
     "base_uri": "https://localhost:8080/",
     "height": 297
    },
    "executionInfo": {
     "elapsed": 1011,
     "status": "ok",
     "timestamp": 1674142739968,
     "user": {
      "displayName": "Lucas Palazzolo",
      "userId": "17314445009769713077"
     },
     "user_tz": -60
    },
    "id": "WAdpcHsvMCGX",
    "outputId": "15d1c633-b9e2-4dcd-adad-f162bcbdb8a0"
   },
   "outputs": [],
   "source": [
    "plot_test_pred(Y_test_n, Y_pred_n_spherical, [\"n\"])"
   ]
  },
  {
   "cell_type": "code",
   "execution_count": null,
   "metadata": {
    "colab": {
     "base_uri": "https://localhost:8080/",
     "height": 297
    },
    "executionInfo": {
     "elapsed": 31,
     "status": "ok",
     "timestamp": 1674142739970,
     "user": {
      "displayName": "Lucas Palazzolo",
      "userId": "17314445009769713077"
     },
     "user_tz": -60
    },
    "id": "pKQp2B6kYl6e",
    "outputId": "1ca281f4-0741-4691-87c3-2a5344621ae8"
   },
   "outputs": [],
   "source": [
    "plot_test_pred_corr(Y_test_n,Y_pred_n_spherical, [\"n corr with R\"], Y_test[:,0])"
   ]
  },
  {
   "cell_type": "markdown",
   "metadata": {
    "id": "tWp86rDCpg6y"
   },
   "source": [
    "#### Without normalization"
   ]
  },
  {
   "cell_type": "code",
   "execution_count": null,
   "metadata": {
    "colab": {
     "base_uri": "https://localhost:8080/"
    },
    "executionInfo": {
     "elapsed": 29,
     "status": "ok",
     "timestamp": 1674142739971,
     "user": {
      "displayName": "Lucas Palazzolo",
      "userId": "17314445009769713077"
     },
     "user_tz": -60
    },
    "id": "OKSySppJplWn",
    "outputId": "bc34d9c9-e7d9-4f94-8a1f-7675bb12bd05"
   },
   "outputs": [],
   "source": [
    "Y_train_n_without_norm = Y_train_without_norm[:,1]\n",
    "Y_train_n_without_norm = Y_train_n_without_norm[:, None]\n",
    "\n",
    "Y_val_n_without_norm = Y_val_without_norm[:, 1]\n",
    "Y_val_n_without_norm = Y_val_n_without_norm[:, None]\n",
    "\n",
    "Y_test_n_without_norm = Y_test_without_norm[:, 1]\n",
    "Y_test_n_without_norm = Y_test_n_without_norm[:, None]\n",
    "\n",
    "Y_train_n_without_norm.shape, Y_val_n_without_norm.shape, Y_test_n_without_norm.shape"
   ]
  },
  {
   "cell_type": "code",
   "execution_count": null,
   "metadata": {
    "colab": {
     "base_uri": "https://localhost:8080/"
    },
    "executionInfo": {
     "elapsed": 551,
     "status": "ok",
     "timestamp": 1674142740505,
     "user": {
      "displayName": "Lucas Palazzolo",
      "userId": "17314445009769713077"
     },
     "user_tz": -60
    },
    "id": "e2XriSvsuBNy",
    "outputId": "a830773d-f274-4ac6-ec1b-3c4163583294"
   },
   "outputs": [],
   "source": [
    "model2 = Model1(1)\n",
    "\n",
    "model2.compile(\n",
    "    optimizer=tf.optimizers.Adam(1e-3),\n",
    "    loss = tf.keras.losses.MeanSquaredError(),\n",
    "    metrics = ['accuracy'] )"
   ]
  },
  {
   "cell_type": "code",
   "execution_count": null,
   "metadata": {
    "colab": {
     "base_uri": "https://localhost:8080/"
    },
    "executionInfo": {
     "elapsed": 89015,
     "status": "ok",
     "timestamp": 1674142829493,
     "user": {
      "displayName": "Lucas Palazzolo",
      "userId": "17314445009769713077"
     },
     "user_tz": -60
    },
    "id": "vwEKDCxCtKee",
    "outputId": "7c6c4466-3e4e-4418-f38d-5cf6d330015b"
   },
   "outputs": [],
   "source": [
    "batch_size = 64\n",
    "nb_epoch = 30\n",
    "\n",
    "history = model2.fit(X_train, Y_train_n_without_norm,\n",
    "    batch_size = batch_size, \n",
    "    epochs=nb_epoch,\n",
    "    validation_data=(X_val, Y_val_n_without_norm),\n",
    "    callbacks=[tf.keras.callbacks.EarlyStopping(patience=10)])"
   ]
  },
  {
   "cell_type": "code",
   "execution_count": null,
   "metadata": {
    "colab": {
     "base_uri": "https://localhost:8080/",
     "height": 295
    },
    "executionInfo": {
     "elapsed": 53580,
     "status": "ok",
     "timestamp": 1674142883034,
     "user": {
      "displayName": "Lucas Palazzolo",
      "userId": "17314445009769713077"
     },
     "user_tz": -60
    },
    "id": "AqWaWH-LLCtH",
    "outputId": "a749cb7d-06b9-421b-e569-4c18a8be8b54"
   },
   "outputs": [],
   "source": [
    "plot_loss_acc(history)"
   ]
  },
  {
   "cell_type": "code",
   "execution_count": null,
   "metadata": {
    "colab": {
     "base_uri": "https://localhost:8080/"
    },
    "executionInfo": {
     "elapsed": 25,
     "status": "ok",
     "timestamp": 1674142883035,
     "user": {
      "displayName": "Lucas Palazzolo",
      "userId": "17314445009769713077"
     },
     "user_tz": -60
    },
    "id": "_NahHrlLtWR6",
    "outputId": "338a1bcd-6b40-4139-82f8-fbbb48a7f3ed"
   },
   "outputs": [],
   "source": [
    "Y_pred_n_without_norm = model2(X_test)\n",
    "Y_pred_n_without_norm.shape"
   ]
  },
  {
   "cell_type": "code",
   "execution_count": null,
   "metadata": {
    "colab": {
     "base_uri": "https://localhost:8080/",
     "height": 297
    },
    "executionInfo": {
     "elapsed": 713,
     "status": "ok",
     "timestamp": 1674142883737,
     "user": {
      "displayName": "Lucas Palazzolo",
      "userId": "17314445009769713077"
     },
     "user_tz": -60
    },
    "id": "DtMzTjOttYBO",
    "outputId": "4c115492-01e3-4ba0-b649-d25dbc664db2"
   },
   "outputs": [],
   "source": [
    "plot_test_pred(Y_test_n_without_norm, Y_pred_n_without_norm, [\"n_without_norm\"])"
   ]
  },
  {
   "cell_type": "markdown",
   "metadata": {
    "id": "9SwvUCR6d96Z"
   },
   "source": [
    "### Parameter R"
   ]
  },
  {
   "cell_type": "markdown",
   "metadata": {
    "id": "qC-yIahYd96a"
   },
   "source": [
    "#### Initial"
   ]
  },
  {
   "cell_type": "code",
   "execution_count": 43,
   "metadata": {
    "colab": {
     "base_uri": "https://localhost:8080/"
    },
    "executionInfo": {
     "elapsed": 32,
     "status": "ok",
     "timestamp": 1674143410758,
     "user": {
      "displayName": "Lucas Palazzolo",
      "userId": "17314445009769713077"
     },
     "user_tz": -60
    },
    "id": "zBRAdWh1d96a",
    "outputId": "3d2dc5bb-79fe-4bb7-b4a0-5d6e07500e9b"
   },
   "outputs": [
    {
     "data": {
      "text/plain": [
       "((7084, 1), (1518, 1), (1518, 1))"
      ]
     },
     "execution_count": 43,
     "metadata": {},
     "output_type": "execute_result"
    }
   ],
   "source": [
    "Y_train_R = Y_train[:,0]\n",
    "Y_train_R = Y_train_R[:, None]\n",
    "\n",
    "Y_val_R = Y_val[:, 0]\n",
    "Y_val_R = Y_val_R[:, None]\n",
    "\n",
    "Y_test_R = Y_test[:, 0]\n",
    "Y_test_R = Y_test_R[:, None]\n",
    "\n",
    "Y_train_R.shape, Y_val_R.shape, Y_test_R.shape"
   ]
  },
  {
   "cell_type": "code",
   "execution_count": 44,
   "metadata": {
    "colab": {
     "base_uri": "https://localhost:8080/"
    },
    "executionInfo": {
     "elapsed": 25,
     "status": "ok",
     "timestamp": 1674143410759,
     "user": {
      "displayName": "Lucas Palazzolo",
      "userId": "17314445009769713077"
     },
     "user_tz": -60
    },
    "id": "TNEqEfV_d96b",
    "outputId": "64386053-2115-4d6e-b19e-32763982da71"
   },
   "outputs": [
    {
     "name": "stdout",
     "output_type": "stream",
     "text": [
      "Dim out = 1\n"
     ]
    }
   ],
   "source": [
    "checkpoint_filepath = '/tmp/checkpoint'\n",
    "model_checkpoint_callback = tf.keras.callbacks.ModelCheckpoint(\n",
    "    filepath=checkpoint_filepath,\n",
    "    save_weights_only=True,\n",
    "    monitor='val_loss',\n",
    "    mode='min',\n",
    "    save_best_only=True)\n",
    "\n",
    "model_R = Model1(1)\n",
    "\n",
    "model_R.compile(\n",
    "    optimizer=tf.optimizers.Adam(1e-3),\n",
    "    loss = tf.keras.losses.MeanSquaredError(),\n",
    "    metrics = ['accuracy'] )"
   ]
  },
  {
   "cell_type": "raw",
   "metadata": {
    "colab": {
     "base_uri": "https://localhost:8080/"
    },
    "executionInfo": {
     "elapsed": 142189,
     "status": "ok",
     "timestamp": 1674143553589,
     "user": {
      "displayName": "Lucas Palazzolo",
      "userId": "17314445009769713077"
     },
     "user_tz": -60
    },
    "id": "hywFfOGdd96b",
    "outputId": "62aa596d-2cae-4a13-b9f0-3c3fe4bad160"
   },
   "source": [
    "batch_size = 64\n",
    "nb_epoch = 100\n",
    "\n",
    "history = model_R.fit(X_train, Y_train_R,\n",
    "    batch_size = batch_size, \n",
    "    epochs=nb_epoch,\n",
    "    validation_data=(X_val, Y_val_R),\n",
    "    callbacks=[model_checkpoint_callback])\n",
    "\n",
    "\n",
    "model_R.load_weights(checkpoint_filepath)"
   ]
  },
  {
   "cell_type": "code",
   "execution_count": 47,
   "metadata": {
    "colab": {
     "base_uri": "https://localhost:8080/",
     "height": 295
    },
    "executionInfo": {
     "elapsed": 21,
     "status": "ok",
     "timestamp": 1674143553590,
     "user": {
      "displayName": "Lucas Palazzolo",
      "userId": "17314445009769713077"
     },
     "user_tz": -60
    },
    "id": "GzhSIdoBd96b",
    "outputId": "9664a749-f6f1-4594-bc69-269835e30d70"
   },
   "outputs": [
    {
     "data": {
      "image/png": "[encoded data removed]",
      "text/plain": [
       "<Figure size 1080x288 with 2 Axes>"
      ]
     },
     "metadata": {
      "needs_background": "light"
     },
     "output_type": "display_data"
    }
   ],
   "source": [
    "plot_loss_acc(history)\n",
    "#plt.savefig('images/history_R.png', dpi=100)"
   ]
  },
  {
   "cell_type": "code",
   "execution_count": 48,
   "metadata": {},
   "outputs": [],
   "source": [
    "# Save the weights\n",
    "model_R.save_weights('./checkpoints/my_checkpoint_R100')"
   ]
  },
  {
   "cell_type": "code",
   "execution_count": 49,
   "metadata": {
    "colab": {
     "base_uri": "https://localhost:8080/"
    },
    "executionInfo": {
     "elapsed": 2710,
     "status": "ok",
     "timestamp": 1674143556285,
     "user": {
      "displayName": "Lucas Palazzolo",
      "userId": "17314445009769713077"
     },
     "user_tz": -60
    },
    "id": "6QeheGUwqe9l",
    "outputId": "e8d5e3f1-a52a-4d1a-b07c-10f120ec45fb"
   },
   "outputs": [
    {
     "data": {
      "text/plain": [
       "TensorShape([1518, 1])"
      ]
     },
     "execution_count": 49,
     "metadata": {},
     "output_type": "execute_result"
    }
   ],
   "source": [
    "Y_pred_R = model_R(X_test)\n",
    "Y_pred_R.shape"
   ]
  },
  {
   "cell_type": "code",
   "execution_count": 50,
   "metadata": {
    "colab": {
     "base_uri": "https://localhost:8080/",
     "height": 297
    },
    "executionInfo": {
     "elapsed": 965,
     "status": "ok",
     "timestamp": 1674143580761,
     "user": {
      "displayName": "Lucas Palazzolo",
      "userId": "17314445009769713077"
     },
     "user_tz": -60
    },
    "id": "MRoPaUlZd96c",
    "outputId": "87fb0052-c18a-46f0-9fde-104d12d270c7"
   },
   "outputs": [
    {
     "data": {
      "image/png": "[encoded data removed]",
      "text/plain": [
       "<Figure size 720x288 with 1 Axes>"
      ]
     },
     "metadata": {
      "needs_background": "light"
     },
     "output_type": "display_data"
    }
   ],
   "source": [
    "plot_test_pred(Y_test_R, Y_pred_R, [\"R\"])"
   ]
  },
  {
   "cell_type": "code",
   "execution_count": null,
   "metadata": {
    "colab": {
     "base_uri": "https://localhost:8080/",
     "height": 1000
    },
    "executionInfo": {
     "elapsed": 5254,
     "status": "ok",
     "timestamp": 1674143592212,
     "user": {
      "displayName": "Lucas Palazzolo",
      "userId": "17314445009769713077"
     },
     "user_tz": -60
    },
    "id": "KmXpxZMvd96d",
    "outputId": "6e50af30-8537-4a46-c8e6-1069bf79d3d7"
   },
   "outputs": [],
   "source": [
    "fig, axs = plt.subplots(5,1, figsize=(10,20))\n",
    "\n",
    "axs[0].set_title(\"R corr with n\")\n",
    "axs[0].scatter(Y_test_R[:,0],Y_pred_R[:,0],c=Y_test[:,1],edgecolors=None,alpha=0.7,marker='o',cmap='jet')\n",
    "abscisse=np.linspace(0,np.max(Y_test_R[:,0]),1000)\n",
    "axs[0].plot(abscisse, abscisse, 'k')\n",
    "axs[0].set_xlabel('Test')\n",
    "axs[0].set_ylabel('Pred')\n",
    "\n",
    "axs[1].set_title(\"R corr with q\")\n",
    "axs[1].scatter(Y_test_R[:,0],Y_pred_R[:,0],c=Y_test[:,2],edgecolors=None,alpha=0.7,marker='o',cmap='jet')\n",
    "abscisse=np.linspace(0,np.max(Y_test_R[:,0]),1000)\n",
    "axs[1].plot(abscisse, abscisse, 'k')\n",
    "axs[1].set_xlabel('Test')\n",
    "axs[1].set_ylabel('Pred')\n",
    "\n",
    "axs[2].set_title(\"R corr with p\")\n",
    "axs[2].scatter(Y_test_R[:,0],Y_pred_R[:,0],c=Y_test[:,3],edgecolors=None,alpha=0.7,marker='o',cmap='jet')\n",
    "abscisse=np.linspace(0,np.max(Y_test_R[:,0]),1000)\n",
    "axs[2].plot(abscisse, abscisse, 'k')\n",
    "axs[2].set_xlabel('Test')\n",
    "axs[2].set_ylabel('Pred')\n",
    "\n",
    "axs[3].set_title(r\"R corr with $\\phi$\")\n",
    "axs[3].scatter(Y_test_R[:,0],Y_pred_R[:,0],c=Y_test[:,4],edgecolors=None,alpha=0.7,marker='o',cmap='jet')\n",
    "abscisse=np.linspace(0,np.max(Y_test_R[:,0]),1000)\n",
    "axs[3].plot(abscisse, abscisse, 'k')\n",
    "axs[3].set_xlabel('Test')\n",
    "axs[3].set_ylabel('Pred')\n",
    "\n",
    "axs[4].set_title(r\"R corr with $\\theta$\")\n",
    "axs[4].scatter(Y_test_R[:,0],Y_pred_R[:,0],c=Y_test[:,5],edgecolors=None,alpha=0.7,marker='o',cmap='jet')\n",
    "abscisse=np.linspace(0,np.max(Y_test_R[:,0]),1000)\n",
    "axs[4].plot(abscisse, abscisse, 'k')\n",
    "axs[4].set_xlabel('Test')\n",
    "axs[4].set_ylabel('Pred')\n",
    "\n",
    "\n",
    "plt.tight_layout()"
   ]
  },
  {
   "cell_type": "code",
   "execution_count": null,
   "metadata": {
    "colab": {
     "base_uri": "https://localhost:8080/",
     "height": 297
    },
    "executionInfo": {
     "elapsed": 1040,
     "status": "ok",
     "timestamp": 1674143593241,
     "user": {
      "displayName": "Lucas Palazzolo",
      "userId": "17314445009769713077"
     },
     "user_tz": -60
    },
    "id": "dKI_1YVfd96d",
    "outputId": "d3dde6ea-943f-43b6-e8f5-53fed759fa9e"
   },
   "outputs": [],
   "source": [
    "plot_test_pred_corr(Y_test_R,Y_pred_R, [\"R corr with R\"], Y_test[:,0])"
   ]
  },
  {
   "cell_type": "markdown",
   "metadata": {
    "id": "Hm43iGmU7jyD"
   },
   "source": [
    "#### Spherical"
   ]
  },
  {
   "cell_type": "code",
   "execution_count": null,
   "metadata": {
    "colab": {
     "base_uri": "https://localhost:8080/"
    },
    "executionInfo": {
     "elapsed": 3,
     "status": "ok",
     "timestamp": 1674147299630,
     "user": {
      "displayName": "Lucas Palazzolo",
      "userId": "17314445009769713077"
     },
     "user_tz": -60
    },
    "id": "LIl-xt_H73H1",
    "outputId": "ca2f1495-c719-478c-f8d4-6445b48a0eaa"
   },
   "outputs": [],
   "source": [
    "modelR_spherical = Model1(1)\n",
    "\n",
    "modelR_spherical.compile(\n",
    "    optimizer=tf.optimizers.Adam(1e-4),\n",
    "    loss = tf.keras.losses.MeanSquaredError(),\n",
    "    metrics = ['accuracy'] )"
   ]
  },
  {
   "cell_type": "code",
   "execution_count": null,
   "metadata": {
    "colab": {
     "base_uri": "https://localhost:8080/"
    },
    "executionInfo": {
     "elapsed": 262793,
     "status": "ok",
     "timestamp": 1674147563174,
     "user": {
      "displayName": "Lucas Palazzolo",
      "userId": "17314445009769713077"
     },
     "user_tz": -60
    },
    "id": "Sq9vKKN273H2",
    "outputId": "2db84417-5d3a-4078-df1b-897e3cef37e6"
   },
   "outputs": [],
   "source": [
    "batch_size = 64\n",
    "nb_epoch = 70\n",
    "\n",
    "history = modelR_spherical.fit(X_spher_train, Y_train_R,\n",
    "    batch_size = batch_size, \n",
    "    epochs=nb_epoch,\n",
    "    validation_data=(X_spher_val, Y_val_R),\n",
    "    callbacks=[model_checkpoint_callback])\n",
    "\n",
    "\n",
    "modelR_spherical.load_weights(checkpoint_filepath)"
   ]
  },
  {
   "cell_type": "code",
   "execution_count": null,
   "metadata": {
    "colab": {
     "base_uri": "https://localhost:8080/",
     "height": 295
    },
    "executionInfo": {
     "elapsed": 17,
     "status": "ok",
     "timestamp": 1674147563175,
     "user": {
      "displayName": "Lucas Palazzolo",
      "userId": "17314445009769713077"
     },
     "user_tz": -60
    },
    "id": "XY8YiVhc73H2",
    "outputId": "df79d796-70f9-4e55-dccf-ed7dcc90d18e"
   },
   "outputs": [],
   "source": [
    "plot_loss_acc(history)"
   ]
  },
  {
   "cell_type": "code",
   "execution_count": null,
   "metadata": {
    "colab": {
     "base_uri": "https://localhost:8080/"
    },
    "executionInfo": {
     "elapsed": 14,
     "status": "ok",
     "timestamp": 1674147563176,
     "user": {
      "displayName": "Lucas Palazzolo",
      "userId": "17314445009769713077"
     },
     "user_tz": -60
    },
    "id": "ejgz3KKq73H3",
    "outputId": "98ba9c2e-2d7d-46d9-c443-141770f7e276"
   },
   "outputs": [],
   "source": [
    "Y_pred_R_spherical = modelR_spherical(X_spher_test)\n",
    "Y_pred_R_spherical.shape"
   ]
  },
  {
   "cell_type": "code",
   "execution_count": null,
   "metadata": {
    "colab": {
     "base_uri": "https://localhost:8080/",
     "height": 297
    },
    "executionInfo": {
     "elapsed": 736,
     "status": "ok",
     "timestamp": 1674147563904,
     "user": {
      "displayName": "Lucas Palazzolo",
      "userId": "17314445009769713077"
     },
     "user_tz": -60
    },
    "id": "9vAdIwsK73H3",
    "outputId": "c9d97093-a13a-48cc-dcb3-6ee194477482"
   },
   "outputs": [],
   "source": [
    "plot_test_pred(Y_test_R, Y_pred_R_spherical, [\"R\"])"
   ]
  },
  {
   "cell_type": "code",
   "execution_count": null,
   "metadata": {
    "colab": {
     "base_uri": "https://localhost:8080/",
     "height": 297
    },
    "executionInfo": {
     "elapsed": 787,
     "status": "ok",
     "timestamp": 1674147564683,
     "user": {
      "displayName": "Lucas Palazzolo",
      "userId": "17314445009769713077"
     },
     "user_tz": -60
    },
    "id": "F6I7M7uO73H4",
    "outputId": "df2cd83d-f8fc-4801-96bb-e62e1906d26f"
   },
   "outputs": [],
   "source": [
    "plot_test_pred_corr(Y_test_R,Y_pred_R_spherical, [\"R corr with n\"], Y_test[:,1])"
   ]
  },
  {
   "cell_type": "code",
   "execution_count": null,
   "metadata": {
    "id": "iiwCLR5X7mmi"
   },
   "outputs": [],
   "source": []
  },
  {
   "cell_type": "markdown",
   "metadata": {
    "id": "L0J5t2YOyt5g"
   },
   "source": [
    "### Parameter q"
   ]
  },
  {
   "cell_type": "markdown",
   "metadata": {
    "id": "skt7iP7syt5h"
   },
   "source": [
    "#### Initial"
   ]
  },
  {
   "cell_type": "code",
   "execution_count": null,
   "metadata": {
    "colab": {
     "base_uri": "https://localhost:8080/"
    },
    "executionInfo": {
     "elapsed": 466,
     "status": "ok",
     "timestamp": 1674144637639,
     "user": {
      "displayName": "Lucas Palazzolo",
      "userId": "17314445009769713077"
     },
     "user_tz": -60
    },
    "id": "fMkZwSdFyt5h",
    "outputId": "427d79cc-7b5e-45c5-a3d7-ba06e9f88523"
   },
   "outputs": [],
   "source": [
    "Y_train_q = Y_train[:,2]\n",
    "Y_train_q = Y_train_q[:, None]\n",
    "\n",
    "Y_val_q = Y_val[:, 2]\n",
    "Y_val_q = Y_val_q[:, None]\n",
    "\n",
    "Y_test_q = Y_test[:, 2]\n",
    "Y_test_q = Y_test_q[:, None]\n",
    "\n",
    "Y_train_q.shape, Y_val_q.shape, Y_test_q.shape"
   ]
  },
  {
   "cell_type": "code",
   "execution_count": null,
   "metadata": {
    "colab": {
     "base_uri": "https://localhost:8080/"
    },
    "executionInfo": {
     "elapsed": 405,
     "status": "ok",
     "timestamp": 1674145018732,
     "user": {
      "displayName": "Lucas Palazzolo",
      "userId": "17314445009769713077"
     },
     "user_tz": -60
    },
    "id": "ihzMU7AGyt5j",
    "outputId": "70865225-8a67-4ffa-f390-4cf935e4179b"
   },
   "outputs": [],
   "source": [
    "checkpoint_filepath = '/tmp/checkpoint'\n",
    "model_checkpoint_callback = tf.keras.callbacks.ModelCheckpoint(\n",
    "    filepath=checkpoint_filepath,\n",
    "    save_weights_only=True,\n",
    "    monitor='val_loss',\n",
    "    mode='min',\n",
    "    save_best_only=True)\n",
    "\n",
    "model_q = Model1(1)\n",
    "\n",
    "model_q.compile(\n",
    "    optimizer=tf.optimizers.Adam(1e-3),\n",
    "    loss = tf.keras.losses.MeanSquaredError(),\n",
    "    metrics = ['accuracy'] )"
   ]
  },
  {
   "cell_type": "code",
   "execution_count": null,
   "metadata": {
    "colab": {
     "base_uri": "https://localhost:8080/"
    },
    "executionInfo": {
     "elapsed": 316525,
     "status": "ok",
     "timestamp": 1674145337030,
     "user": {
      "displayName": "Lucas Palazzolo",
      "userId": "17314445009769713077"
     },
     "user_tz": -60
    },
    "id": "8gWKbMCxyt5k",
    "outputId": "e7222c64-3787-448e-d488-702e0cddd101"
   },
   "outputs": [],
   "source": [
    "batch_size = 64\n",
    "nb_epoch = 50\n",
    "\n",
    "history = model_q.fit(X_train, Y_train_q,\n",
    "    batch_size = batch_size, \n",
    "    epochs=nb_epoch,\n",
    "    validation_data=(X_val, Y_val_q),\n",
    "    callbacks=[model_checkpoint_callback])\n",
    "\n",
    "\n",
    "model_q.load_weights(checkpoint_filepath)"
   ]
  },
  {
   "cell_type": "code",
   "execution_count": null,
   "metadata": {
    "colab": {
     "base_uri": "https://localhost:8080/",
     "height": 295
    },
    "executionInfo": {
     "elapsed": 613,
     "status": "ok",
     "timestamp": 1674145370267,
     "user": {
      "displayName": "Lucas Palazzolo",
      "userId": "17314445009769713077"
     },
     "user_tz": -60
    },
    "id": "PqNoMWR5yt5l",
    "outputId": "7aa7d05c-bd75-411a-c6c6-fdd4cafc5ae2"
   },
   "outputs": [],
   "source": [
    "plot_loss_acc(history)"
   ]
  },
  {
   "cell_type": "code",
   "execution_count": null,
   "metadata": {
    "colab": {
     "base_uri": "https://localhost:8080/"
    },
    "executionInfo": {
     "elapsed": 499,
     "status": "ok",
     "timestamp": 1674145379694,
     "user": {
      "displayName": "Lucas Palazzolo",
      "userId": "17314445009769713077"
     },
     "user_tz": -60
    },
    "id": "jsZkTbKMyt5m",
    "outputId": "fd44da4f-be4d-40c2-9eb5-647e7def3b83"
   },
   "outputs": [],
   "source": [
    "Y_pred_q = model_q(X_test)\n",
    "Y_pred_q.shape"
   ]
  },
  {
   "cell_type": "code",
   "execution_count": null,
   "metadata": {
    "colab": {
     "base_uri": "https://localhost:8080/",
     "height": 297
    },
    "executionInfo": {
     "elapsed": 17010,
     "status": "ok",
     "timestamp": 1674145398289,
     "user": {
      "displayName": "Lucas Palazzolo",
      "userId": "17314445009769713077"
     },
     "user_tz": -60
    },
    "id": "4iPbVG4lyt5m",
    "outputId": "551f0297-0e29-4ab0-b541-bde1113d1985"
   },
   "outputs": [],
   "source": [
    "plot_test_pred(Y_test_q, Y_pred_q, [\"q\"])"
   ]
  },
  {
   "cell_type": "code",
   "execution_count": null,
   "metadata": {
    "colab": {
     "base_uri": "https://localhost:8080/",
     "height": 1000
    },
    "executionInfo": {
     "elapsed": 5713,
     "status": "ok",
     "timestamp": 1674145403993,
     "user": {
      "displayName": "Lucas Palazzolo",
      "userId": "17314445009769713077"
     },
     "user_tz": -60
    },
    "id": "NM9mg74Myt5n",
    "outputId": "61226bea-0b15-4d04-ad10-30c53d9f0516"
   },
   "outputs": [],
   "source": [
    "fig, axs = plt.subplots(5,1, figsize=(10,20))\n",
    "\n",
    "axs[0].set_title(\"q corr with R\")\n",
    "axs[0].scatter(Y_test_q[:,0],Y_pred_q[:,0],c=Y_test[:,0],edgecolors=None,alpha=0.7,marker='o',cmap='jet')\n",
    "abscisse=np.linspace(0,np.max(Y_test_q[:,0]),1000)\n",
    "axs[0].plot(abscisse, abscisse, 'k')\n",
    "axs[0].set_xlabel('Test')\n",
    "axs[0].set_ylabel('Pred')\n",
    "\n",
    "axs[1].set_title(\"q corr with n\")\n",
    "axs[1].scatter(Y_test_q[:,0],Y_pred_q[:,0],c=Y_test[:,1],edgecolors=None,alpha=0.7,marker='o',cmap='jet')\n",
    "abscisse=np.linspace(0,np.max(Y_test_q[:,0]),1000)\n",
    "axs[1].plot(abscisse, abscisse, 'k')\n",
    "axs[1].set_xlabel('Test')\n",
    "axs[1].set_ylabel('Pred')\n",
    "\n",
    "axs[2].set_title(\"q corr with p\")\n",
    "axs[2].scatter(Y_test_q[:,0],Y_pred_q[:,0],c=Y_test[:,3],edgecolors=None,alpha=0.7,marker='o',cmap='jet')\n",
    "abscisse=np.linspace(0,np.max(Y_test_q[:,0]),1000)\n",
    "axs[2].plot(abscisse, abscisse, 'k')\n",
    "axs[2].set_xlabel('Test')\n",
    "axs[2].set_ylabel('Pred')\n",
    "\n",
    "axs[3].set_title(r\"q corr with $\\phi$\")\n",
    "axs[3].scatter(Y_test_q[:,0],Y_pred_q[:,0],c=Y_test[:,4],edgecolors=None,alpha=0.7,marker='o',cmap='jet')\n",
    "abscisse=np.linspace(0,np.max(Y_test_q[:,0]),1000)\n",
    "axs[3].plot(abscisse, abscisse, 'k')\n",
    "axs[3].set_xlabel('Test')\n",
    "axs[3].set_ylabel('Pred')\n",
    "\n",
    "axs[4].set_title(r\"q corr with $\\theta$\")\n",
    "axs[4].scatter(Y_test_q[:,0],Y_pred_q[:,0],c=Y_test[:,5],edgecolors=None,alpha=0.7,marker='o',cmap='jet')\n",
    "abscisse=np.linspace(0,np.max(Y_test_q[:,0]),1000)\n",
    "axs[4].plot(abscisse, abscisse, 'k')\n",
    "axs[4].set_xlabel('Test')\n",
    "axs[4].set_ylabel('Pred')\n",
    "\n",
    "\n",
    "plt.tight_layout()"
   ]
  },
  {
   "cell_type": "code",
   "execution_count": null,
   "metadata": {
    "colab": {
     "base_uri": "https://localhost:8080/",
     "height": 297
    },
    "executionInfo": {
     "elapsed": 19,
     "status": "ok",
     "timestamp": 1674145403994,
     "user": {
      "displayName": "Lucas Palazzolo",
      "userId": "17314445009769713077"
     },
     "user_tz": -60
    },
    "id": "0vWFiPpOyt5p",
    "outputId": "5f9013b9-3070-4d53-a060-5b6e712d8052"
   },
   "outputs": [],
   "source": [
    "plot_test_pred_corr(Y_test_q,Y_pred_q, [\"q corr with q\"], Y_test[:,2])"
   ]
  },
  {
   "cell_type": "markdown",
   "metadata": {
    "id": "4a0SSTWh2Izq"
   },
   "source": [
    "### Parameter p"
   ]
  },
  {
   "cell_type": "markdown",
   "metadata": {
    "id": "iHa8I5eI2Izr"
   },
   "source": [
    "#### Initial"
   ]
  },
  {
   "cell_type": "code",
   "execution_count": null,
   "metadata": {
    "colab": {
     "base_uri": "https://localhost:8080/"
    },
    "executionInfo": {
     "elapsed": 649,
     "status": "ok",
     "timestamp": 1674145528951,
     "user": {
      "displayName": "Lucas Palazzolo",
      "userId": "17314445009769713077"
     },
     "user_tz": -60
    },
    "id": "RGWZKXRz2Izr",
    "outputId": "1bab9c9d-70c2-4fcf-f28f-be63d9c47fa0"
   },
   "outputs": [],
   "source": [
    "Y_train_p = Y_train[:,3]\n",
    "Y_train_p = Y_train_p[:, None]\n",
    "\n",
    "Y_val_p = Y_val[:, 3]\n",
    "Y_val_p = Y_val_p[:, None]\n",
    "\n",
    "Y_test_p = Y_test[:, 3]\n",
    "Y_test_p = Y_test_p[:, None]\n",
    "\n",
    "Y_train_p.shape, Y_val_p.shape, Y_test_p.shape"
   ]
  },
  {
   "cell_type": "code",
   "execution_count": null,
   "metadata": {
    "colab": {
     "base_uri": "https://localhost:8080/"
    },
    "executionInfo": {
     "elapsed": 12,
     "status": "ok",
     "timestamp": 1674145787370,
     "user": {
      "displayName": "Lucas Palazzolo",
      "userId": "17314445009769713077"
     },
     "user_tz": -60
    },
    "id": "z5V4uUSO2Izs",
    "outputId": "f74234c0-2132-4682-eff8-721776d9d980"
   },
   "outputs": [],
   "source": [
    "checkpoint_filepath = '/tmp/checkpoint'\n",
    "model_checkpoint_callback = tf.keras.callbacks.ModelCheckpoint(\n",
    "    filepath=checkpoint_filepath,\n",
    "    save_weights_only=True,\n",
    "    monitor='val_loss',\n",
    "    mode='min',\n",
    "    save_best_only=True)\n",
    "\n",
    "model_p = Model1(1)\n",
    "\n",
    "model_p.compile(\n",
    "    optimizer=tf.optimizers.Adam(1e-3),\n",
    "    loss = tf.keras.losses.MeanSquaredError(),\n",
    "    metrics = ['accuracy'] )"
   ]
  },
  {
   "cell_type": "code",
   "execution_count": null,
   "metadata": {
    "colab": {
     "base_uri": "https://localhost:8080/"
    },
    "executionInfo": {
     "elapsed": 203492,
     "status": "ok",
     "timestamp": 1674145991629,
     "user": {
      "displayName": "Lucas Palazzolo",
      "userId": "17314445009769713077"
     },
     "user_tz": -60
    },
    "id": "LN599C482Izs",
    "outputId": "b3ec1094-44cf-40c6-ada2-81f81f905a06"
   },
   "outputs": [],
   "source": [
    "batch_size = 64\n",
    "nb_epoch = 50\n",
    "\n",
    "history = model_p.fit(X_train, Y_train_p,\n",
    "    batch_size = batch_size, \n",
    "    epochs=nb_epoch,\n",
    "    validation_data=(X_val, Y_val_p),\n",
    "    callbacks=[model_checkpoint_callback])\n",
    "\n",
    "\n",
    "model_p.load_weights(checkpoint_filepath)"
   ]
  },
  {
   "cell_type": "code",
   "execution_count": null,
   "metadata": {
    "colab": {
     "base_uri": "https://localhost:8080/",
     "height": 295
    },
    "executionInfo": {
     "elapsed": 25,
     "status": "ok",
     "timestamp": 1674145991631,
     "user": {
      "displayName": "Lucas Palazzolo",
      "userId": "17314445009769713077"
     },
     "user_tz": -60
    },
    "id": "61rm2CEF2Izt",
    "outputId": "b6a80795-7729-42c0-efa9-5f5de9930d52"
   },
   "outputs": [],
   "source": [
    "plot_loss_acc(history)"
   ]
  },
  {
   "cell_type": "code",
   "execution_count": null,
   "metadata": {
    "colab": {
     "base_uri": "https://localhost:8080/"
    },
    "executionInfo": {
     "elapsed": 600,
     "status": "ok",
     "timestamp": 1674145992213,
     "user": {
      "displayName": "Lucas Palazzolo",
      "userId": "17314445009769713077"
     },
     "user_tz": -60
    },
    "id": "8DKZ4vI-2Izt",
    "outputId": "a3d8ed11-017a-4c36-d40d-5b06ac0b465b"
   },
   "outputs": [],
   "source": [
    "Y_pred_p = model_p(X_test)\n",
    "Y_pred_p.shape"
   ]
  },
  {
   "cell_type": "code",
   "execution_count": null,
   "metadata": {
    "colab": {
     "base_uri": "https://localhost:8080/",
     "height": 297
    },
    "executionInfo": {
     "elapsed": 14,
     "status": "ok",
     "timestamp": 1674145992215,
     "user": {
      "displayName": "Lucas Palazzolo",
      "userId": "17314445009769713077"
     },
     "user_tz": -60
    },
    "id": "PTVTXZR12Izu",
    "outputId": "7679e746-70d2-4be3-8e15-c0208b374649"
   },
   "outputs": [],
   "source": [
    "plot_test_pred(Y_test_p, Y_pred_p, [\"p\"])"
   ]
  },
  {
   "cell_type": "code",
   "execution_count": null,
   "metadata": {
    "colab": {
     "base_uri": "https://localhost:8080/",
     "height": 1000
    },
    "executionInfo": {
     "elapsed": 1247,
     "status": "ok",
     "timestamp": 1674145993452,
     "user": {
      "displayName": "Lucas Palazzolo",
      "userId": "17314445009769713077"
     },
     "user_tz": -60
    },
    "id": "pWybCUK02Izu",
    "outputId": "bac9886c-6245-433f-f689-fe2e72a20076"
   },
   "outputs": [],
   "source": [
    "fig, axs = plt.subplots(5,1, figsize=(10,20))\n",
    "\n",
    "axs[0].set_title(\"p corr with R\")\n",
    "axs[0].scatter(Y_test_p[:,0],Y_pred_p[:,0],c=Y_test[:,0],edgecolors=None,alpha=0.7,marker='o',cmap='jet')\n",
    "abscisse=np.linspace(0,np.max(Y_test_p[:,0]),1000)\n",
    "axs[0].plot(abscisse, abscisse, 'k')\n",
    "axs[0].set_xlabel('Test')\n",
    "axs[0].set_ylabel('Pred')\n",
    "\n",
    "axs[1].set_title(\"p corr with n\")\n",
    "axs[1].scatter(Y_test_p[:,0],Y_pred_p[:,0],c=Y_test[:,1],edgecolors=None,alpha=0.7,marker='o',cmap='jet')\n",
    "abscisse=np.linspace(0,np.max(Y_test_p[:,0]),1000)\n",
    "axs[1].plot(abscisse, abscisse, 'k')\n",
    "axs[1].set_xlabel('Test')\n",
    "axs[1].set_ylabel('Pred')\n",
    "\n",
    "axs[2].set_title(\"p corr with q\")\n",
    "axs[2].scatter(Y_test_p[:,0],Y_pred_p[:,0],c=Y_test[:,2],edgecolors=None,alpha=0.7,marker='o',cmap='jet')\n",
    "abscisse=np.linspace(0,np.max(Y_test_p[:,0]),1000)\n",
    "axs[2].plot(abscisse, abscisse, 'k')\n",
    "axs[2].set_xlabel('Test')\n",
    "axs[2].set_ylabel('Pred')\n",
    "\n",
    "axs[3].set_title(r\"p corr with $\\phi$\")\n",
    "axs[3].scatter(Y_test_p[:,0],Y_pred_p[:,0],c=Y_test[:,4],edgecolors=None,alpha=0.7,marker='o',cmap='jet')\n",
    "abscisse=np.linspace(0,np.max(Y_test_p[:,0]),1000)\n",
    "axs[3].plot(abscisse, abscisse, 'k')\n",
    "axs[3].set_xlabel('Test')\n",
    "axs[3].set_ylabel('Pred')\n",
    "\n",
    "axs[4].set_title(r\"p corr with $\\theta$\")\n",
    "axs[4].scatter(Y_test_p[:,0],Y_pred_p[:,0],c=Y_test[:,5],edgecolors=None,alpha=0.7,marker='o',cmap='jet')\n",
    "abscisse=np.linspace(0,np.max(Y_test_p[:,0]),1000)\n",
    "axs[4].plot(abscisse, abscisse, 'k')\n",
    "axs[4].set_xlabel('Test')\n",
    "axs[4].set_ylabel('Pred')\n",
    "\n",
    "\n",
    "plt.tight_layout()"
   ]
  },
  {
   "cell_type": "code",
   "execution_count": null,
   "metadata": {
    "colab": {
     "base_uri": "https://localhost:8080/",
     "height": 297
    },
    "executionInfo": {
     "elapsed": 1070,
     "status": "ok",
     "timestamp": 1674145994513,
     "user": {
      "displayName": "Lucas Palazzolo",
      "userId": "17314445009769713077"
     },
     "user_tz": -60
    },
    "id": "7Gls6ng62Izv",
    "outputId": "95318e8b-fca9-4863-e90a-9bd2a02edd2d"
   },
   "outputs": [],
   "source": [
    "plot_test_pred_corr(Y_test_p,Y_pred_p, [\"p corr with p\"], Y_test[:,3])"
   ]
  },
  {
   "cell_type": "markdown",
   "metadata": {
    "id": "rHYpsB0V4GYn"
   },
   "source": [
    "### Parameter $\\phi$"
   ]
  },
  {
   "cell_type": "markdown",
   "metadata": {
    "id": "-Ywhq3JE4GYo"
   },
   "source": [
    "#### Initial"
   ]
  },
  {
   "cell_type": "code",
   "execution_count": null,
   "metadata": {
    "colab": {
     "base_uri": "https://localhost:8080/"
    },
    "executionInfo": {
     "elapsed": 825,
     "status": "ok",
     "timestamp": 1674146063738,
     "user": {
      "displayName": "Lucas Palazzolo",
      "userId": "17314445009769713077"
     },
     "user_tz": -60
    },
    "id": "aWzMy7PI4GYp",
    "outputId": "f36202c4-f445-45c2-951b-847f66d17353"
   },
   "outputs": [],
   "source": [
    "Y_train_phi = Y_train[:,4]\n",
    "Y_train_phi = Y_train_phi[:, None]\n",
    "\n",
    "Y_val_phi = Y_val[:, 4]\n",
    "Y_val_phi = Y_val_phi[:, None]\n",
    "\n",
    "Y_test_phi = Y_test[:, 4]\n",
    "Y_test_phi = Y_test_phi[:, None]\n",
    "\n",
    "Y_train_phi.shape, Y_val_phi.shape, Y_test_phi.shape"
   ]
  },
  {
   "cell_type": "code",
   "execution_count": null,
   "metadata": {
    "colab": {
     "base_uri": "https://localhost:8080/"
    },
    "executionInfo": {
     "elapsed": 481,
     "status": "ok",
     "timestamp": 1674146427584,
     "user": {
      "displayName": "Lucas Palazzolo",
      "userId": "17314445009769713077"
     },
     "user_tz": -60
    },
    "id": "8Z6c6zuQ4GYq",
    "outputId": "4d95624b-e8af-460c-cdfc-355191f0c204"
   },
   "outputs": [],
   "source": [
    "checkpoint_filepath = '/tmp/checkpoint'\n",
    "model_checkpoint_callback = tf.keras.callbacks.ModelCheckpoint(\n",
    "    filepath=checkpoint_filepath,\n",
    "    save_weights_only=True,\n",
    "    monitor='val_loss',\n",
    "    mode='min',\n",
    "    save_best_only=True)\n",
    "\n",
    "model_phi = Model1(1)\n",
    "\n",
    "model_phi.compile(\n",
    "    optimizer=tf.optimizers.Adam(1e-4),\n",
    "    loss = tf.keras.losses.MeanSquaredError(),\n",
    "    metrics = ['accuracy'] )"
   ]
  },
  {
   "cell_type": "code",
   "execution_count": null,
   "metadata": {
    "colab": {
     "base_uri": "https://localhost:8080/"
    },
    "executionInfo": {
     "elapsed": 179258,
     "status": "ok",
     "timestamp": 1674146607374,
     "user": {
      "displayName": "Lucas Palazzolo",
      "userId": "17314445009769713077"
     },
     "user_tz": -60
    },
    "id": "Iqj5xTao4GYr",
    "outputId": "220a39c7-6cf7-4305-97dd-4fe9d5183ba2"
   },
   "outputs": [],
   "source": [
    "batch_size = 64\n",
    "nb_epoch = 50\n",
    "\n",
    "history = model_phi.fit(X_train, Y_train_phi,\n",
    "    batch_size = batch_size, \n",
    "    epochs=nb_epoch,\n",
    "    validation_data=(X_val, Y_val_phi),\n",
    "    callbacks=[model_checkpoint_callback])\n",
    "\n",
    "\n",
    "model_phi.load_weights(checkpoint_filepath)"
   ]
  },
  {
   "cell_type": "code",
   "execution_count": null,
   "metadata": {
    "colab": {
     "base_uri": "https://localhost:8080/",
     "height": 295
    },
    "executionInfo": {
     "elapsed": 657,
     "status": "ok",
     "timestamp": 1674146608025,
     "user": {
      "displayName": "Lucas Palazzolo",
      "userId": "17314445009769713077"
     },
     "user_tz": -60
    },
    "id": "NXhWNBLZ4GYs",
    "outputId": "7185d446-ac78-4ad0-a4fe-0450b396346a"
   },
   "outputs": [],
   "source": [
    "plot_loss_acc(history)"
   ]
  },
  {
   "cell_type": "code",
   "execution_count": null,
   "metadata": {
    "colab": {
     "base_uri": "https://localhost:8080/"
    },
    "executionInfo": {
     "elapsed": 19,
     "status": "ok",
     "timestamp": 1674146608026,
     "user": {
      "displayName": "Lucas Palazzolo",
      "userId": "17314445009769713077"
     },
     "user_tz": -60
    },
    "id": "BgJGQ1LT4GYs",
    "outputId": "57eda57a-bc62-4bb5-a6eb-e29e3bbcfdf0"
   },
   "outputs": [],
   "source": [
    "Y_pred_phi = model_phi(X_test)\n",
    "Y_pred_phi.shape"
   ]
  },
  {
   "cell_type": "code",
   "execution_count": null,
   "metadata": {
    "colab": {
     "base_uri": "https://localhost:8080/",
     "height": 297
    },
    "executionInfo": {
     "elapsed": 831,
     "status": "ok",
     "timestamp": 1674146608849,
     "user": {
      "displayName": "Lucas Palazzolo",
      "userId": "17314445009769713077"
     },
     "user_tz": -60
    },
    "id": "uaR_174w4GYt",
    "outputId": "c908bc59-75cb-4c29-8674-ce7e740e7367"
   },
   "outputs": [],
   "source": [
    "plot_test_pred(Y_test_phi, Y_pred_phi, [\"$\\phi$\"])"
   ]
  },
  {
   "cell_type": "code",
   "execution_count": null,
   "metadata": {
    "colab": {
     "base_uri": "https://localhost:8080/",
     "height": 1000
    },
    "executionInfo": {
     "elapsed": 4731,
     "status": "ok",
     "timestamp": 1674146613572,
     "user": {
      "displayName": "Lucas Palazzolo",
      "userId": "17314445009769713077"
     },
     "user_tz": -60
    },
    "id": "U7UJyknE4GYt",
    "outputId": "639e390c-1957-43e3-ed84-299ae9b9ceb4"
   },
   "outputs": [],
   "source": [
    "fig, axs = plt.subplots(5,1, figsize=(10,20))\n",
    "\n",
    "axs[0].set_title(\"$\\phi$ corr with R\")\n",
    "axs[0].scatter(Y_test_phi[:,0],Y_pred_phi[:,0],c=Y_test[:,0],edgecolors=None,alpha=0.7,marker='o',cmap='jet')\n",
    "abscisse=np.linspace(0,np.max(Y_test_phi[:,0]),1000)\n",
    "axs[0].plot(abscisse, abscisse, 'k')\n",
    "axs[0].set_xlabel('Test')\n",
    "axs[0].set_ylabel('Pred')\n",
    "\n",
    "axs[1].set_title(\"$\\phi$ corr with n\")\n",
    "axs[1].scatter(Y_test_phi[:,0],Y_pred_phi[:,0],c=Y_test[:,1],edgecolors=None,alpha=0.7,marker='o',cmap='jet')\n",
    "abscisse=np.linspace(0,np.max(Y_test_phi[:,0]),1000)\n",
    "axs[1].plot(abscisse, abscisse, 'k')\n",
    "axs[1].set_xlabel('Test')\n",
    "axs[1].set_ylabel('Pred')\n",
    "\n",
    "axs[2].set_title(\"$\\phi$ corr with q\")\n",
    "axs[2].scatter(Y_test_phi[:,0],Y_pred_phi[:,0],c=Y_test[:,2],edgecolors=None,alpha=0.7,marker='o',cmap='jet')\n",
    "abscisse=np.linspace(0,np.max(Y_test_phi[:,0]),1000)\n",
    "axs[2].plot(abscisse, abscisse, 'k')\n",
    "axs[2].set_xlabel('Test')\n",
    "axs[2].set_ylabel('Pred')\n",
    "\n",
    "axs[3].set_title(r\"$\\phi$ corr with p\")\n",
    "axs[3].scatter(Y_test_phi[:,0],Y_pred_phi[:,0],c=Y_test[:,3],edgecolors=None,alpha=0.7,marker='o',cmap='jet')\n",
    "abscisse=np.linspace(0,np.max(Y_test_phi[:,0]),1000)\n",
    "axs[3].plot(abscisse, abscisse, 'k')\n",
    "axs[3].set_xlabel('Test')\n",
    "axs[3].set_ylabel('Pred')\n",
    "\n",
    "axs[4].set_title(r\"$\\phi$ corr with $\\theta$\")\n",
    "axs[4].scatter(Y_test_phi[:,0],Y_pred_phi[:,0],c=Y_test[:,5],edgecolors=None,alpha=0.7,marker='o',cmap='jet')\n",
    "abscisse=np.linspace(0,np.max(Y_test_phi[:,0]),1000)\n",
    "axs[4].plot(abscisse, abscisse, 'k')\n",
    "axs[4].set_xlabel('Test')\n",
    "axs[4].set_ylabel('Pred')\n",
    "\n",
    "\n",
    "plt.tight_layout()"
   ]
  },
  {
   "cell_type": "code",
   "execution_count": null,
   "metadata": {
    "colab": {
     "base_uri": "https://localhost:8080/",
     "height": 297
    },
    "executionInfo": {
     "elapsed": 36,
     "status": "ok",
     "timestamp": 1674146613574,
     "user": {
      "displayName": "Lucas Palazzolo",
      "userId": "17314445009769713077"
     },
     "user_tz": -60
    },
    "id": "35Rck5Wt4GYu",
    "outputId": "9b87abe2-e203-4aa3-c554-f1fc2b20d9ae"
   },
   "outputs": [],
   "source": [
    "plot_test_pred_corr(Y_test_phi,Y_pred_phi, [\"$\\phi$ corr with $\\phi$\"], Y_test[:,4])"
   ]
  },
  {
   "cell_type": "markdown",
   "metadata": {
    "id": "MiKIiMyE5_Md"
   },
   "source": [
    "### Parameter $\\theta$"
   ]
  },
  {
   "cell_type": "markdown",
   "metadata": {
    "id": "2BbW0xmY5_Me"
   },
   "source": [
    "#### Initial"
   ]
  },
  {
   "cell_type": "code",
   "execution_count": null,
   "metadata": {
    "colab": {
     "base_uri": "https://localhost:8080/"
    },
    "executionInfo": {
     "elapsed": 16,
     "status": "ok",
     "timestamp": 1674146614665,
     "user": {
      "displayName": "Lucas Palazzolo",
      "userId": "17314445009769713077"
     },
     "user_tz": -60
    },
    "id": "S_UvV-3R5_Me",
    "outputId": "7192b50b-01c4-48a6-e005-6c0932b867c8"
   },
   "outputs": [],
   "source": [
    "Y_train_theta = Y_train[:,5]\n",
    "Y_train_theta = Y_train_theta[:, None]\n",
    "\n",
    "Y_val_theta = Y_val[:, 5]\n",
    "Y_val_theta = Y_val_theta[:, None]\n",
    "\n",
    "Y_test_theta = Y_test[:, 5]\n",
    "Y_test_theta = Y_test_theta[:, None]\n",
    "\n",
    "Y_train_theta.shape, Y_val_theta.shape, Y_test_theta.shape"
   ]
  },
  {
   "cell_type": "code",
   "execution_count": null,
   "metadata": {
    "colab": {
     "base_uri": "https://localhost:8080/"
    },
    "executionInfo": {
     "elapsed": 15,
     "status": "ok",
     "timestamp": 1674146614666,
     "user": {
      "displayName": "Lucas Palazzolo",
      "userId": "17314445009769713077"
     },
     "user_tz": -60
    },
    "id": "Y_BJyaCQ5_Mf",
    "outputId": "eb02e497-9d33-421b-c382-16fb6bab0b08"
   },
   "outputs": [],
   "source": [
    "checkpoint_filepath = '/tmp/checkpoint'\n",
    "model_checkpoint_callback = tf.keras.callbacks.ModelCheckpoint(\n",
    "    filepath=checkpoint_filepath,\n",
    "    save_weights_only=True,\n",
    "    monitor='val_loss',\n",
    "    mode='min',\n",
    "    save_best_only=True)\n",
    "\n",
    "model_theta = Model1(1)\n",
    "\n",
    "model_theta.compile(\n",
    "    optimizer=tf.optimizers.Adam(1e-4),\n",
    "    loss = tf.keras.losses.MeanSquaredError(),\n",
    "    metrics = ['accuracy'] )"
   ]
  },
  {
   "cell_type": "code",
   "execution_count": null,
   "metadata": {
    "colab": {
     "base_uri": "https://localhost:8080/"
    },
    "executionInfo": {
     "elapsed": 165125,
     "status": "ok",
     "timestamp": 1674146779781,
     "user": {
      "displayName": "Lucas Palazzolo",
      "userId": "17314445009769713077"
     },
     "user_tz": -60
    },
    "id": "V7oE-fdP5_Mf",
    "outputId": "b83cabcf-e65a-4ee0-b247-90000ba96250"
   },
   "outputs": [],
   "source": [
    "batch_size = 64\n",
    "nb_epoch = 50\n",
    "\n",
    "history = model_theta.fit(X_train, Y_train_theta,\n",
    "    batch_size = batch_size, \n",
    "    epochs=nb_epoch,\n",
    "    validation_data=(X_val, Y_val_theta),\n",
    "    callbacks=[model_checkpoint_callback])\n",
    "\n",
    "\n",
    "model_theta.load_weights(checkpoint_filepath)"
   ]
  },
  {
   "cell_type": "code",
   "execution_count": null,
   "metadata": {
    "colab": {
     "base_uri": "https://localhost:8080/",
     "height": 295
    },
    "executionInfo": {
     "elapsed": 1386,
     "status": "ok",
     "timestamp": 1674146781155,
     "user": {
      "displayName": "Lucas Palazzolo",
      "userId": "17314445009769713077"
     },
     "user_tz": -60
    },
    "id": "PfDaoMTk5_Mg",
    "outputId": "ed2f175f-9a73-4143-ad3e-4710ce172949"
   },
   "outputs": [],
   "source": [
    "plot_loss_acc(history)"
   ]
  },
  {
   "cell_type": "code",
   "execution_count": null,
   "metadata": {
    "colab": {
     "base_uri": "https://localhost:8080/"
    },
    "executionInfo": {
     "elapsed": 36,
     "status": "ok",
     "timestamp": 1674146781157,
     "user": {
      "displayName": "Lucas Palazzolo",
      "userId": "17314445009769713077"
     },
     "user_tz": -60
    },
    "id": "_K2D0prJ5_Mg",
    "outputId": "14a7da31-1b8b-4758-db85-8aa9b62c24cb"
   },
   "outputs": [],
   "source": [
    "Y_pred_theta = model_theta(X_test)\n",
    "Y_pred_theta.shape"
   ]
  },
  {
   "cell_type": "code",
   "execution_count": null,
   "metadata": {
    "colab": {
     "base_uri": "https://localhost:8080/",
     "height": 297
    },
    "executionInfo": {
     "elapsed": 21,
     "status": "ok",
     "timestamp": 1674146781158,
     "user": {
      "displayName": "Lucas Palazzolo",
      "userId": "17314445009769713077"
     },
     "user_tz": -60
    },
    "id": "dAa8hodY5_Mh",
    "outputId": "a23d0e59-5233-4f76-d39f-172dcc69bbf4"
   },
   "outputs": [],
   "source": [
    "plot_test_pred(Y_test_theta, Y_pred_theta, [\"$\\theta$\"])"
   ]
  },
  {
   "cell_type": "code",
   "execution_count": null,
   "metadata": {
    "colab": {
     "base_uri": "https://localhost:8080/",
     "height": 1000
    },
    "executionInfo": {
     "elapsed": 35894,
     "status": "ok",
     "timestamp": 1674146874816,
     "user": {
      "displayName": "Lucas Palazzolo",
      "userId": "17314445009769713077"
     },
     "user_tz": -60
    },
    "id": "KNU6kZ565_Mh",
    "outputId": "4ea6fcf9-38c9-45a4-84dd-e8ee6eefd84a"
   },
   "outputs": [],
   "source": [
    "fig, axs = plt.subplots(5,1, figsize=(10,20))\n",
    "\n",
    "axs[0].set_title(r\"$\\theta$ corr with R\")\n",
    "axs[0].scatter(Y_test_theta[:,0],Y_pred_theta[:,0],c=Y_test[:,0],edgecolors=None,alpha=0.7,marker='o',cmap='jet')\n",
    "abscisse=np.linspace(0,np.max(Y_test_theta[:,0]),1000)\n",
    "axs[0].plot(abscisse, abscisse, 'k')\n",
    "axs[0].set_xlabel('Test')\n",
    "axs[0].set_ylabel('Pred')\n",
    "\n",
    "axs[1].set_title(r\"$\\theta$ corr with n\")\n",
    "axs[1].scatter(Y_test_theta[:,0],Y_pred_theta[:,0],c=Y_test[:,1],edgecolors=None,alpha=0.7,marker='o',cmap='jet')\n",
    "abscisse=np.linspace(0,np.max(Y_test_theta[:,0]),1000)\n",
    "axs[1].plot(abscisse, abscisse, 'k')\n",
    "axs[1].set_xlabel('Test')\n",
    "axs[1].set_ylabel('Pred')\n",
    "\n",
    "axs[2].set_title(r\"$\\theta$ corr with q\")\n",
    "axs[2].scatter(Y_test_theta[:,0],Y_pred_theta[:,0],c=Y_test[:,2],edgecolors=None,alpha=0.7,marker='o',cmap='jet')\n",
    "abscisse=np.linspace(0,np.max(Y_test_theta[:,0]),1000)\n",
    "axs[2].plot(abscisse, abscisse, 'k')\n",
    "axs[2].set_xlabel('Test')\n",
    "axs[2].set_ylabel('Pred')\n",
    "\n",
    "axs[3].set_title(r\"$\\theta$ corr with p\")\n",
    "axs[3].scatter(Y_test_theta[:,0],Y_pred_theta[:,0],c=Y_test[:,3],edgecolors=None,alpha=0.7,marker='o',cmap='jet')\n",
    "abscisse=np.linspace(0,np.max(Y_test_theta[:,0]),1000)\n",
    "axs[3].plot(abscisse, abscisse, 'k')\n",
    "axs[3].set_xlabel('Test')\n",
    "axs[3].set_ylabel('Pred')\n",
    "\n",
    "axs[4].set_title(r\"$\\theta$ corr with $\\phi$\")\n",
    "axs[4].scatter(Y_test_theta[:,0],Y_pred_theta[:,0],c=Y_test[:,4],edgecolors=None,alpha=0.7,marker='o',cmap='jet')\n",
    "abscisse=np.linspace(0,np.max(Y_test_theta[:,0]),1000)\n",
    "axs[4].plot(abscisse, abscisse, 'k')\n",
    "axs[4].set_xlabel('Test')\n",
    "axs[4].set_ylabel('Pred')\n",
    "\n",
    "\n",
    "plt.tight_layout()"
   ]
  },
  {
   "cell_type": "code",
   "execution_count": null,
   "metadata": {
    "colab": {
     "base_uri": "https://localhost:8080/",
     "height": 297
    },
    "executionInfo": {
     "elapsed": 1571,
     "status": "ok",
     "timestamp": 1674146812979,
     "user": {
      "displayName": "Lucas Palazzolo",
      "userId": "17314445009769713077"
     },
     "user_tz": -60
    },
    "id": "MSvZMnhM5_Mh",
    "outputId": "356db095-f51f-4dc3-b376-75cf105cc0ae"
   },
   "outputs": [],
   "source": [
    "plot_test_pred_corr(Y_test_theta,Y_pred_theta, [r\"$\\theta$ corr with $\\theta$\"], Y_test[:,5])"
   ]
  },
  {
   "cell_type": "markdown",
   "metadata": {
    "id": "5irKPsO2yxL0"
   },
   "source": [
    "### Parameter n and R"
   ]
  },
  {
   "cell_type": "markdown",
   "metadata": {
    "id": "UOLqoqgDEau9"
   },
   "source": [
    "#### With normalization"
   ]
  },
  {
   "cell_type": "code",
   "execution_count": null,
   "metadata": {
    "colab": {
     "base_uri": "https://localhost:8080/"
    },
    "executionInfo": {
     "elapsed": 311,
     "status": "ok",
     "timestamp": 1674139552112,
     "user": {
      "displayName": "Lucas Palazzolo",
      "userId": "17314445009769713077"
     },
     "user_tz": -60
    },
    "id": "1yFk2g3FEadD",
    "outputId": "04a8dd51-e10e-47a3-fb2b-7e8dcacf209f"
   },
   "outputs": [],
   "source": [
    "Y_train_Rn = Y_train[:,0:2]\n",
    "\n",
    "Y_val_Rn = Y_val[:, 0:2]\n",
    "\n",
    "Y_test_Rn = Y_test[:, 0:2]\n",
    "\n",
    "Y_train_Rn.shape, Y_val_Rn.shape, Y_test_Rn.shape"
   ]
  },
  {
   "cell_type": "markdown",
   "metadata": {
    "id": "RxvNpbpk6TO8"
   },
   "source": [
    "##### Model1"
   ]
  },
  {
   "cell_type": "code",
   "execution_count": null,
   "metadata": {
    "colab": {
     "base_uri": "https://localhost:8080/"
    },
    "executionInfo": {
     "elapsed": 8,
     "status": "ok",
     "timestamp": 1674139554072,
     "user": {
      "displayName": "Lucas Palazzolo",
      "userId": "17314445009769713077"
     },
     "user_tz": -60
    },
    "id": "SocdOtd3E7tx",
    "outputId": "665e8f3f-1cbd-4ebe-a81a-d95a12f43f90"
   },
   "outputs": [],
   "source": [
    "model3 = Model1(2)\n",
    "\n",
    "model3.compile(\n",
    "    optimizer=tf.optimizers.Adam(1e-3),\n",
    "    loss = tf.keras.losses.MeanSquaredError(),\n",
    "    metrics = ['accuracy'] )"
   ]
  },
  {
   "cell_type": "code",
   "execution_count": null,
   "metadata": {
    "colab": {
     "base_uri": "https://localhost:8080/"
    },
    "executionInfo": {
     "elapsed": 87955,
     "status": "ok",
     "timestamp": 1674139645956,
     "user": {
      "displayName": "Lucas Palazzolo",
      "userId": "17314445009769713077"
     },
     "user_tz": -60
    },
    "id": "Ctj4Xv0-E_Ts",
    "outputId": "48f8b215-9dd8-449c-dfb5-4239573fbbf7"
   },
   "outputs": [],
   "source": [
    "batch_size = 64\n",
    "nb_epoch = 30\n",
    "\n",
    "history = model3.fit(X_train, Y_train_Rn,\n",
    "    batch_size = batch_size, \n",
    "    epochs=nb_epoch,\n",
    "    validation_data=(X_val, Y_val_Rn),\n",
    "    callbacks=[tf.keras.callbacks.EarlyStopping(patience=10)])"
   ]
  },
  {
   "cell_type": "code",
   "execution_count": null,
   "metadata": {
    "colab": {
     "base_uri": "https://localhost:8080/",
     "height": 295
    },
    "executionInfo": {
     "elapsed": 55416,
     "status": "ok",
     "timestamp": 1674139701332,
     "user": {
      "displayName": "Lucas Palazzolo",
      "userId": "17314445009769713077"
     },
     "user_tz": -60
    },
    "id": "E6dD0d1rHyZK",
    "outputId": "8dc16d76-c697-49d0-f641-2dc614a9a82a"
   },
   "outputs": [],
   "source": [
    "plot_loss_acc(history)"
   ]
  },
  {
   "cell_type": "code",
   "execution_count": null,
   "metadata": {
    "colab": {
     "base_uri": "https://localhost:8080/"
    },
    "executionInfo": {
     "elapsed": 50,
     "status": "ok",
     "timestamp": 1674139701334,
     "user": {
      "displayName": "Lucas Palazzolo",
      "userId": "17314445009769713077"
     },
     "user_tz": -60
    },
    "id": "FQw2RIBPFPYw",
    "outputId": "1c35b0b8-2fc8-4088-f762-e38da6faeb77"
   },
   "outputs": [],
   "source": [
    "Y_pred_Rn = model3(X_test)\n",
    "Y_pred_Rn.shape"
   ]
  },
  {
   "cell_type": "code",
   "execution_count": null,
   "metadata": {
    "colab": {
     "base_uri": "https://localhost:8080/",
     "height": 297
    },
    "executionInfo": {
     "elapsed": 631,
     "status": "ok",
     "timestamp": 1674139701921,
     "user": {
      "displayName": "Lucas Palazzolo",
      "userId": "17314445009769713077"
     },
     "user_tz": -60
    },
    "id": "fpfy9wsXJ_vD",
    "outputId": "4ec3b1a5-ae52-483c-885c-758568476bbc"
   },
   "outputs": [],
   "source": [
    "plot_test_pred(Y_test_Rn, Y_pred_Rn, [\"R\", \"n\"])"
   ]
  },
  {
   "cell_type": "code",
   "execution_count": null,
   "metadata": {
    "id": "WZF_S4tvfuHF"
   },
   "outputs": [],
   "source": []
  },
  {
   "cell_type": "markdown",
   "metadata": {
    "id": "RHqbyS4L6Xkj"
   },
   "source": [
    "##### Unet"
   ]
  },
  {
   "cell_type": "code",
   "execution_count": null,
   "metadata": {
    "colab": {
     "base_uri": "https://localhost:8080/"
    },
    "executionInfo": {
     "elapsed": 564,
     "status": "ok",
     "timestamp": 1670944293806,
     "user": {
      "displayName": "Lucas Palazzolo",
      "userId": "17314445009769713077"
     },
     "user_tz": -60
    },
    "id": "fZI7o1Of6ZvK",
    "outputId": "4a74f9e5-76c4-4dc9-fcbe-98db3afccf62"
   },
   "outputs": [],
   "source": [
    "window_width = D.shape[1]\n",
    "nb_input = D.shape[-1]\n",
    "\n",
    "model3_unet=make_Unet_4levels(1,2,window_width, nb_input)"
   ]
  },
  {
   "cell_type": "code",
   "execution_count": null,
   "metadata": {
    "id": "OSwSdSJk6y3v"
   },
   "outputs": [],
   "source": [
    "model3_unet.compile(\n",
    "    optimizer=tf.optimizers.Adam(1e-3),\n",
    "    loss = tf.keras.losses.MeanSquaredError(),\n",
    "    metrics = ['accuracy'] )"
   ]
  },
  {
   "cell_type": "code",
   "execution_count": null,
   "metadata": {
    "colab": {
     "base_uri": "https://localhost:8080/"
    },
    "executionInfo": {
     "elapsed": 45294,
     "status": "ok",
     "timestamp": 1670944339095,
     "user": {
      "displayName": "Lucas Palazzolo",
      "userId": "17314445009769713077"
     },
     "user_tz": -60
    },
    "id": "xx-FtLzA64Yd",
    "outputId": "a37942da-4a6e-4138-9431-57fb3087e961"
   },
   "outputs": [],
   "source": [
    "batch_size = 64\n",
    "nb_epoch = 30\n",
    "\n",
    "history = model3_unet.fit(X_train, Y_train_Rn,\n",
    "    batch_size = batch_size, \n",
    "    epochs=nb_epoch,\n",
    "    validation_data=(X_val, Y_val_Rn),\n",
    "    callbacks=[tf.keras.callbacks.EarlyStopping(patience=10)])"
   ]
  },
  {
   "cell_type": "code",
   "execution_count": null,
   "metadata": {
    "colab": {
     "base_uri": "https://localhost:8080/",
     "height": 295
    },
    "executionInfo": {
     "elapsed": 26,
     "status": "ok",
     "timestamp": 1670944339096,
     "user": {
      "displayName": "Lucas Palazzolo",
      "userId": "17314445009769713077"
     },
     "user_tz": -60
    },
    "id": "w8HjM30L68XV",
    "outputId": "8a46e8d9-1ce1-436f-fc25-ca3db02784b2"
   },
   "outputs": [],
   "source": [
    "plot_loss_acc(history)"
   ]
  },
  {
   "cell_type": "code",
   "execution_count": null,
   "metadata": {
    "colab": {
     "base_uri": "https://localhost:8080/"
    },
    "executionInfo": {
     "elapsed": 24,
     "status": "ok",
     "timestamp": 1670944339097,
     "user": {
      "displayName": "Lucas Palazzolo",
      "userId": "17314445009769713077"
     },
     "user_tz": -60
    },
    "id": "_x36_gHL6_zp",
    "outputId": "ace20972-62fe-45bb-dc6c-d656568a1ba7"
   },
   "outputs": [],
   "source": [
    "Y_pred_Rn = model3_unet(X_test)\n",
    "Y_pred_Rn.shape"
   ]
  },
  {
   "cell_type": "code",
   "execution_count": null,
   "metadata": {
    "colab": {
     "base_uri": "https://localhost:8080/",
     "height": 297
    },
    "executionInfo": {
     "elapsed": 1134,
     "status": "ok",
     "timestamp": 1670944340214,
     "user": {
      "displayName": "Lucas Palazzolo",
      "userId": "17314445009769713077"
     },
     "user_tz": -60
    },
    "id": "At_AH4Xf7AmH",
    "outputId": "304b2cbc-73a2-45b0-b911-949e063d2723"
   },
   "outputs": [],
   "source": [
    "plot_test_pred(Y_test_Rn, Y_pred_Rn, [\"R\", \"n\"])"
   ]
  },
  {
   "cell_type": "markdown",
   "metadata": {
    "id": "zxvieQcwPR-X"
   },
   "source": [
    "##### Spherical"
   ]
  },
  {
   "cell_type": "code",
   "execution_count": null,
   "metadata": {
    "id": "PVOp2Y69RdLQ"
   },
   "outputs": [],
   "source": [
    "checkpoint_filepath = '/tmp/checkpoint'\n",
    "model_checkpoint_callback = tf.keras.callbacks.ModelCheckpoint(\n",
    "    filepath=checkpoint_filepath,\n",
    "    save_weights_only=True,\n",
    "    monitor='val_loss',\n",
    "    mode='min',\n",
    "    save_best_only=True)"
   ]
  },
  {
   "cell_type": "code",
   "execution_count": null,
   "metadata": {
    "colab": {
     "base_uri": "https://localhost:8080/"
    },
    "executionInfo": {
     "elapsed": 722,
     "status": "ok",
     "timestamp": 1673950795376,
     "user": {
      "displayName": "Lucas Palazzolo",
      "userId": "17314445009769713077"
     },
     "user_tz": -60
    },
    "id": "pcEQqOIHPR-Z",
    "outputId": "bc2a9147-89a0-45ca-c092-139cb642af34"
   },
   "outputs": [],
   "source": [
    "model2_spherical = Model1(2)\n",
    "\n",
    "model2_spherical.compile(\n",
    "    optimizer=tf.optimizers.Adam(1e-3),\n",
    "    loss = tf.keras.losses.MeanSquaredError(),\n",
    "    metrics = ['accuracy'] )"
   ]
  },
  {
   "cell_type": "code",
   "execution_count": null,
   "metadata": {
    "colab": {
     "base_uri": "https://localhost:8080/",
     "height": 1000
    },
    "executionInfo": {
     "elapsed": 203595,
     "status": "error",
     "timestamp": 1673951032571,
     "user": {
      "displayName": "Lucas Palazzolo",
      "userId": "17314445009769713077"
     },
     "user_tz": -60
    },
    "id": "GBsVIU5LPR-a",
    "outputId": "f7075f98-5bc4-4f8b-acb8-2ce21ac4f141"
   },
   "outputs": [],
   "source": [
    "batch_size = 64\n",
    "nb_epoch = 30\n",
    "\n",
    "history = model2_spherical.fit(X_spher_train, Y_train_Rn,\n",
    "    batch_size = batch_size, \n",
    "    epochs=nb_epoch,\n",
    "    validation_data=(X_spher_val, Y_val_Rn),\n",
    "    callbacks=[model_checkpoint_callback])\n",
    "\n",
    "\n",
    "model2_spherical.load_weights(checkpoint_filepath)"
   ]
  },
  {
   "cell_type": "code",
   "execution_count": null,
   "metadata": {
    "id": "Z9I1dOjHPR-b"
   },
   "outputs": [],
   "source": [
    "plot_loss_acc(history)"
   ]
  },
  {
   "cell_type": "code",
   "execution_count": null,
   "metadata": {
    "colab": {
     "base_uri": "https://localhost:8080/"
    },
    "executionInfo": {
     "elapsed": 803,
     "status": "ok",
     "timestamp": 1673950608593,
     "user": {
      "displayName": "Lucas Palazzolo",
      "userId": "17314445009769713077"
     },
     "user_tz": -60
    },
    "id": "JjKMOdGfPR-b",
    "outputId": "c7f6156f-0a2a-4c37-9901-8d25554f4640"
   },
   "outputs": [],
   "source": [
    "Y_pred_Rn_spherical = model2_spherical(X_spher_test)\n",
    "Y_pred_Rn_spherical.shape"
   ]
  },
  {
   "cell_type": "code",
   "execution_count": null,
   "metadata": {
    "colab": {
     "base_uri": "https://localhost:8080/",
     "height": 297
    },
    "executionInfo": {
     "elapsed": 16,
     "status": "ok",
     "timestamp": 1673950608595,
     "user": {
      "displayName": "Lucas Palazzolo",
      "userId": "17314445009769713077"
     },
     "user_tz": -60
    },
    "id": "L-UgwWVtPR-c",
    "outputId": "9f45f6c3-23bd-464e-a91c-13803c329c17"
   },
   "outputs": [],
   "source": [
    "plot_test_pred(Y_test_Rn, Y_pred_Rn_spherical, [\"R\",\"n\"])"
   ]
  },
  {
   "cell_type": "code",
   "execution_count": null,
   "metadata": {
    "id": "8zQcACdAPPIk"
   },
   "outputs": [],
   "source": []
  },
  {
   "cell_type": "markdown",
   "metadata": {
    "id": "ouFWAFXgEfLN"
   },
   "source": [
    "#### Without normalization"
   ]
  },
  {
   "cell_type": "code",
   "execution_count": null,
   "metadata": {
    "colab": {
     "base_uri": "https://localhost:8080/"
    },
    "executionInfo": {
     "elapsed": 24,
     "status": "ok",
     "timestamp": 1670943845764,
     "user": {
      "displayName": "Lucas Palazzolo",
      "userId": "17314445009769713077"
     },
     "user_tz": -60
    },
    "id": "ywmCcam5Ehjo",
    "outputId": "06b6ca39-9075-4db1-e8fc-2dac4d94429c"
   },
   "outputs": [],
   "source": [
    "Y_train_Rn_without_norm = Y_train_without_norm[:,0:2]\n",
    "\n",
    "Y_val_Rn_without_norm = Y_val_without_norm[:, 0:2]\n",
    "\n",
    "Y_test_Rn_without_norm = Y_test_without_norm[:, 0:2]\n",
    "\n",
    "Y_train_Rn_without_norm.shape, Y_val_Rn_without_norm.shape, Y_test_Rn_without_norm.shape"
   ]
  },
  {
   "cell_type": "code",
   "execution_count": null,
   "metadata": {
    "colab": {
     "base_uri": "https://localhost:8080/"
    },
    "executionInfo": {
     "elapsed": 19,
     "status": "ok",
     "timestamp": 1670943845764,
     "user": {
      "displayName": "Lucas Palazzolo",
      "userId": "17314445009769713077"
     },
     "user_tz": -60
    },
    "id": "2l4z707DL0-l",
    "outputId": "ab6b9023-6ec2-4544-f905-0a320663ad46"
   },
   "outputs": [],
   "source": [
    "model4 = Model1(2)\n",
    "\n",
    "model4.compile(\n",
    "    optimizer=tf.optimizers.Adam(1e-3),\n",
    "    loss = tf.keras.losses.MeanSquaredError(),\n",
    "    metrics = ['accuracy'] )"
   ]
  },
  {
   "cell_type": "code",
   "execution_count": null,
   "metadata": {
    "colab": {
     "base_uri": "https://localhost:8080/"
    },
    "executionInfo": {
     "elapsed": 70019,
     "status": "ok",
     "timestamp": 1670943915768,
     "user": {
      "displayName": "Lucas Palazzolo",
      "userId": "17314445009769713077"
     },
     "user_tz": -60
    },
    "id": "oUp7J9KbL40r",
    "outputId": "00dfb7c1-0d35-4eff-f671-dfc5b903c626"
   },
   "outputs": [],
   "source": [
    "batch_size = 64\n",
    "nb_epoch = 30\n",
    "\n",
    "history = model4.fit(X_train, Y_train_Rn_without_norm,\n",
    "    batch_size = batch_size, \n",
    "    epochs=nb_epoch,\n",
    "    validation_data=(X_val, Y_val_Rn_without_norm),\n",
    "    callbacks=[tf.keras.callbacks.EarlyStopping(patience=10)])"
   ]
  },
  {
   "cell_type": "code",
   "execution_count": null,
   "metadata": {
    "colab": {
     "base_uri": "https://localhost:8080/",
     "height": 295
    },
    "executionInfo": {
     "elapsed": 10855,
     "status": "ok",
     "timestamp": 1670943926600,
     "user": {
      "displayName": "Lucas Palazzolo",
      "userId": "17314445009769713077"
     },
     "user_tz": -60
    },
    "id": "tVo2FfsPL67S",
    "outputId": "133c429f-131c-4fd3-fa5f-d07c1774ad25"
   },
   "outputs": [],
   "source": [
    "plot_loss_acc(history)"
   ]
  },
  {
   "cell_type": "code",
   "execution_count": null,
   "metadata": {
    "colab": {
     "base_uri": "https://localhost:8080/"
    },
    "executionInfo": {
     "elapsed": 635,
     "status": "ok",
     "timestamp": 1670943927222,
     "user": {
      "displayName": "Lucas Palazzolo",
      "userId": "17314445009769713077"
     },
     "user_tz": -60
    },
    "id": "diMsIuulMCZd",
    "outputId": "5a46b6ce-e03d-4300-e593-43b88598ac73"
   },
   "outputs": [],
   "source": [
    "Y_pred_Rn_without_norm = model4(X_test)\n",
    "Y_pred_Rn_without_norm.shape"
   ]
  },
  {
   "cell_type": "code",
   "execution_count": null,
   "metadata": {
    "colab": {
     "base_uri": "https://localhost:8080/",
     "height": 297
    },
    "executionInfo": {
     "elapsed": 964,
     "status": "ok",
     "timestamp": 1670943928180,
     "user": {
      "displayName": "Lucas Palazzolo",
      "userId": "17314445009769713077"
     },
     "user_tz": -60
    },
    "id": "sWnQ2po1MGsB",
    "outputId": "6e0c6008-7b51-4459-bc25-bb757ecc1c25"
   },
   "outputs": [],
   "source": [
    "plot_test_pred(Y_test_Rn_without_norm, Y_pred_Rn_without_norm, [\"R_without_norm\", \"n_without_norm\"])"
   ]
  },
  {
   "cell_type": "markdown",
   "metadata": {
    "id": "gmH7eyC9t4kt"
   },
   "source": [
    "### Parameter q and p"
   ]
  },
  {
   "cell_type": "code",
   "execution_count": null,
   "metadata": {
    "colab": {
     "base_uri": "https://localhost:8080/"
    },
    "executionInfo": {
     "elapsed": 12,
     "status": "ok",
     "timestamp": 1670945614237,
     "user": {
      "displayName": "Lucas Palazzolo",
      "userId": "17314445009769713077"
     },
     "user_tz": -60
    },
    "id": "nVA1_s2OuLV5",
    "outputId": "c62ef40f-7bad-44c1-cc83-cf9972bc51e2"
   },
   "outputs": [],
   "source": [
    "Y_train_qp = Y_train[:,2:4]\n",
    "\n",
    "Y_val_qp = Y_val[:, 2:4]\n",
    "\n",
    "Y_test_qp = Y_test[:, 2:4]\n",
    "\n",
    "Y_train_qp.shape, Y_val_qp.shape, Y_test_qp.shape"
   ]
  },
  {
   "cell_type": "code",
   "execution_count": null,
   "metadata": {
    "colab": {
     "base_uri": "https://localhost:8080/"
    },
    "executionInfo": {
     "elapsed": 11,
     "status": "ok",
     "timestamp": 1670945614237,
     "user": {
      "displayName": "Lucas Palazzolo",
      "userId": "17314445009769713077"
     },
     "user_tz": -60
    },
    "id": "HITz7gV2uiyN",
    "outputId": "dfc3712d-bf1a-4ac0-c20a-62a5f4824167"
   },
   "outputs": [],
   "source": [
    "model5 = Model1(2)\n",
    "\n",
    "model5.compile(\n",
    "    optimizer=tf.optimizers.Adam(1e-3),\n",
    "    loss = tf.keras.losses.MeanSquaredError(),\n",
    "    metrics = ['accuracy'] )"
   ]
  },
  {
   "cell_type": "code",
   "execution_count": null,
   "metadata": {
    "id": "jZ-pdL7wHnu5"
   },
   "outputs": [],
   "source": [
    "checkpoint_filepath = '/tmp/checkpoint'\n",
    "model_checkpoint_callback = tf.keras.callbacks.ModelCheckpoint(\n",
    "    filepath=checkpoint_filepath,\n",
    "    save_weights_only=True,\n",
    "    monitor='val_loss',\n",
    "    mode='min',\n",
    "    save_best_only=True)"
   ]
  },
  {
   "cell_type": "code",
   "execution_count": null,
   "metadata": {
    "colab": {
     "base_uri": "https://localhost:8080/"
    },
    "executionInfo": {
     "elapsed": 383260,
     "status": "ok",
     "timestamp": 1670945997490,
     "user": {
      "displayName": "Lucas Palazzolo",
      "userId": "17314445009769713077"
     },
     "user_tz": -60
    },
    "id": "RUbDD6yfuptB",
    "outputId": "b56980e5-8b74-4661-b982-11b9fbd80336"
   },
   "outputs": [],
   "source": [
    "batch_size = 64\n",
    "nb_epoch = 100\n",
    "\n",
    "history = model5.fit(X_train, Y_train_qp,\n",
    "    batch_size = batch_size, \n",
    "    epochs=nb_epoch,\n",
    "    validation_data=(X_val, Y_val_qp),\n",
    "    callbacks=[model_checkpoint_callback])\n",
    "\n",
    "\n",
    "model5.load_weights(checkpoint_filepath)"
   ]
  },
  {
   "cell_type": "code",
   "execution_count": null,
   "metadata": {
    "colab": {
     "base_uri": "https://localhost:8080/",
     "height": 295
    },
    "executionInfo": {
     "elapsed": 40,
     "status": "ok",
     "timestamp": 1670945997492,
     "user": {
      "displayName": "Lucas Palazzolo",
      "userId": "17314445009769713077"
     },
     "user_tz": -60
    },
    "id": "A7bta1cfusPb",
    "outputId": "6ab44500-9064-4416-856a-85d380bff81f"
   },
   "outputs": [],
   "source": [
    "plot_loss_acc(history)"
   ]
  },
  {
   "cell_type": "code",
   "execution_count": null,
   "metadata": {
    "colab": {
     "base_uri": "https://localhost:8080/"
    },
    "executionInfo": {
     "elapsed": 34,
     "status": "ok",
     "timestamp": 1670945997493,
     "user": {
      "displayName": "Lucas Palazzolo",
      "userId": "17314445009769713077"
     },
     "user_tz": -60
    },
    "id": "z1bqI3GFuurQ",
    "outputId": "ce7c3d88-8d8e-46bc-e23c-866f8c1b845d"
   },
   "outputs": [],
   "source": [
    "Y_pred_qp = model5(X_test)\n",
    "Y_pred_qp.shape"
   ]
  },
  {
   "cell_type": "code",
   "execution_count": null,
   "metadata": {
    "colab": {
     "base_uri": "https://localhost:8080/",
     "height": 297
    },
    "executionInfo": {
     "elapsed": 1334,
     "status": "ok",
     "timestamp": 1670945998806,
     "user": {
      "displayName": "Lucas Palazzolo",
      "userId": "17314445009769713077"
     },
     "user_tz": -60
    },
    "id": "u8Zs71d3uxlh",
    "outputId": "3e240c5a-b134-4b6a-ee30-5fe4b7fbf7b4"
   },
   "outputs": [],
   "source": [
    "plot_test_pred(Y_test_qp, Y_pred_qp, [\"q\", \"p\"])"
   ]
  },
  {
   "cell_type": "markdown",
   "metadata": {
    "id": "w_BSjxQaEOnt"
   },
   "source": [
    "### Parameter n, R, q and p"
   ]
  },
  {
   "cell_type": "code",
   "execution_count": null,
   "metadata": {
    "colab": {
     "base_uri": "https://localhost:8080/"
    },
    "executionInfo": {
     "elapsed": 17,
     "status": "ok",
     "timestamp": 1670944926679,
     "user": {
      "displayName": "Lucas Palazzolo",
      "userId": "17314445009769713077"
     },
     "user_tz": -60
    },
    "id": "avuLIHGNER75",
    "outputId": "d28f41b1-bd9c-4a2b-ec92-60d4c5c28696"
   },
   "outputs": [],
   "source": [
    "Y_train_nRqp = Y_train[:,0:4]\n",
    "\n",
    "Y_val_nRqp = Y_val[:, 0:4]\n",
    "\n",
    "Y_test_nRqp = Y_test[:, 0:4]\n",
    "\n",
    "Y_train_nRqp.shape, Y_val_nRqp.shape, Y_test_nRqp.shape"
   ]
  },
  {
   "cell_type": "code",
   "execution_count": null,
   "metadata": {
    "colab": {
     "base_uri": "https://localhost:8080/"
    },
    "executionInfo": {
     "elapsed": 1528,
     "status": "ok",
     "timestamp": 1670945004609,
     "user": {
      "displayName": "Lucas Palazzolo",
      "userId": "17314445009769713077"
     },
     "user_tz": -60
    },
    "id": "rqcsj5niE8qs",
    "outputId": "92debb37-3233-481c-8b37-48ff132761d8"
   },
   "outputs": [],
   "source": [
    "model6 = Model1(4)\n",
    "\n",
    "model6.compile(\n",
    "    optimizer=tf.optimizers.Adam(1e-3),\n",
    "    loss = tf.keras.losses.MeanSquaredError(),\n",
    "    metrics = ['accuracy'] )"
   ]
  },
  {
   "cell_type": "code",
   "execution_count": null,
   "metadata": {
    "id": "wB2G_6WR7ifB"
   },
   "outputs": [],
   "source": [
    "checkpoint_filepath = '/tmp/checkpoint'\n",
    "model_checkpoint_callback = tf.keras.callbacks.ModelCheckpoint(\n",
    "    filepath=checkpoint_filepath,\n",
    "    save_weights_only=True,\n",
    "    monitor='val_loss',\n",
    "    mode='min',\n",
    "    save_best_only=True)"
   ]
  },
  {
   "cell_type": "code",
   "execution_count": null,
   "metadata": {
    "colab": {
     "base_uri": "https://localhost:8080/"
    },
    "executionInfo": {
     "elapsed": 323038,
     "status": "ok",
     "timestamp": 1670945328347,
     "user": {
      "displayName": "Lucas Palazzolo",
      "userId": "17314445009769713077"
     },
     "user_tz": -60
    },
    "id": "S1-bhULBFFzI",
    "outputId": "34feda46-0877-4adf-d28a-728e78aa3c46"
   },
   "outputs": [],
   "source": [
    "batch_size = 64\n",
    "nb_epoch = 100\n",
    "\n",
    "history = model6.fit(X_train, Y_train_nRqp,\n",
    "    batch_size = batch_size, \n",
    "    epochs=nb_epoch,\n",
    "    validation_data=(X_val, Y_val_nRqp),\n",
    "    callbacks=[model_checkpoint_callback])\n",
    "\n",
    "\n",
    "model6.load_weights(checkpoint_filepath)"
   ]
  },
  {
   "cell_type": "code",
   "execution_count": null,
   "metadata": {
    "colab": {
     "base_uri": "https://localhost:8080/",
     "height": 295
    },
    "executionInfo": {
     "elapsed": 10,
     "status": "ok",
     "timestamp": 1670945328349,
     "user": {
      "displayName": "Lucas Palazzolo",
      "userId": "17314445009769713077"
     },
     "user_tz": -60
    },
    "id": "tO9wElCNFaB7",
    "outputId": "27a7400c-5081-4a71-8319-86da1d9519dd"
   },
   "outputs": [],
   "source": [
    "plot_loss_acc(history)"
   ]
  },
  {
   "cell_type": "code",
   "execution_count": null,
   "metadata": {
    "colab": {
     "base_uri": "https://localhost:8080/"
    },
    "executionInfo": {
     "elapsed": 11,
     "status": "ok",
     "timestamp": 1670945378747,
     "user": {
      "displayName": "Lucas Palazzolo",
      "userId": "17314445009769713077"
     },
     "user_tz": -60
    },
    "id": "BPZkbR6RFa90",
    "outputId": "8e2dedd3-02bb-4469-bb2a-5d111b073720"
   },
   "outputs": [],
   "source": [
    "Y_pred_nRqp = model6(X_test)\n",
    "Y_pred_nRqp.shape"
   ]
  },
  {
   "cell_type": "code",
   "execution_count": null,
   "metadata": {
    "colab": {
     "base_uri": "https://localhost:8080/",
     "height": 873
    },
    "executionInfo": {
     "elapsed": 1797,
     "status": "ok",
     "timestamp": 1670945550149,
     "user": {
      "displayName": "Lucas Palazzolo",
      "userId": "17314445009769713077"
     },
     "user_tz": -60
    },
    "id": "MFavfvyvFgzm",
    "outputId": "77ca1bfd-0a9a-4702-9193-70d51ea07dba"
   },
   "outputs": [],
   "source": [
    "plot_test_pred(Y_test_nRqp, Y_pred_nRqp, [\"R\", \"n\", \"q\", \"p\"])"
   ]
  },
  {
   "cell_type": "code",
   "execution_count": null,
   "metadata": {
    "id": "Z-wsqPKZuHO5"
   },
   "outputs": [],
   "source": [
    "#faire une classe qui permet de tester les différentes trucs sans faire 50 cellules -> faire un trainer avec fit ou epoch=1 et faire while pour le train duration"
   ]
  },
  {
   "cell_type": "markdown",
   "metadata": {
    "id": "nUQzy6opH5hM"
   },
   "source": [
    "### Parameter $\\phi$ et $\\theta$"
   ]
  },
  {
   "cell_type": "code",
   "execution_count": null,
   "metadata": {
    "colab": {
     "base_uri": "https://localhost:8080/"
    },
    "executionInfo": {
     "elapsed": 31,
     "status": "ok",
     "timestamp": 1670945999694,
     "user": {
      "displayName": "Lucas Palazzolo",
      "userId": "17314445009769713077"
     },
     "user_tz": -60
    },
    "id": "h1lZ8j15H7tb",
    "outputId": "94856bf3-b817-442a-88ab-eee5f5785f8f"
   },
   "outputs": [],
   "source": [
    "Y_train_ΦΘ = Y_train[:,4:6]\n",
    "\n",
    "Y_val_ΦΘ = Y_val[:, 4:6]\n",
    "\n",
    "Y_test_ΦΘ = Y_test[:, 4:6]\n",
    "\n",
    "Y_train_ΦΘ.shape, Y_val_ΦΘ.shape, Y_test_ΦΘ.shape"
   ]
  },
  {
   "cell_type": "code",
   "execution_count": null,
   "metadata": {
    "colab": {
     "base_uri": "https://localhost:8080/"
    },
    "executionInfo": {
     "elapsed": 29,
     "status": "ok",
     "timestamp": 1670945999696,
     "user": {
      "displayName": "Lucas Palazzolo",
      "userId": "17314445009769713077"
     },
     "user_tz": -60
    },
    "id": "tPTuV8eQIcax",
    "outputId": "b070b7bc-0260-44fa-cc44-60b47c29997e"
   },
   "outputs": [],
   "source": [
    "model7 = Model1(2)\n",
    "\n",
    "model7.compile(\n",
    "    optimizer=tf.optimizers.Adam(1e-3),\n",
    "    loss = tf.keras.losses.MeanSquaredError(),\n",
    "    metrics = ['accuracy'] )"
   ]
  },
  {
   "cell_type": "code",
   "execution_count": null,
   "metadata": {
    "id": "IP-aKhWDIkqy"
   },
   "outputs": [],
   "source": [
    "checkpoint_filepath = '/tmp/checkpoint'\n",
    "model_checkpoint_callback = tf.keras.callbacks.ModelCheckpoint(\n",
    "    filepath=checkpoint_filepath,\n",
    "    save_weights_only=True,\n",
    "    monitor='val_loss',\n",
    "    mode='min',\n",
    "    save_best_only=True)"
   ]
  },
  {
   "cell_type": "code",
   "execution_count": null,
   "metadata": {
    "colab": {
     "base_uri": "https://localhost:8080/"
    },
    "executionInfo": {
     "elapsed": 312510,
     "status": "ok",
     "timestamp": 1670946341144,
     "user": {
      "displayName": "Lucas Palazzolo",
      "userId": "17314445009769713077"
     },
     "user_tz": -60
    },
    "id": "MfssViZaI3Ll",
    "outputId": "827ae0a9-4eb5-46d6-e6e4-faea4a24d20b"
   },
   "outputs": [],
   "source": [
    "batch_size = 64\n",
    "nb_epoch = 100\n",
    "\n",
    "history = model7.fit(X_train, Y_train_ΦΘ,\n",
    "    batch_size = batch_size, \n",
    "    epochs=nb_epoch,\n",
    "    validation_data=(X_val, Y_val_ΦΘ),\n",
    "    callbacks=[model_checkpoint_callback])\n",
    "\n",
    "\n",
    "model7.load_weights(checkpoint_filepath)"
   ]
  },
  {
   "cell_type": "code",
   "execution_count": null,
   "metadata": {
    "colab": {
     "base_uri": "https://localhost:8080/",
     "height": 295
    },
    "executionInfo": {
     "elapsed": 76,
     "status": "ok",
     "timestamp": 1670946341146,
     "user": {
      "displayName": "Lucas Palazzolo",
      "userId": "17314445009769713077"
     },
     "user_tz": -60
    },
    "id": "2JCGTXn7I6bO",
    "outputId": "986fb794-937d-4f8b-8aa1-dc72c11c4e84"
   },
   "outputs": [],
   "source": [
    "plot_loss_acc(history)"
   ]
  },
  {
   "cell_type": "code",
   "execution_count": null,
   "metadata": {
    "colab": {
     "base_uri": "https://localhost:8080/"
    },
    "executionInfo": {
     "elapsed": 401,
     "status": "ok",
     "timestamp": 1670946447126,
     "user": {
      "displayName": "Lucas Palazzolo",
      "userId": "17314445009769713077"
     },
     "user_tz": -60
    },
    "id": "kaXgtEJvI-QP",
    "outputId": "04885b0f-3350-490d-9d0a-7d03f4ff2777"
   },
   "outputs": [],
   "source": [
    "Y_pred_ΦΘ = model7(X_test)\n",
    "Y_pred_ΦΘ.shape"
   ]
  },
  {
   "cell_type": "code",
   "execution_count": null,
   "metadata": {
    "colab": {
     "base_uri": "https://localhost:8080/",
     "height": 297
    },
    "executionInfo": {
     "elapsed": 56,
     "status": "ok",
     "timestamp": 1670946454008,
     "user": {
      "displayName": "Lucas Palazzolo",
      "userId": "17314445009769713077"
     },
     "user_tz": -60
    },
    "id": "7KNDPyxxJBEo",
    "outputId": "f52290d5-3949-4b4d-abc1-9e56e48bb511"
   },
   "outputs": [],
   "source": [
    "plot_test_pred(Y_test_ΦΘ, Y_pred_ΦΘ, [\"phi\", \"theta\"])"
   ]
  },
  {
   "cell_type": "code",
   "execution_count": null,
   "metadata": {
    "id": "r89Ou5GHJPxx"
   },
   "outputs": [],
   "source": []
  }
 ],
 "metadata": {
  "accelerator": "GPU",
  "colab": {
   "authorship_tag": "ABX9TyPfZVuTEywtDLfMJLyNbQRu",
   "provenance": [],
   "toc_visible": true
  },
  "gpuClass": "standard",
  "kernelspec": {
   "display_name": "Python 3 (ipykernel)",
   "language": "python",
   "name": "python3"
  },
  "language_info": {
   "codemirror_mode": {
    "name": "ipython",
    "version": 3
   },
   "file_extension": ".py",
   "mimetype": "text/x-python",
   "name": "python",
   "nbconvert_exporter": "python",
   "pygments_lexer": "ipython3",
   "version": "3.9.12"
  }
 },
 "nbformat": 4,
 "nbformat_minor": 1
}

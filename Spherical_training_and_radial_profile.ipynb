{
 "cells": [
  {
   "cell_type": "markdown",
   "metadata": {
    "id": "xpfb2g6H_IhW"
   },
   "source": [
    "# Deep Learning : 3D shapes\n",
    "\n",
    "\n"
   ]
  },
  {
   "cell_type": "markdown",
   "metadata": {
    "id": "CnUiRjYV_ciM"
   },
   "source": [
    "## Imports"
   ]
  },
  {
   "cell_type": "code",
   "execution_count": 1,
   "metadata": {
    "executionInfo": {
     "elapsed": 2527,
     "status": "ok",
     "timestamp": 1674142974322,
     "user": {
      "displayName": "Lucas Palazzolo",
      "userId": "17314445009769713077"
     },
     "user_tz": -60
    },
    "id": "gsytSGUVMTlZ"
   },
   "outputs": [
    {
     "name": "stderr",
     "output_type": "stream",
     "text": [
      "2023-01-24 09:19:15.591231: I tensorflow/core/platform/cpu_feature_guard.cc:193] This TensorFlow binary is optimized with oneAPI Deep Neural Network Library (oneDNN) to use the following CPU instructions in performance-critical operations:  AVX2 FMA\n",
      "To enable them in other operations, rebuild TensorFlow with the appropriate compiler flags.\n"
     ]
    }
   ],
   "source": [
    "import numpy as np\n",
    "import os\n",
    "import tensorflow as tf\n",
    "import pandas as pd\n",
    "import matplotlib.pyplot as plt\n",
    "np.set_printoptions(linewidth=500,precision=2,suppress=True)\n",
    "import time\n",
    "from mpl_toolkits.axes_grid1 import make_axes_locatable\n",
    "from sklearn.metrics import mean_squared_error\n",
    "\n",
    "\n",
    "from IPython.display import clear_output"
   ]
  },
  {
   "cell_type": "markdown",
   "metadata": {
    "id": "C1sUlu6d_jVB"
   },
   "source": [
    "## Utils"
   ]
  },
  {
   "cell_type": "code",
   "execution_count": 2,
   "metadata": {
    "executionInfo": {
     "elapsed": 19,
     "status": "ok",
     "timestamp": 1674142974323,
     "user": {
      "displayName": "Lucas Palazzolo",
      "userId": "17314445009769713077"
     },
     "user_tz": -60
    },
    "id": "HDikhyfjGG3s"
   },
   "outputs": [],
   "source": [
    "def progression(i, n):\n",
    "    i += 1\n",
    "    k = int(i/n*20)\n",
    "    print(f'\\rProgression:[{k*\"#\"}{(20-k)*\" \"}] [{(i/n*100):.0f} %]',\n",
    "          end='' if i != n else \"\\n\", flush=True)"
   ]
  },
  {
   "cell_type": "code",
   "execution_count": 3,
   "metadata": {
    "executionInfo": {
     "elapsed": 19,
     "status": "ok",
     "timestamp": 1674142974323,
     "user": {
      "displayName": "Lucas Palazzolo",
      "userId": "17314445009769713077"
     },
     "user_tz": -60
    },
    "id": "_j__f4mtP3Xk"
   },
   "outputs": [],
   "source": [
    "def plot_loss_acc(history):\n",
    "\n",
    "    fig, axs = plt.subplots(1,2,figsize=(15,4))\n",
    "    axs[0].set_title(\"Loss\")\n",
    "    axs[0].plot(history.history['loss'], label='loss')\n",
    "    axs[0].plot(history.history['val_loss'], label='val_loss')\n",
    "    axs[0].set_xlabel('Epoch #')\n",
    "    axs[0].legend()\n",
    "\n",
    "    axs[1].set_title(\"Accuracy\")\n",
    "    axs[1].plot(history.history['accuracy'], label='accuracy')\n",
    "    axs[1].plot(history.history['val_accuracy'], label='val_accuracy')\n",
    "    axs[1].set_xlabel('Epoch #')\n",
    "    axs[1].legend();"
   ]
  },
  {
   "cell_type": "code",
   "execution_count": 4,
   "metadata": {
    "executionInfo": {
     "elapsed": 18,
     "status": "ok",
     "timestamp": 1674142974323,
     "user": {
      "displayName": "Lucas Palazzolo",
      "userId": "17314445009769713077"
     },
     "user_tz": -60
    },
    "id": "y-kzcAiWH_kd"
   },
   "outputs": [],
   "source": [
    "def plot_test_pred(Y_test, Y_pred, titles) :\n",
    "\n",
    "    n = Y_pred.shape[-1]\n",
    "\n",
    "    \n",
    "\n",
    "    if n<=2 :\n",
    "      if n == 2 :\n",
    "        fig, axs = plt.subplots(1,2, figsize=(7*n,4))\n",
    "        for i in range(n) :\n",
    "            axs[i].set_title(titles[i])\n",
    "            axs[i].scatter(Y_test[:,i], Y_pred[:,i], alpha=0.1)\n",
    "            abscisse=np.linspace(0,np.max(Y_test[:,i]),1000)\n",
    "            axs[i].plot(abscisse, abscisse, 'k')\n",
    "            axs[i].set_xlabel('Test')\n",
    "            axs[i].set_ylabel('Pred')\n",
    "      if n== 1 :\n",
    "          fig, axs = plt.subplots(1,1, figsize=(10,4))\n",
    "          axs.set_title(titles[0])\n",
    "          axs.scatter(Y_test[:,0], Y_pred[:,0], alpha=0.1)\n",
    "          abscisse=np.linspace(0,np.max(Y_test[:,0]),1000)\n",
    "          axs.plot(abscisse, abscisse, 'k')\n",
    "          axs.set_xlabel('Test')\n",
    "          axs.set_ylabel('Pred')\n",
    "\n",
    "    else :\n",
    "      fig, axs = plt.subplots( (n+1)//2,2, figsize=(14, 3*n))\n",
    "      for i in range(n) :\n",
    "          axs[i//2, i%2].set_title(titles[i])\n",
    "          axs[i//2, i%2].scatter(Y_test[:,i], Y_pred[:,i], alpha=0.1)\n",
    "          abscisse=np.linspace(0,np.max(Y_test[:,i]),1000)\n",
    "          axs[i//2, i%2].plot(abscisse, abscisse, 'k')\n",
    "          axs[i//2, i%2].set_xlabel('Test')\n",
    "          axs[i//2, i%2].set_ylabel('Pred')\n",
    "    plt.tight_layout();"
   ]
  },
  {
   "cell_type": "code",
   "execution_count": 5,
   "metadata": {
    "executionInfo": {
     "elapsed": 18,
     "status": "ok",
     "timestamp": 1674142974323,
     "user": {
      "displayName": "Lucas Palazzolo",
      "userId": "17314445009769713077"
     },
     "user_tz": -60
    },
    "id": "GdJA0aoeSQOb"
   },
   "outputs": [],
   "source": [
    "def plot_test_pred_corr(Y_test, Y_pred, titles, Corr, corr_label) :\n",
    "\n",
    "    n = Y_pred.shape[-1]\n",
    "\n",
    "    if n<=2 :\n",
    "        if n == 2 :\n",
    "            fig, axs = plt.subplots(1,2, figsize=(7*n,4))\n",
    "            for i in range(n) :\n",
    "                axs[i].set_title(titles[i])\n",
    "                im = axs[i].scatter(Y_test[:,i],Y_pred[:,i],c=Corr,edgecolors=None,alpha=0.7,marker='o',cmap='jet')\n",
    "                abscisse=np.linspace(0,np.max(Y_test[:,i]),1000)\n",
    "                axs[i].plot(abscisse, abscisse, 'k')\n",
    "                axs[i].set_xlabel('Test')\n",
    "                xs[i].set_ylabel('Pred')\n",
    "                divider = make_axes_locatable(axs)\n",
    "                cax = divider.append_axes('right', size='5%', pad=0.05)\n",
    "                fig.colorbar(im, cax=cax, orientation='vertical', label=corr_label)\n",
    "                \n",
    "        if n== 1 :\n",
    "            fig, axs = plt.subplots(1,1, figsize=(10,4))\n",
    "            axs.set_title(titles[0])\n",
    "            im = axs.scatter(Y_test[:,0],Y_pred[:,0],c=Corr,edgecolors=None,alpha=0.7,marker='o',cmap='jet')\n",
    "            abscisse=np.linspace(0,np.max(Y_test[:,0]),1000)\n",
    "            axs.plot(abscisse, abscisse, 'k')\n",
    "            axs.set_xlabel('Test')\n",
    "            axs.set_ylabel('Pred')\n",
    "            divider = make_axes_locatable(axs)\n",
    "            cax = divider.append_axes('right', size='5%', pad=0.05)\n",
    "            fig.colorbar(im, cax=cax, orientation='vertical', label=corr_label)\n",
    "    else :\n",
    "        fig, axs = plt.subplots( (n+1)//2,2, figsize=(14, 3*n))\n",
    "        for i in range(n) :\n",
    "            xs[i//2, i%2].set_title(titles[i])\n",
    "            im = axs[i//2, i%2].scatter(Y_test[:,i],Y_pred[:,i],c=Corr,edgecolors=None,alpha=0.7,marker='o',cmap='jet')\n",
    "            abscisse=np.linspace(0,np.max(Y_test[:,i]),1000)\n",
    "            axs[i//2, i%2].plot(abscisse, abscisse, 'k')\n",
    "            axs[i//2, i%2].set_xlabel('Test')\n",
    "            axs[i//2, i%2].set_ylabel('Pred')\n",
    "            divider = make_axes_locatable(axs[i//2, i%2])\n",
    "            cax = divider.append_axes('right', size='5%', pad=0.05)\n",
    "            fig.colorbar(im, cax=cax, orientation='vertical', label=corr_label)\n",
    "    plt.tight_layout();"
   ]
  },
  {
   "cell_type": "markdown",
   "metadata": {
    "id": "4y_4i-qm_6YF"
   },
   "source": [
    "## Data"
   ]
  },
  {
   "cell_type": "markdown",
   "metadata": {
    "id": "W4z7rMkL_9XC"
   },
   "source": [
    "### Import"
   ]
  },
  {
   "cell_type": "code",
   "execution_count": 2,
   "metadata": {
    "executionInfo": {
     "elapsed": 18,
     "status": "ok",
     "timestamp": 1674142974324,
     "user": {
      "displayName": "Lucas Palazzolo",
      "userId": "17314445009769713077"
     },
     "user_tz": -60
    },
    "id": "QjZXlZrWAM6_"
   },
   "outputs": [],
   "source": [
    "catalog='../Data/ImageCat.txt'\n",
    "filename=np.genfromtxt(catalog,skip_header=1,dtype='U60',usecols=0)\n",
    "data=np.genfromtxt(catalog,skip_header =1, usecols=[1,2,3,4,5,6,7])  #filename\tlog(M/M_sun)\tr_2/kpc\tn\tq=b/a\tp=c/b\tphi/pi\ttheta/pi"
   ]
  },
  {
   "cell_type": "code",
   "execution_count": 7,
   "metadata": {
    "colab": {
     "base_uri": "https://localhost:8080/"
    },
    "executionInfo": {
     "elapsed": 18,
     "status": "ok",
     "timestamp": 1674142974324,
     "user": {
      "displayName": "Lucas Palazzolo",
      "userId": "17314445009769713077"
     },
     "user_tz": -60
    },
    "id": "ZH7Vz0fgA6zW",
    "outputId": "394029d2-1c91-4d6f-a1d8-545d6afeb172"
   },
   "outputs": [
    {
     "data": {
      "text/plain": [
       "((10120, 7), array([10.  ,  0.1 ,  1.01,  0.19,  0.38,  0.46,  0.29]))"
      ]
     },
     "execution_count": 7,
     "metadata": {},
     "output_type": "execute_result"
    }
   ],
   "source": [
    "data.shape, data[0,:]"
   ]
  },
  {
   "cell_type": "markdown",
   "metadata": {
    "id": "I5wDkWcMAAUp"
   },
   "source": [
    "### Treatment"
   ]
  },
  {
   "cell_type": "code",
   "execution_count": 3,
   "metadata": {
    "colab": {
     "base_uri": "https://localhost:8080/"
    },
    "executionInfo": {
     "elapsed": 8914,
     "status": "ok",
     "timestamp": 1674142983231,
     "user": {
      "displayName": "Lucas Palazzolo",
      "userId": "17314445009769713077"
     },
     "user_tz": -60
    },
    "id": "DiY5WhMMAbqX",
    "outputId": "33b496f2-0dd4-4729-85cb-ed2d9535332b"
   },
   "outputs": [],
   "source": [
    "R    = np.copy(data[:,1])\n",
    "n    = np.copy(data[:,2])"
   ]
  },
  {
   "cell_type": "code",
   "execution_count": 4,
   "metadata": {},
   "outputs": [],
   "source": [
    "def sigma_calc(n, R):\n",
    "    rho0 = 1\n",
    "\n",
    "    sigma = np.zeros((100, 100))\n",
    "\n",
    "    x = np.linspace(-1, 1, 100)\n",
    "    y = np.linspace(-1, 1, 100)\n",
    "    z = np.linspace(-1, 1, 100)\n",
    "\n",
    "    X_, Y_ = np.meshgrid(x, y) \n",
    "\n",
    "    for j in range(100) :\n",
    "        sigma[:][:] = sigma[:][:] + rho0 * np.exp( -2*n * (np.sqrt(X_**2 + Y_**2 + z[j]**2)/R)**(1/n) )\n",
    "        \n",
    "    return sigma"
   ]
  },
  {
   "cell_type": "markdown",
   "metadata": {
    "id": "5gQQoZEJCNnO"
   },
   "source": [
    "### Plot one galaxy"
   ]
  },
  {
   "cell_type": "markdown",
   "metadata": {
    "id": "Zl-MTs3SFjxM"
   },
   "source": [
    "### Spherical"
   ]
  },
  {
   "cell_type": "code",
   "execution_count": 5,
   "metadata": {
    "colab": {
     "base_uri": "https://localhost:8080/"
    },
    "executionInfo": {
     "elapsed": 422874,
     "status": "ok",
     "timestamp": 1674143406099,
     "user": {
      "displayName": "Lucas Palazzolo",
      "userId": "17314445009769713077"
     },
     "user_tz": -60
    },
    "id": "ACrjz6WlFntc",
    "outputId": "6489e6d0-5c74-409c-9630-00bf95c67f16"
   },
   "outputs": [],
   "source": [
    "sigma = sigma_calc(n,R)\n",
    "sigma = sigma.astype('float32') \n",
    "sigma = sigma[:,:,:,None]\n",
    "sigma.shape"
   ]
  },
  {
   "cell_type": "code",
   "execution_count": 8,
   "metadata": {},
   "outputs": [
    {
     "name": "stdout",
     "output_type": "stream",
     "text": [
      "The catalog comprises 10120 galaxies\n"
     ]
    }
   ],
   "source": [
    "Y = np.stack([R, n],axis=1)\n",
    "Y= Y.astype('float32')\n",
    "Y.shape, Y.dtype\n",
    "\n",
    "size = Y.shape[0] \n",
    "Y = Y[:size]\n",
    "\n",
    "D=np.copy(sigma)\n",
    "\n",
    "#Uncomment if log scale is wanted\n",
    "#D=np.zeros((sigma.shape[0],sigma.shape[1], sigma.shape[2],1)) \n",
    "#for i in range(size):\n",
    "#    D[i]=np.log10(sigma[i])\n",
    "\n",
    "D = D.astype('float32') \n",
    "\n",
    "ngal=np.shape(D)[0]\n",
    "print(\"The catalog comprises %i galaxies\"%ngal)"
   ]
  },
  {
   "cell_type": "code",
   "execution_count": 10,
   "metadata": {},
   "outputs": [
    {
     "data": {
      "text/plain": [
       "<matplotlib.colorbar.Colorbar at 0x7fbc6c6adc10>"
      ]
     },
     "execution_count": 10,
     "metadata": {},
     "output_type": "execute_result"
    },
    {
     "data": {
      "image/png": "[encoded data removed]",
      "text/plain": [
       "<Figure size 432x288 with 2 Axes>"
      ]
     },
     "metadata": {
      "needs_background": "light"
     },
     "output_type": "display_data"
    }
   ],
   "source": [
    "plt.imshow(D[1000])\n",
    "plt.colorbar()"
   ]
  },
  {
   "cell_type": "markdown",
   "metadata": {
    "id": "eKNIxtDy_syG"
   },
   "source": [
    "## Models"
   ]
  },
  {
   "cell_type": "markdown",
   "metadata": {
    "id": "rtHCfCm4_u2r"
   },
   "source": [
    "### Model 1 : Convolution"
   ]
  },
  {
   "cell_type": "code",
   "execution_count": 13,
   "metadata": {
    "executionInfo": {
     "elapsed": 16,
     "status": "ok",
     "timestamp": 1674143407167,
     "user": {
      "displayName": "Lucas Palazzolo",
      "userId": "17314445009769713077"
     },
     "user_tz": -60
    },
    "id": "gFuY1gLGl_hb"
   },
   "outputs": [],
   "source": [
    "class Model1(tf.keras.Model):\n",
    "\n",
    "    def __init__(self, dimout):\n",
    "        super().__init__()\n",
    "        self.layer1=tf.keras.layers.Conv2D(32, kernel_size=3, activation='relu', padding='same')\n",
    "        #self.dropout1=tf.keras.layers.Dropout(0.25)\n",
    "        self.layer2=tf.keras.layers.Conv2D(64, kernel_size=3, activation='relu', padding='same')\n",
    "        self.layer3=tf.keras.layers.Conv2D(128, kernel_size=3, activation='relu', padding='same')\n",
    "        self.layer4=tf.keras.layers.Conv2D(64, kernel_size=3, activation='relu', padding='same')\n",
    "        self.layer5=tf.keras.layers.Conv2D(32, kernel_size=3, activation='relu', padding='same')\n",
    "\n",
    "        self.flatten=tf.keras.layers.Flatten()\n",
    "        self.dense1=tf.keras.layers.Dense(1024,activation='relu')\n",
    "        self.dense2=tf.keras.layers.Dense(512,activation='relu')\n",
    "        self.dense3=tf.keras.layers.Dense(dimout)\n",
    "        print(f\"Dim out = {dimout}\")\n",
    "\n",
    "        self.max_pool=tf.keras.layers.MaxPooling2D(pool_size=(2, 2))\n",
    "\n",
    "\n",
    "    @tf.function\n",
    "    def call(self,X,training=True):\n",
    "\n",
    "        out=self.layer1(X)\n",
    "        #out=self.dropout1(out, training)\n",
    "        out=self.max_pool(out)\n",
    "        out=self.layer2(out)\n",
    "        out=self.max_pool(out)\n",
    "        out=self.layer3(out)\n",
    "        out=self.max_pool(out)\n",
    "        out=self.layer4(out)\n",
    "        out=self.max_pool(out)\n",
    "        out=self.layer5(out)\n",
    "        out=self.max_pool(out)\n",
    "\n",
    "        out=self.flatten(out)\n",
    "\n",
    "        out=self.dense1(out)\n",
    "        out=self.dense2(out)\n",
    "        \n",
    "        return self.dense3(out)\n",
    "\n"
   ]
  },
  {
   "cell_type": "markdown",
   "metadata": {
    "id": "YORWmrUhTlui"
   },
   "source": [
    "## Tests"
   ]
  },
  {
   "cell_type": "code",
   "execution_count": 16,
   "metadata": {
    "colab": {
     "base_uri": "https://localhost:8080/",
     "height": 285
    },
    "executionInfo": {
     "elapsed": 57,
     "status": "ok",
     "timestamp": 1674143410756,
     "user": {
      "displayName": "Lucas Palazzolo",
      "userId": "17314445009769713077"
     },
     "user_tz": -60
    },
    "id": "DOwfJ9QdDFb-",
    "outputId": "40060190-a5fb-4f12-c03f-8e36155b3f63"
   },
   "outputs": [
    {
     "name": "stdout",
     "output_type": "stream",
     "text": [
      "[0.9  1.19]\n"
     ]
    },
    {
     "data": {
      "image/png": "[encoded data removed]",
      "text/plain": [
       "<Figure size 432x288 with 1 Axes>"
      ]
     },
     "metadata": {
      "needs_background": "light"
     },
     "output_type": "display_data"
    }
   ],
   "source": [
    "#Relancer plusieurs fois la cellule pour voir que l'on permute aléatoirement les données\n",
    "shuffle= np.arange(D.shape[0])\n",
    "np.random.shuffle(shuffle)\n",
    "\n",
    "Y = Y[shuffle]\n",
    "D = D[shuffle]\n",
    "sigma = sigma[shuffle]\n",
    "\n",
    "print(Y[100])\n",
    "plt.imshow(D[100,:,:,0]);"
   ]
  },
  {
   "cell_type": "code",
   "execution_count": 17,
   "metadata": {
    "colab": {
     "base_uri": "https://localhost:8080/"
    },
    "executionInfo": {
     "elapsed": 40,
     "status": "ok",
     "timestamp": 1674143410757,
     "user": {
      "displayName": "Lucas Palazzolo",
      "userId": "17314445009769713077"
     },
     "user_tz": -60
    },
    "id": "5H6TcxQUU0sH",
    "outputId": "cadbbc35-4c9a-444e-9867-b3932db67a2d"
   },
   "outputs": [],
   "source": [
    "res_data = pd.DataFrame()\n",
    "\n",
    "l = len(D)\n",
    "train_size = int(0.7 * l)\n",
    "val_size = int(0.15 * l)\n",
    "\n",
    "X_train = D[:train_size]\n",
    "Y_train = Y[:train_size]\n",
    "\n",
    "X_val = D[train_size:train_size+val_size]\n",
    "Y_val = Y[train_size:train_size+val_size]\n",
    "\n",
    "X_test = D[train_size+val_size:]\n",
    "Y_test = Y[train_size+val_size:]"
   ]
  },
  {
   "cell_type": "markdown",
   "metadata": {
    "id": "dMsR-yRVon7H"
   },
   "source": [
    "### Parameter n"
   ]
  },
  {
   "cell_type": "markdown",
   "metadata": {
    "id": "ANcPfyu7pTM-"
   },
   "source": [
    "#### With normalization"
   ]
  },
  {
   "cell_type": "code",
   "execution_count": 19,
   "metadata": {
    "colab": {
     "base_uri": "https://localhost:8080/"
    },
    "executionInfo": {
     "elapsed": 9,
     "status": "ok",
     "timestamp": 1674142388326,
     "user": {
      "displayName": "Lucas Palazzolo",
      "userId": "17314445009769713077"
     },
     "user_tz": -60
    },
    "id": "GfFqWXXii8If",
    "outputId": "298586d1-bd71-4cbd-f931-4e62e6e7597c"
   },
   "outputs": [
    {
     "data": {
      "text/plain": [
       "((7084, 1), (1518, 1), (1518, 1))"
      ]
     },
     "execution_count": 19,
     "metadata": {},
     "output_type": "execute_result"
    }
   ],
   "source": [
    "Y_train_n = Y_train[:,1]\n",
    "Y_train_n = Y_train_n[:, None]\n",
    "\n",
    "Y_val_n = Y_val[:, 1]\n",
    "Y_val_n = Y_val_n[:, None]\n",
    "\n",
    "Y_test_n = Y_test[:, 1]\n",
    "Y_test_n = Y_test_n[:, None]\n",
    "\n",
    "Y_train_n.shape, Y_val_n.shape, Y_test_n.shape"
   ]
  },
  {
   "cell_type": "markdown",
   "metadata": {
    "id": "m7xcXiQ4Kcm0"
   },
   "source": [
    "##### Spherical"
   ]
  },
  {
   "cell_type": "code",
   "execution_count": 50,
   "metadata": {
    "colab": {
     "base_uri": "https://localhost:8080/"
    },
    "executionInfo": {
     "elapsed": 68,
     "status": "ok",
     "timestamp": 1674142597645,
     "user": {
      "displayName": "Lucas Palazzolo",
      "userId": "17314445009769713077"
     },
     "user_tz": -60
    },
    "id": "9IazcocnKe_6",
    "outputId": "79f41c52-bac3-4333-85e4-28665a4757df"
   },
   "outputs": [
    {
     "name": "stdout",
     "output_type": "stream",
     "text": [
      "Dim out = 1\n"
     ]
    },
    {
     "name": "stderr",
     "output_type": "stream",
     "text": [
      "2023-01-23 17:55:56.775710: I tensorflow/core/platform/cpu_feature_guard.cc:193] This TensorFlow binary is optimized with oneAPI Deep Neural Network Library (oneDNN) to use the following CPU instructions in performance-critical operations:  AVX2 FMA\n",
      "To enable them in other operations, rebuild TensorFlow with the appropriate compiler flags.\n"
     ]
    }
   ],
   "source": [
    "model1_spherical = Model1(1)\n",
    "\n",
    "model1_spherical.compile(\n",
    "    optimizer=tf.optimizers.Adam(1e-3),\n",
    "    loss = tf.keras.losses.MeanSquaredError(),\n",
    "    metrics = ['accuracy'] )"
   ]
  },
  {
   "cell_type": "code",
   "execution_count": 86,
   "metadata": {},
   "outputs": [],
   "source": [
    "checkpoint_filepath = './spherical_checkpoints/my_checkpoint_nolog'\n",
    "\n",
    "model_checkpoint_callback = tf.keras.callbacks.ModelCheckpoint(\n",
    "    filepath=checkpoint_filepath,\n",
    "    save_weights_only=True,\n",
    "    monitor='val_loss',\n",
    "    mode='min',\n",
    "    save_best_only=True)"
   ]
  },
  {
   "cell_type": "code",
   "execution_count": null,
   "metadata": {
    "colab": {
     "base_uri": "https://localhost:8080/"
    },
    "executionInfo": {
     "elapsed": 140478,
     "status": "ok",
     "timestamp": 1674142738972,
     "user": {
      "displayName": "Lucas Palazzolo",
      "userId": "17314445009769713077"
     },
     "user_tz": -60
    },
    "id": "Mi_NBSkBKrvn",
    "outputId": "a064436e-9c1a-4284-9b4b-b87d04e58213"
   },
   "outputs": [],
   "source": [
    "batch_size = 64\n",
    "nb_epoch = 30\n",
    "\n",
    "history = model1_spherical.fit(X_train, Y_train_n,\n",
    "    batch_size = batch_size, \n",
    "    epochs=nb_epoch,\n",
    "    validation_data=(X_val, Y_val_n),\n",
    "    callbacks=[model_checkpoint_callback])\n",
    "\n",
    "\n",
    "model1_spherical.load_weights(checkpoint_filepath)\n",
    "\n",
    "model1_spherical.save_weights(checkpoint_filepath)"
   ]
  },
  {
   "cell_type": "code",
   "execution_count": 21,
   "metadata": {},
   "outputs": [
    {
     "name": "stderr",
     "output_type": "stream",
     "text": [
      "2023-01-24 09:21:45.955532: I tensorflow/core/platform/cpu_feature_guard.cc:193] This TensorFlow binary is optimized with oneAPI Deep Neural Network Library (oneDNN) to use the following CPU instructions in performance-critical operations:  AVX2 FMA\n",
      "To enable them in other operations, rebuild TensorFlow with the appropriate compiler flags.\n"
     ]
    },
    {
     "name": "stdout",
     "output_type": "stream",
     "text": [
      "Dim out = 1\n",
      "222/222 - 10s - loss: 0.1116 - accuracy: 0.0024 - 10s/epoch - 47ms/step\n",
      "Restored model, accuracy:  0.24%\n"
     ]
    }
   ],
   "source": [
    "\n",
    "# Create a new model instance\n",
    "model1_spherical = Model1(1)\n",
    "\n",
    "# Restore the weights\n",
    "model1_spherical.load_weights('./spherical_checkpoints/my_checkpoint_nolog')\n",
    "model1_spherical.compile(\n",
    "    optimizer=tf.optimizers.Adam(1e-3),\n",
    "    loss = tf.keras.losses.MeanSquaredError(),\n",
    "    metrics = ['accuracy'] )\n",
    "\n",
    "# Evaluate the model\n",
    "loss, acc = model1_spherical.evaluate(X_train, Y_train_n, verbose=2)\n",
    "print(\"Restored model, accuracy: {:5.2f}%\".format(100 * acc))"
   ]
  },
  {
   "cell_type": "code",
   "execution_count": 88,
   "metadata": {
    "colab": {
     "base_uri": "https://localhost:8080/",
     "height": 295
    },
    "executionInfo": {
     "elapsed": 33,
     "status": "ok",
     "timestamp": 1674142738973,
     "user": {
      "displayName": "Lucas Palazzolo",
      "userId": "17314445009769713077"
     },
     "user_tz": -60
    },
    "id": "fj_4wiJvLz8C",
    "outputId": "fa2e2dd2-d11b-42c6-824c-6365ea56d364"
   },
   "outputs": [
    {
     "data": {
      "image/png": "[encoded data removed]",
      "text/plain": [
       "<Figure size 1080x288 with 2 Axes>"
      ]
     },
     "metadata": {
      "needs_background": "light"
     },
     "output_type": "display_data"
    }
   ],
   "source": [
    "plot_loss_acc(history)\n",
    "#plt.savefig('images/history_spherical_nolog.png', dpi=100)"
   ]
  },
  {
   "cell_type": "code",
   "execution_count": 22,
   "metadata": {
    "colab": {
     "base_uri": "https://localhost:8080/"
    },
    "executionInfo": {
     "elapsed": 29,
     "status": "ok",
     "timestamp": 1674142738974,
     "user": {
      "displayName": "Lucas Palazzolo",
      "userId": "17314445009769713077"
     },
     "user_tz": -60
    },
    "id": "No4-B8stL579",
    "outputId": "6afa9954-4454-457a-baab-d284da711493"
   },
   "outputs": [
    {
     "data": {
      "text/plain": [
       "TensorShape([1518, 1])"
      ]
     },
     "execution_count": 22,
     "metadata": {},
     "output_type": "execute_result"
    }
   ],
   "source": [
    "Y_pred_n_spherical = model1_spherical(X_test)\n",
    "Y_pred_n_spherical.shape"
   ]
  },
  {
   "cell_type": "code",
   "execution_count": null,
   "metadata": {},
   "outputs": [],
   "source": []
  },
  {
   "cell_type": "code",
   "execution_count": 23,
   "metadata": {},
   "outputs": [],
   "source": [
    "# TRACE THE RADIAL DENSITY PROFILE\n",
    "def radial_profile(data, center):\n",
    "    y,x = np.indices((data.shape)) # first determine radii of all pixels\n",
    "    r = np.sqrt((x-center[0])**2+(y-center[1])**2)\n",
    "    ind = np.argsort(r.flat) # get sorted indices\n",
    "    sr = r.flat[ind] # sorted radii\n",
    "    sim = data.flat[ind] # image values sorted by radii    \n",
    "    ri = sr.astype(np.int32) # integer part of radii (bin size = 1)\n",
    "    # determining distance between changes\n",
    "    deltar = ri[1:] - ri[:-1] # assume all radii represented\n",
    "    rind = np.where(deltar)[0] # location of changed radius\n",
    "    nr = rind[1:] - rind[:-1] # number in radius bin\n",
    "    csim = np.cumsum(sim, dtype=np.float64) # cumulative sum to figure out sums for each radii bin\n",
    "    tbin = csim[rind[1:]] - csim[rind[:-1]] # sum for image values in radius bins\n",
    "    radialprofile = tbin/nr # the answer\n",
    "    return radialprofile\n",
    "\n",
    "def deprojected_profile(data,center,PA_rad,AR):\n",
    "    y,x = np.indices((data.shape)) # first determine position of all pixels\n",
    "    x=x-center[0] # take center as origin\n",
    "    y=y-center[1]\n",
    "    xp=x*cos(PA_rad)+y*sin(PA_rad) # rotate by the position angle PA\n",
    "    yp=-x*sin(PA_rad)+y*cos(PA_rad)\n",
    "    rp=np.sqrt((xp/AR)**2+yp**2) # determine the deprojected radius\n",
    "    ind = np.argsort(rp.flat) # get sorted indices\n",
    "    sr = rp.flat[ind] # sorted radii\n",
    "    sim = data.flat[ind] # image values sorted by radii    \n",
    "    rpi = sr.astype(np.int32) # integer part of radii (bin size = 1)\n",
    "    # determining distance between changes\n",
    "    deltarp = rpi[1:] - rpi[:-1] # assume all radii represented\n",
    "    rpind = np.where(deltarp)[0] # location of changed radius\n",
    "    nrp = rpind[1:] - rpind[:-1] # number in radius bin\n",
    "    csim = np.cumsum(sim, dtype=np.float64) # cumulative sum to figure out sums for each radii bin\n",
    "    tbin = csim[rpind[1:]] - csim[rpind[:-1]] # sum for image values in radius bins\n",
    "    radialprofile = tbin/nrp # the answer\n",
    "    return radialprofile  \n",
    "\n",
    "def center_coord(model,center):\n",
    "    import re\n",
    "    limits=re.findall(\"\\d+\\d+\",model.header['FITSECT'])\n",
    "    xc=int(limits[0])+center[0]\n",
    "    yc=int(limits[2])+center[1]\n",
    "    return xc, yc"
   ]
  },
  {
   "cell_type": "code",
   "execution_count": 33,
   "metadata": {},
   "outputs": [
    {
     "data": {
      "image/png": "[encoded data removed]",
      "text/plain": [
       "<Figure size 720x360 with 2 Axes>"
      ]
     },
     "metadata": {
      "needs_background": "light"
     },
     "output_type": "display_data"
    }
   ],
   "source": [
    "fig, ax =  plt.subplots(1,1, figsize = (10,5))\n",
    "\n",
    "abscisse=np.linspace(0,np.max(Y_test_n[:,0]),1000)\n",
    "\n",
    "im = ax.scatter(Y_test_n[:,0],Y_pred_n_spherical[:,0],c=Y_test[:,0],edgecolors=None,alpha=0.7,marker='.',cmap='jet')\n",
    "ax.plot(abscisse, abscisse, 'k')\n",
    "ax.set_xlabel('Test : n', size=12)\n",
    "ax.set_ylabel('Prediction : n', size=12)\n",
    "ax.set_title('Spherical case')\n",
    "fig.colorbar(im, ax=ax, orientation='vertical', label='R')\n",
    "\n",
    "#plt.savefig('pred_spher.png', dpi=100)"
   ]
  },
  {
   "cell_type": "code",
   "execution_count": 50,
   "metadata": {},
   "outputs": [
    {
     "data": {
      "image/png": "[encoded data removed]",
      "text/plain": [
       "<Figure size 1080x360 with 2 Axes>"
      ]
     },
     "metadata": {
      "needs_background": "light"
     },
     "output_type": "display_data"
    }
   ],
   "source": [
    "fig, ax =  plt.subplots(1,2, figsize = (15,5))\n",
    "\n",
    "i=38\n",
    "\n",
    "sigma_train = sigma_calc(Y_test_n[i], Y_test[i, 0])\n",
    "sigma_pred = sigma_calc(Y_pred_n_spherical[i], Y_test[i, 0])\n",
    "\n",
    "center = [50,50]\n",
    "radial_image_train=radial_profile(sigma_train,center)\n",
    "radial_image_pred=radial_profile(sigma_pred,center)\n",
    "radius=range(len(radial_image_train))\n",
    "\n",
    "ax[0].plot(np.array(radius),radial_image_train,color='black', linestyle='--',linewidth=2,label=r'$\\Sigma training$')\n",
    "ax[0].plot(np.array(radius),radial_image_pred,color='red',linewidth=2,label=r'$\\Sigma predicted$')\n",
    "ax[0].set_xlabel('Radius')\n",
    "ax[0].set_ylabel('Light density')\n",
    "ax[0].legend()\n",
    "\n",
    "\n",
    "ax[0].text(47, 1.8e-5, 'n train : %s; \\nn predicted : %s'%(Y_test_n[i], np.array(Y_pred_n_spherical[i])), fontsize=12,\n",
    "          bbox=dict(facecolor='grey', alpha=0.2))\n",
    "\n",
    "\n",
    "i=42\n",
    "\n",
    "sigma_train = sigma_calc(Y_test_n[i], Y_test[i, 0])\n",
    "sigma_pred = sigma_calc(Y_pred_n_spherical[i], Y_test[i, 0])\n",
    "\n",
    "radial_image_train=radial_profile(sigma_train,center)\n",
    "radial_image_pred=radial_profile(sigma_pred,center)\n",
    "radius=range(len(radial_image_train))\n",
    "\n",
    "ax[1].plot(np.array(radius),radial_image_train,color='black', linestyle='--',linewidth=2,label=r'$\\Sigma training$')\n",
    "ax[1].plot(np.array(radius),radial_image_pred,color='red',linewidth=2,label=r'$\\Sigma predicted$')\n",
    "ax[1].set_xlabel('Radius')\n",
    "ax[1].set_ylabel('Light density')\n",
    "ax[1].legend()\n",
    "\n",
    "ax[1].text(47, 0.7, 'n train : %s; \\nn predicted : %s'%(Y_test_n[i], np.array(Y_pred_n_spherical[i])), fontsize=12,\n",
    "          bbox=dict(facecolor='grey', alpha=0.2))\n",
    "\n",
    "#plt.savefig('images/comp_profils.png', dpi=100)"
   ]
  },
  {
   "cell_type": "markdown",
   "metadata": {
    "id": "9SwvUCR6d96Z"
   },
   "source": [
    "### Parameter R"
   ]
  },
  {
   "cell_type": "markdown",
   "metadata": {
    "id": "qC-yIahYd96a"
   },
   "source": [
    "#### Initial"
   ]
  },
  {
   "cell_type": "code",
   "execution_count": 43,
   "metadata": {
    "colab": {
     "base_uri": "https://localhost:8080/"
    },
    "executionInfo": {
     "elapsed": 32,
     "status": "ok",
     "timestamp": 1674143410758,
     "user": {
      "displayName": "Lucas Palazzolo",
      "userId": "17314445009769713077"
     },
     "user_tz": -60
    },
    "id": "zBRAdWh1d96a",
    "outputId": "3d2dc5bb-79fe-4bb7-b4a0-5d6e07500e9b"
   },
   "outputs": [
    {
     "data": {
      "text/plain": [
       "((7084, 1), (1518, 1), (1518, 1))"
      ]
     },
     "execution_count": 43,
     "metadata": {},
     "output_type": "execute_result"
    }
   ],
   "source": [
    "Y_train_R = Y_train[:,0]\n",
    "Y_train_R = Y_train_R[:, None]\n",
    "\n",
    "Y_val_R = Y_val[:, 0]\n",
    "Y_val_R = Y_val_R[:, None]\n",
    "\n",
    "Y_test_R = Y_test[:, 0]\n",
    "Y_test_R = Y_test_R[:, None]\n",
    "\n",
    "Y_train_R.shape, Y_val_R.shape, Y_test_R.shape"
   ]
  },
  {
   "cell_type": "code",
   "execution_count": 44,
   "metadata": {
    "colab": {
     "base_uri": "https://localhost:8080/"
    },
    "executionInfo": {
     "elapsed": 25,
     "status": "ok",
     "timestamp": 1674143410759,
     "user": {
      "displayName": "Lucas Palazzolo",
      "userId": "17314445009769713077"
     },
     "user_tz": -60
    },
    "id": "TNEqEfV_d96b",
    "outputId": "64386053-2115-4d6e-b19e-32763982da71"
   },
   "outputs": [
    {
     "name": "stdout",
     "output_type": "stream",
     "text": [
      "Dim out = 1\n"
     ]
    }
   ],
   "source": [
    "checkpoint_filepath = '/tmp/checkpoint'\n",
    "model_checkpoint_callback = tf.keras.callbacks.ModelCheckpoint(\n",
    "    filepath=checkpoint_filepath,\n",
    "    save_weights_only=True,\n",
    "    monitor='val_loss',\n",
    "    mode='min',\n",
    "    save_best_only=True)\n",
    "\n",
    "model_R = Model1(1)\n",
    "\n",
    "model_R.compile(\n",
    "    optimizer=tf.optimizers.Adam(1e-3),\n",
    "    loss = tf.keras.losses.MeanSquaredError(),\n",
    "    metrics = ['accuracy'] )"
   ]
  },
  {
   "cell_type": "raw",
   "metadata": {
    "colab": {
     "base_uri": "https://localhost:8080/"
    },
    "executionInfo": {
     "elapsed": 142189,
     "status": "ok",
     "timestamp": 1674143553589,
     "user": {
      "displayName": "Lucas Palazzolo",
      "userId": "17314445009769713077"
     },
     "user_tz": -60
    },
    "id": "hywFfOGdd96b",
    "outputId": "62aa596d-2cae-4a13-b9f0-3c3fe4bad160"
   },
   "source": [
    "batch_size = 64\n",
    "nb_epoch = 30\n",
    "\n",
    "history = model_R.fit(X_train, Y_train_R,\n",
    "    batch_size = batch_size, \n",
    "    epochs=nb_epoch,\n",
    "    validation_data=(X_val, Y_val_R),\n",
    "    callbacks=[model_checkpoint_callback])\n",
    "\n",
    "\n",
    "model_R.load_weights(checkpoint_filepath)"
   ]
  },
  {
   "cell_type": "code",
   "execution_count": 47,
   "metadata": {
    "colab": {
     "base_uri": "https://localhost:8080/",
     "height": 295
    },
    "executionInfo": {
     "elapsed": 21,
     "status": "ok",
     "timestamp": 1674143553590,
     "user": {
      "displayName": "Lucas Palazzolo",
      "userId": "17314445009769713077"
     },
     "user_tz": -60
    },
    "id": "GzhSIdoBd96b",
    "outputId": "9664a749-f6f1-4594-bc69-269835e30d70"
   },
   "outputs": [
    {
     "data": {
      "image/png": "[encoded data removed]",
      "text/plain": [
       "<Figure size 1080x288 with 2 Axes>"
      ]
     },
     "metadata": {
      "needs_background": "light"
     },
     "output_type": "display_data"
    }
   ],
   "source": [
    "plot_loss_acc(history)\n",
    "#plt.savefig('images/history_R.png', dpi=100)"
   ]
  },
  {
   "cell_type": "code",
   "execution_count": 48,
   "metadata": {},
   "outputs": [],
   "source": [
    "# Save the weights\n",
    "model_R.save_weights('./checkpoints/my_checkpoint_R')"
   ]
  },
  {
   "cell_type": "code",
   "execution_count": 49,
   "metadata": {
    "colab": {
     "base_uri": "https://localhost:8080/"
    },
    "executionInfo": {
     "elapsed": 2710,
     "status": "ok",
     "timestamp": 1674143556285,
     "user": {
      "displayName": "Lucas Palazzolo",
      "userId": "17314445009769713077"
     },
     "user_tz": -60
    },
    "id": "6QeheGUwqe9l",
    "outputId": "e8d5e3f1-a52a-4d1a-b07c-10f120ec45fb"
   },
   "outputs": [
    {
     "data": {
      "text/plain": [
       "TensorShape([1518, 1])"
      ]
     },
     "execution_count": 49,
     "metadata": {},
     "output_type": "execute_result"
    }
   ],
   "source": [
    "Y_pred_R = model_R(X_test)\n",
    "Y_pred_R.shape"
   ]
  },
  {
   "cell_type": "code",
   "execution_count": 50,
   "metadata": {
    "colab": {
     "base_uri": "https://localhost:8080/",
     "height": 297
    },
    "executionInfo": {
     "elapsed": 965,
     "status": "ok",
     "timestamp": 1674143580761,
     "user": {
      "displayName": "Lucas Palazzolo",
      "userId": "17314445009769713077"
     },
     "user_tz": -60
    },
    "id": "MRoPaUlZd96c",
    "outputId": "87fb0052-c18a-46f0-9fde-104d12d270c7"
   },
   "outputs": [
    {
     "data": {
      "image/png": "[encoded data removed]",
      "text/plain": [
       "<Figure size 720x288 with 1 Axes>"
      ]
     },
     "metadata": {
      "needs_background": "light"
     },
     "output_type": "display_data"
    }
   ],
   "source": [
    "plot_test_pred(Y_test_R, Y_pred_R, [\"R\"])"
   ]
  },
  {
   "cell_type": "code",
   "execution_count": null,
   "metadata": {
    "colab": {
     "base_uri": "https://localhost:8080/",
     "height": 1000
    },
    "executionInfo": {
     "elapsed": 5254,
     "status": "ok",
     "timestamp": 1674143592212,
     "user": {
      "displayName": "Lucas Palazzolo",
      "userId": "17314445009769713077"
     },
     "user_tz": -60
    },
    "id": "KmXpxZMvd96d",
    "outputId": "6e50af30-8537-4a46-c8e6-1069bf79d3d7"
   },
   "outputs": [],
   "source": [
    "fig, axs = plt.subplots(5,1, figsize=(10,20))\n",
    "\n",
    "axs[0].set_title(\"R corr with n\")\n",
    "axs[0].scatter(Y_test_R[:,0],Y_pred_R[:,0],c=Y_test[:,1],edgecolors=None,alpha=0.7,marker='o',cmap='jet')\n",
    "abscisse=np.linspace(0,np.max(Y_test_R[:,0]),1000)\n",
    "axs[0].plot(abscisse, abscisse, 'k')\n",
    "axs[0].set_xlabel('Test')\n",
    "axs[0].set_ylabel('Pred')\n",
    "\n",
    "axs[1].set_title(\"R corr with q\")\n",
    "axs[1].scatter(Y_test_R[:,0],Y_pred_R[:,0],c=Y_test[:,2],edgecolors=None,alpha=0.7,marker='o',cmap='jet')\n",
    "abscisse=np.linspace(0,np.max(Y_test_R[:,0]),1000)\n",
    "axs[1].plot(abscisse, abscisse, 'k')\n",
    "axs[1].set_xlabel('Test')\n",
    "axs[1].set_ylabel('Pred')\n",
    "\n",
    "axs[2].set_title(\"R corr with p\")\n",
    "axs[2].scatter(Y_test_R[:,0],Y_pred_R[:,0],c=Y_test[:,3],edgecolors=None,alpha=0.7,marker='o',cmap='jet')\n",
    "abscisse=np.linspace(0,np.max(Y_test_R[:,0]),1000)\n",
    "axs[2].plot(abscisse, abscisse, 'k')\n",
    "axs[2].set_xlabel('Test')\n",
    "axs[2].set_ylabel('Pred')\n",
    "\n",
    "axs[3].set_title(r\"R corr with $\\phi$\")\n",
    "axs[3].scatter(Y_test_R[:,0],Y_pred_R[:,0],c=Y_test[:,4],edgecolors=None,alpha=0.7,marker='o',cmap='jet')\n",
    "abscisse=np.linspace(0,np.max(Y_test_R[:,0]),1000)\n",
    "axs[3].plot(abscisse, abscisse, 'k')\n",
    "axs[3].set_xlabel('Test')\n",
    "axs[3].set_ylabel('Pred')\n",
    "\n",
    "axs[4].set_title(r\"R corr with $\\theta$\")\n",
    "axs[4].scatter(Y_test_R[:,0],Y_pred_R[:,0],c=Y_test[:,5],edgecolors=None,alpha=0.7,marker='o',cmap='jet')\n",
    "abscisse=np.linspace(0,np.max(Y_test_R[:,0]),1000)\n",
    "axs[4].plot(abscisse, abscisse, 'k')\n",
    "axs[4].set_xlabel('Test')\n",
    "axs[4].set_ylabel('Pred')\n",
    "\n",
    "\n",
    "plt.tight_layout()"
   ]
  },
  {
   "cell_type": "code",
   "execution_count": null,
   "metadata": {
    "colab": {
     "base_uri": "https://localhost:8080/",
     "height": 297
    },
    "executionInfo": {
     "elapsed": 1040,
     "status": "ok",
     "timestamp": 1674143593241,
     "user": {
      "displayName": "Lucas Palazzolo",
      "userId": "17314445009769713077"
     },
     "user_tz": -60
    },
    "id": "dKI_1YVfd96d",
    "outputId": "d3dde6ea-943f-43b6-e8f5-53fed759fa9e"
   },
   "outputs": [],
   "source": [
    "plot_test_pred_corr(Y_test_R,Y_pred_R, [\"R corr with R\"], Y_test[:,0])"
   ]
  },
  {
   "cell_type": "markdown",
   "metadata": {
    "id": "Hm43iGmU7jyD"
   },
   "source": [
    "#### Spherical"
   ]
  },
  {
   "cell_type": "code",
   "execution_count": null,
   "metadata": {
    "colab": {
     "base_uri": "https://localhost:8080/"
    },
    "executionInfo": {
     "elapsed": 3,
     "status": "ok",
     "timestamp": 1674147299630,
     "user": {
      "displayName": "Lucas Palazzolo",
      "userId": "17314445009769713077"
     },
     "user_tz": -60
    },
    "id": "LIl-xt_H73H1",
    "outputId": "ca2f1495-c719-478c-f8d4-6445b48a0eaa"
   },
   "outputs": [],
   "source": [
    "modelR_spherical = Model1(1)\n",
    "\n",
    "modelR_spherical.compile(\n",
    "    optimizer=tf.optimizers.Adam(1e-4),\n",
    "    loss = tf.keras.losses.MeanSquaredError(),\n",
    "    metrics = ['accuracy'] )"
   ]
  },
  {
   "cell_type": "code",
   "execution_count": null,
   "metadata": {
    "colab": {
     "base_uri": "https://localhost:8080/"
    },
    "executionInfo": {
     "elapsed": 262793,
     "status": "ok",
     "timestamp": 1674147563174,
     "user": {
      "displayName": "Lucas Palazzolo",
      "userId": "17314445009769713077"
     },
     "user_tz": -60
    },
    "id": "Sq9vKKN273H2",
    "outputId": "2db84417-5d3a-4078-df1b-897e3cef37e6"
   },
   "outputs": [],
   "source": [
    "batch_size = 64\n",
    "nb_epoch = 70\n",
    "\n",
    "history = modelR_spherical.fit(X_spher_train, Y_train_R,\n",
    "    batch_size = batch_size, \n",
    "    epochs=nb_epoch,\n",
    "    validation_data=(X_spher_val, Y_val_R),\n",
    "    callbacks=[model_checkpoint_callback])\n",
    "\n",
    "\n",
    "modelR_spherical.load_weights(checkpoint_filepath)"
   ]
  },
  {
   "cell_type": "code",
   "execution_count": null,
   "metadata": {
    "colab": {
     "base_uri": "https://localhost:8080/",
     "height": 295
    },
    "executionInfo": {
     "elapsed": 17,
     "status": "ok",
     "timestamp": 1674147563175,
     "user": {
      "displayName": "Lucas Palazzolo",
      "userId": "17314445009769713077"
     },
     "user_tz": -60
    },
    "id": "XY8YiVhc73H2",
    "outputId": "df79d796-70f9-4e55-dccf-ed7dcc90d18e"
   },
   "outputs": [],
   "source": [
    "plot_loss_acc(history)"
   ]
  },
  {
   "cell_type": "code",
   "execution_count": null,
   "metadata": {
    "colab": {
     "base_uri": "https://localhost:8080/"
    },
    "executionInfo": {
     "elapsed": 14,
     "status": "ok",
     "timestamp": 1674147563176,
     "user": {
      "displayName": "Lucas Palazzolo",
      "userId": "17314445009769713077"
     },
     "user_tz": -60
    },
    "id": "ejgz3KKq73H3",
    "outputId": "98ba9c2e-2d7d-46d9-c443-141770f7e276"
   },
   "outputs": [],
   "source": [
    "Y_pred_R_spherical = modelR_spherical(X_spher_test)\n",
    "Y_pred_R_spherical.shape"
   ]
  },
  {
   "cell_type": "code",
   "execution_count": null,
   "metadata": {
    "colab": {
     "base_uri": "https://localhost:8080/",
     "height": 297
    },
    "executionInfo": {
     "elapsed": 736,
     "status": "ok",
     "timestamp": 1674147563904,
     "user": {
      "displayName": "Lucas Palazzolo",
      "userId": "17314445009769713077"
     },
     "user_tz": -60
    },
    "id": "9vAdIwsK73H3",
    "outputId": "c9d97093-a13a-48cc-dcb3-6ee194477482"
   },
   "outputs": [],
   "source": [
    "plot_test_pred(Y_test_R, Y_pred_R_spherical, [\"R\"])"
   ]
  },
  {
   "cell_type": "code",
   "execution_count": null,
   "metadata": {
    "colab": {
     "base_uri": "https://localhost:8080/",
     "height": 297
    },
    "executionInfo": {
     "elapsed": 787,
     "status": "ok",
     "timestamp": 1674147564683,
     "user": {
      "displayName": "Lucas Palazzolo",
      "userId": "17314445009769713077"
     },
     "user_tz": -60
    },
    "id": "F6I7M7uO73H4",
    "outputId": "df2cd83d-f8fc-4801-96bb-e62e1906d26f"
   },
   "outputs": [],
   "source": [
    "plot_test_pred_corr(Y_test_R,Y_pred_R_spherical, [\"R corr with n\"], Y_test[:,1])"
   ]
  },
  {
   "cell_type": "code",
   "execution_count": null,
   "metadata": {
    "id": "iiwCLR5X7mmi"
   },
   "outputs": [],
   "source": []
  },
  {
   "cell_type": "code",
   "execution_count": null,
   "metadata": {
    "id": "r89Ou5GHJPxx"
   },
   "outputs": [],
   "source": []
  }
 ],
 "metadata": {
  "accelerator": "GPU",
  "colab": {
   "authorship_tag": "ABX9TyPfZVuTEywtDLfMJLyNbQRu",
   "provenance": [],
   "toc_visible": true
  },
  "gpuClass": "standard",
  "kernelspec": {
   "display_name": "Python 3 (ipykernel)",
   "language": "python",
   "name": "python3"
  },
  "language_info": {
   "codemirror_mode": {
    "name": "ipython",
    "version": 3
   },
   "file_extension": ".py",
   "mimetype": "text/x-python",
   "name": "python",
   "nbconvert_exporter": "python",
   "pygments_lexer": "ipython3",
   "version": "3.9.12"
  }
 },
 "nbformat": 4,
 "nbformat_minor": 1
}
